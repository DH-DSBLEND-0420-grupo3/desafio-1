{
 "cells": [
  {
   "cell_type": "code",
   "execution_count": 3,
   "metadata": {},
   "outputs": [
    {
     "name": "stdout",
     "output_type": "stream",
     "text": [
      "Running command `conda list`... ok\n",
      "pandas=1.0.3 already installed\n",
      "matplotlib=2.2.2 already installed\n",
      "bokeh=2.0.0 already installed\n",
      "seaborn=0.10.0 already installed\n",
      "ipywidgets=7.5.1 already installed\n",
      "pytest=5.3.4 already installed\n",
      "chardet=3.0.4 already installed\n",
      "plotly=4.6.0 already installed\n",
      "Running command `conda install --yes chart-studio=1.1.0`... error\n",
      "    \n",
      "PackagesNotFoundError: The following packages are not available from current channels:\n",
      "\n",
      "  - chart-studio=1.1.0\n",
      "\n",
      "Current channels:\n",
      "\n",
      "  - https://repo.anaconda.com/pkgs/main/linux-64\n",
      "  - https://repo.anaconda.com/pkgs/main/noarch\n",
      "  - https://repo.anaconda.com/pkgs/r/linux-64\n",
      "  - https://repo.anaconda.com/pkgs/r/noarch\n",
      "\n",
      "To search for alternate channels that may provide the conda package you're\n",
      "looking for, navigate to\n",
      "\n",
      "    https://anaconda.org\n",
      "\n",
      "and use the search bar at the top of the page.\n",
      "\n",
      "\n",
      "\n"
     ]
    }
   ],
   "source": [
    "# initial setup\n",
    "try:\n",
    "    # settings colab:\n",
    "    import google.colab\n",
    "    \n",
    "    # si usan colab, deben cambiar el token de esta url\n",
    "    #! mkdir -p ../data\n",
    "    # los que usan colab deben modificar el token de esta url:\n",
    "    #! wget -O ../data/properati_2017.csv https://raw.githubusercontent.com/Digital-House-DATA/ds_blend_students_2020/master/M2/CLASE_07_Pandas_2/Data/resultado-de-encuestas-2017-2018.csv?token=AA4GFHO3EKGWGILBCV4BISC6WR6B4\n",
    "    \n",
    "except ModuleNotFoundError:    \n",
    "    # settings local:\n",
    "    %run \"common/base_setup.py\""
   ]
  },
  {
   "cell_type": "markdown",
   "metadata": {},
   "source": [
    "## Carga Inicial del Dataset"
   ]
  },
  {
   "cell_type": "code",
   "execution_count": 45,
   "metadata": {},
   "outputs": [],
   "source": [
    "import pandas as pd\n",
    "import numpy as np"
   ]
  },
  {
   "cell_type": "code",
   "execution_count": 46,
   "metadata": {},
   "outputs": [],
   "source": [
    "data   = pd.read_csv(\"./data/properati-fase3.csv\", sep = \",\", low_memory=False)\n",
    "subtes = pd.read_csv(\"./data/estaciones-de-subte.csv\", sep = \",\", low_memory=False)\n",
    "\n",
    "data[\"c_lat\"] = data[\"c_lat\"].astype(np.float)\n",
    "data[\"c_lng\"] = data[\"c_lng\"].astype(np.float)"
   ]
  },
  {
   "cell_type": "markdown",
   "metadata": {},
   "source": [
    "## Aplicacion de distancias al subte"
   ]
  },
  {
   "cell_type": "markdown",
   "metadata": {},
   "source": [
    "**NOTA**: esta distancia sólo la vamos a calcular para *Capital Federal*."
   ]
  },
  {
   "cell_type": "code",
   "execution_count": 30,
   "metadata": {},
   "outputs": [],
   "source": [
    "def haversine(Olat, Olon, Dlat, Dlon):\n",
    "    radius = 6371.  # km\n",
    "    d_lat = np.radians(Dlat - Olat)\n",
    "    d_lon = np.radians(Dlon - Olon)\n",
    "    a = (np.sin(d_lat / 2.) * np.sin(d_lat / 2.) +\n",
    "         np.cos(np.radians(Olat)) * np.cos(np.radians(Dlat)) *\n",
    "         np.sin(d_lon / 2.) * np.sin(d_lon / 2.))\n",
    "    c = 2. * np.arctan2(np.sqrt(a), np.sqrt(1. - a))\n",
    "    d = radius * c\n",
    "    return d\n",
    "\n",
    "def search_closest_distance(datasubte, lat, long):\n",
    "    datasubte['dist'] = datasubte.apply(lambda x: haversine(x['lat'], x['long'], lat, long), axis=1)\n",
    "    return datasubte['dist'].min()"
   ]
  },
  {
   "cell_type": "markdown",
   "metadata": {},
   "source": [
    "Aplicamos efectivamente el cálculo de la distancia al subte.\n",
    "\n",
    "**NOTA**: Este proceso es muy pesado."
   ]
  },
  {
   "cell_type": "code",
   "execution_count": 31,
   "metadata": {},
   "outputs": [],
   "source": [
    "def apply_distance(x):\n",
    "    if x['c_lat'] is np.nan:\n",
    "        return 0\n",
    "    if x['c_lng'] is np.nan:\n",
    "        return 0\n",
    "    if x['c_estado'] != 'Capital Federal':\n",
    "        return 0\n",
    "    return search_closest_distance(subtes, x['c_lat'], x['c_lng'])\n",
    "data['dist_subte'] = data.apply(apply_distance, axis=1)"
   ]
  },
  {
   "cell_type": "markdown",
   "metadata": {},
   "source": [
    "Finalmente, visualizamos algunos de los resultados:"
   ]
  },
  {
   "cell_type": "code",
   "execution_count": 42,
   "metadata": {},
   "outputs": [
    {
     "data": {
      "text/html": [
       "<div>\n",
       "<style scoped>\n",
       "    .dataframe tbody tr th:only-of-type {\n",
       "        vertical-align: middle;\n",
       "    }\n",
       "\n",
       "    .dataframe tbody tr th {\n",
       "        vertical-align: top;\n",
       "    }\n",
       "\n",
       "    .dataframe thead th {\n",
       "        text-align: right;\n",
       "    }\n",
       "</style>\n",
       "<table border=\"1\" class=\"dataframe\">\n",
       "  <thead>\n",
       "    <tr style=\"text-align: right;\">\n",
       "      <th></th>\n",
       "      <th>id</th>\n",
       "      <th>c_lat</th>\n",
       "      <th>c_lng</th>\n",
       "      <th>dist_subte</th>\n",
       "    </tr>\n",
       "  </thead>\n",
       "  <tbody>\n",
       "    <tr>\n",
       "      <th>0</th>\n",
       "      <td>0</td>\n",
       "      <td>-34.661824</td>\n",
       "      <td>-58.508839</td>\n",
       "      <td>4.781915</td>\n",
       "    </tr>\n",
       "    <tr>\n",
       "      <th>1</th>\n",
       "      <td>2</td>\n",
       "      <td>-34.652262</td>\n",
       "      <td>-58.522982</td>\n",
       "      <td>5.436760</td>\n",
       "    </tr>\n",
       "    <tr>\n",
       "      <th>4</th>\n",
       "      <td>7</td>\n",
       "      <td>-34.559873</td>\n",
       "      <td>-58.443362</td>\n",
       "      <td>1.068329</td>\n",
       "    </tr>\n",
       "    <tr>\n",
       "      <th>5</th>\n",
       "      <td>8</td>\n",
       "      <td>-34.559873</td>\n",
       "      <td>-58.443362</td>\n",
       "      <td>1.068329</td>\n",
       "    </tr>\n",
       "    <tr>\n",
       "      <th>7</th>\n",
       "      <td>13</td>\n",
       "      <td>-34.588560</td>\n",
       "      <td>-58.430530</td>\n",
       "      <td>1.167057</td>\n",
       "    </tr>\n",
       "  </tbody>\n",
       "</table>\n",
       "</div>"
      ],
      "text/plain": [
       "   id      c_lat      c_lng  dist_subte\n",
       "0   0 -34.661824 -58.508839    4.781915\n",
       "1   2 -34.652262 -58.522982    5.436760\n",
       "4   7 -34.559873 -58.443362    1.068329\n",
       "5   8 -34.559873 -58.443362    1.068329\n",
       "7  13 -34.588560 -58.430530    1.167057"
      ]
     },
     "execution_count": 42,
     "metadata": {},
     "output_type": "execute_result"
    }
   ],
   "source": [
    "subtes_mask = data['c_lat'].notna() & data['c_lng'].notna() & (data['c_estado'] == 'Capital Federal')\n",
    "data.loc[subtes_mask, ['id', 'c_lat', 'c_lng', 'dist_subte']].head()"
   ]
  },
  {
   "cell_type": "markdown",
   "metadata": {},
   "source": [
    "Y corroboramos que a aquellos registros que no son de *Capital Federal* les hayamos asignado **0**."
   ]
  },
  {
   "cell_type": "code",
   "execution_count": 43,
   "metadata": {},
   "outputs": [
    {
     "data": {
      "text/html": [
       "<div>\n",
       "<style scoped>\n",
       "    .dataframe tbody tr th:only-of-type {\n",
       "        vertical-align: middle;\n",
       "    }\n",
       "\n",
       "    .dataframe tbody tr th {\n",
       "        vertical-align: top;\n",
       "    }\n",
       "\n",
       "    .dataframe thead th {\n",
       "        text-align: right;\n",
       "    }\n",
       "</style>\n",
       "<table border=\"1\" class=\"dataframe\">\n",
       "  <thead>\n",
       "    <tr style=\"text-align: right;\">\n",
       "      <th></th>\n",
       "      <th>id</th>\n",
       "      <th>c_lat</th>\n",
       "      <th>c_lng</th>\n",
       "      <th>dist_subte</th>\n",
       "    </tr>\n",
       "  </thead>\n",
       "  <tbody>\n",
       "    <tr>\n",
       "      <th>2</th>\n",
       "      <td>4</td>\n",
       "      <td>-38.002626</td>\n",
       "      <td>-57.549447</td>\n",
       "      <td>0.0</td>\n",
       "    </tr>\n",
       "    <tr>\n",
       "      <th>3</th>\n",
       "      <td>6</td>\n",
       "      <td>-34.532957</td>\n",
       "      <td>-58.521782</td>\n",
       "      <td>0.0</td>\n",
       "    </tr>\n",
       "    <tr>\n",
       "      <th>6</th>\n",
       "      <td>12</td>\n",
       "      <td>-34.486019</td>\n",
       "      <td>-58.503814</td>\n",
       "      <td>0.0</td>\n",
       "    </tr>\n",
       "    <tr>\n",
       "      <th>9</th>\n",
       "      <td>15</td>\n",
       "      <td>-34.587911</td>\n",
       "      <td>-58.698783</td>\n",
       "      <td>0.0</td>\n",
       "    </tr>\n",
       "    <tr>\n",
       "      <th>11</th>\n",
       "      <td>17</td>\n",
       "      <td>-34.408717</td>\n",
       "      <td>-58.634389</td>\n",
       "      <td>0.0</td>\n",
       "    </tr>\n",
       "  </tbody>\n",
       "</table>\n",
       "</div>"
      ],
      "text/plain": [
       "    id      c_lat      c_lng  dist_subte\n",
       "2    4 -38.002626 -57.549447         0.0\n",
       "3    6 -34.532957 -58.521782         0.0\n",
       "6   12 -34.486019 -58.503814         0.0\n",
       "9   15 -34.587911 -58.698783         0.0\n",
       "11  17 -34.408717 -58.634389         0.0"
      ]
     },
     "execution_count": 43,
     "metadata": {},
     "output_type": "execute_result"
    }
   ],
   "source": [
    "nosubtes_mask = data['c_lat'].notna() & data['c_lng'].notna() & (data['c_estado'] != 'Capital Federal')\n",
    "data.loc[nosubtes_mask, ['id', 'c_lat', 'c_lng', 'dist_subte']].head()"
   ]
  },
  {
   "cell_type": "code",
   "execution_count": 44,
   "metadata": {},
   "outputs": [],
   "source": [
    "data.to_csv('./data/properati-fase4.csv', sep=',', index=False)"
   ]
  }
 ],
 "metadata": {
  "kernelspec": {
   "display_name": "Python 3",
   "language": "python",
   "name": "python3"
  },
  "language_info": {
   "codemirror_mode": {
    "name": "ipython",
    "version": 3
   },
   "file_extension": ".py",
   "mimetype": "text/x-python",
   "name": "python",
   "nbconvert_exporter": "python",
   "pygments_lexer": "ipython3",
   "version": "3.7.6"
  }
 },
 "nbformat": 4,
 "nbformat_minor": 4
}
