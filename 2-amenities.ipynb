{
 "cells": [
  {
   "cell_type": "code",
   "execution_count": 1,
   "metadata": {
    "scrolled": true
   },
   "outputs": [
    {
     "name": "stdout",
     "output_type": "stream",
     "text": [
      "Running command `conda list`... ok\n",
      "pandas=1.0.3 already installed\n",
      "matplotlib=2.2.2 already installed\n",
      "bokeh=2.0.0 already installed\n",
      "seaborn=0.10.0 already installed\n",
      "ipywidgets=7.5.1 already installed\n",
      "pytest=5.3.4 already installed\n",
      "chardet=3.0.4 already installed\n",
      "plotly=4.6.0 already installed\n",
      "Running command `conda install --yes chart-studio=1.1.0`... error\n",
      "    \n",
      "PackagesNotFoundError: The following packages are not available from current channels:\n",
      "\n",
      "  - chart-studio=1.1.0\n",
      "\n",
      "Current channels:\n",
      "\n",
      "  - https://repo.anaconda.com/pkgs/main/linux-64\n",
      "  - https://repo.anaconda.com/pkgs/main/noarch\n",
      "  - https://repo.anaconda.com/pkgs/r/linux-64\n",
      "  - https://repo.anaconda.com/pkgs/r/noarch\n",
      "\n",
      "To search for alternate channels that may provide the conda package you're\n",
      "looking for, navigate to\n",
      "\n",
      "    https://anaconda.org\n",
      "\n",
      "and use the search bar at the top of the page.\n",
      "\n",
      "\n",
      "\n"
     ]
    }
   ],
   "source": [
    "# initial setup\n",
    "try:\n",
    "    # settings colab:\n",
    "    import google.colab\n",
    "    \n",
    "    # si usan colab, deben cambiar el token de esta url\n",
    "    #! mkdir -p ../data\n",
    "    # los que usan colab deben modificar el token de esta url:\n",
    "    #! wget -O ../data/properati_2017.csv https://raw.githubusercontent.com/Digital-House-DATA/ds_blend_students_2020/master/M2/CLASE_07_Pandas_2/Data/resultado-de-encuestas-2017-2018.csv?token=AA4GFHO3EKGWGILBCV4BISC6WR6B4\n",
    "    \n",
    "except ModuleNotFoundError:    \n",
    "    # settings local:\n",
    "    %run \"common/base_setup.py\""
   ]
  },
  {
   "cell_type": "markdown",
   "metadata": {},
   "source": [
    "## Carga Inicial del Dataset"
   ]
  },
  {
   "cell_type": "code",
   "execution_count": 6,
   "metadata": {},
   "outputs": [],
   "source": [
    "import pandas as pd\n",
    "import common.matchers as match"
   ]
  },
  {
   "cell_type": "code",
   "execution_count": 7,
   "metadata": {},
   "outputs": [],
   "source": [
    "# low_memorybool, default True\n",
    "# Internally process the file in chunks, resulting in lower memory use while parsing, \n",
    "# but possibly mixed type inference. To ensure no mixed types either set False, \n",
    "# or specify the type with the dtype parameter. \n",
    "# Note that the entire file is read into a single DataFrame regardless, \n",
    "# use the chunksize or iterator parameter to return the data in chunks. (Only valid with C parser).\n",
    "data = pd.read_csv(\"./data/properati-fase1.csv\", sep = \",\", low_memory=False)"
   ]
  },
  {
   "cell_type": "markdown",
   "metadata": {},
   "source": [
    "## Ambientes"
   ]
  },
  {
   "cell_type": "markdown",
   "metadata": {},
   "source": [
    "Imputamos rooms faltantes a partir de las colúmnas de título y descripción:"
   ]
  },
  {
   "cell_type": "code",
   "execution_count": 8,
   "metadata": {},
   "outputs": [
    {
     "name": "stdout",
     "output_type": "stream",
     "text": [
      "Total registros NA (0): 73830\n",
      "Total registros NA corregidos: 21299\n",
      "Total registros NA (1): 52531\n"
     ]
    }
   ],
   "source": [
    "na_rooms_inicio = data[\"rooms\"].isna().sum()\n",
    "data['rooms'].fillna(data['title'].map(match.match_rooms), inplace=True)\n",
    "data['rooms'].fillna(data['description'].map(match.match_rooms), inplace=True)\n",
    "na_rooms_final = data[\"rooms\"].isna().sum()\n",
    "\n",
    "print(\"Total registros NA (0): {0}\".format(na_rooms_inicio))\n",
    "print(\"Total registros NA corregidos: {0}\".format(na_rooms_inicio - na_rooms_final))\n",
    "print(\"Total registros NA (1): {0}\".format(na_rooms_final))"
   ]
  },
  {
   "cell_type": "markdown",
   "metadata": {},
   "source": [
    "## Piso"
   ]
  },
  {
   "cell_type": "markdown",
   "metadata": {},
   "source": [
    "Imputamos floor faltantes a partir de las colúmnas de título y descripción:"
   ]
  },
  {
   "cell_type": "code",
   "execution_count": 9,
   "metadata": {},
   "outputs": [
    {
     "name": "stdout",
     "output_type": "stream",
     "text": [
      "Total registros NA (0): 113298\n",
      "Total registros NA corregidos: 24275\n",
      "Total registros NA (1): 89023\n"
     ]
    }
   ],
   "source": [
    "na_floor_inicio = data[\"floor\"].isna().sum()\n",
    "data['floor'].fillna(data['title'].map(match.match_floor), inplace=True)\n",
    "data['floor'].fillna(data['description'].map(match.match_floor), inplace=True)\n",
    "na_floor_final = data[\"floor\"].isna().sum()\n",
    "\n",
    "print(\"Total registros NA (0): {0}\".format(na_floor_inicio))\n",
    "print(\"Total registros NA corregidos: {0}\".format(na_floor_inicio - na_floor_final))\n",
    "print(\"Total registros NA (1): {0}\".format(na_floor_final))"
   ]
  },
  {
   "cell_type": "markdown",
   "metadata": {},
   "source": [
    "## Amenities"
   ]
  },
  {
   "cell_type": "markdown",
   "metadata": {},
   "source": [
    "Imputamos amenities a partir de la colúmna descripción. Elegimos las siguientes:\n",
    " * Pileta\n",
    " * Parrilla\n",
    " * Quincho\n",
    " * Balcón\n",
    " * Patio\n",
    "\n",
    "La forma es imputación es mediante variables dummies. Es decir, para cada amenitie agregamos una columna con el nombre de la misma y la completamos con 1 si el anuncio la indica y 0 en caso contrario."
   ]
  },
  {
   "cell_type": "code",
   "execution_count": 10,
   "metadata": {},
   "outputs": [
    {
     "name": "stdout",
     "output_type": "stream",
     "text": [
      "Total de \"pileta\" imputados: 34413\n",
      "Total de \"parrilla\" imputados: 38636\n",
      "Total de \"quincho\" imputados: 13094\n",
      "Total de \"patio\" imputados: 36530\n",
      "Total de \"cochera\" imputados: 50472\n",
      "Total de \"balcon\" imputados: 43118\n"
     ]
    }
   ],
   "source": [
    "data[\"pileta\"] = data['description'].map(match.match_amenity_pileta)\n",
    "print(\"Total de \\\"{0}\\\" imputados: {1}\".format(\"pileta\", data[\"pileta\"].sum()))\n",
    "\n",
    "data[\"parrilla\"] = data['description'].map(match.match_amenity_parrilla)\n",
    "print(\"Total de \\\"{0}\\\" imputados: {1}\".format(\"parrilla\", data[\"parrilla\"].sum()))\n",
    "\n",
    "data[\"quincho\"] = data['description'].map(match.match_amenity_quincho)\n",
    "print(\"Total de \\\"{0}\\\" imputados: {1}\".format(\"quincho\", data[\"quincho\"].sum()))\n",
    "\n",
    "data[\"patio\"] = data['description'].map(match.match_amenity_patio)\n",
    "print(\"Total de \\\"{0}\\\" imputados: {1}\".format(\"patio\", data[\"patio\"].sum()))\n",
    "\n",
    "data[\"cochera\"] = data['description'].map(match.match_amenity_cochera)\n",
    "print(\"Total de \\\"{0}\\\" imputados: {1}\".format(\"cochera\", data[\"cochera\"].sum()))\n",
    "\n",
    "data[\"balcon\"] = data['description'].map(match.match_amenity_balcon)\n",
    "print(\"Total de \\\"{0}\\\" imputados: {1}\".format(\"balcon\", data[\"balcon\"].sum()))\n",
    "\n",
    "data['amenities'] = data['pileta'] + data['parrilla'] + data['quincho'] + data['patio'] + data['cochera'] + data['balcon']"
   ]
  },
  {
   "cell_type": "code",
   "execution_count": 11,
   "metadata": {},
   "outputs": [],
   "source": [
    "data.to_csv('./data/properati-fase2.csv', sep=',', index=False)"
   ]
  }
 ],
 "metadata": {
  "kernelspec": {
   "display_name": "Python 3",
   "language": "python",
   "name": "python3"
  },
  "language_info": {
   "codemirror_mode": {
    "name": "ipython",
    "version": 3
   },
   "file_extension": ".py",
   "mimetype": "text/x-python",
   "name": "python",
   "nbconvert_exporter": "python",
   "pygments_lexer": "ipython3",
   "version": "3.7.6"
  }
 },
 "nbformat": 4,
 "nbformat_minor": 4
}
