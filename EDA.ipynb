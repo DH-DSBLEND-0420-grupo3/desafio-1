{
 "cells": [
  {
   "cell_type": "code",
   "execution_count": 2,
   "metadata": {},
   "outputs": [
    {
     "name": "stdout",
     "output_type": "stream",
     "text": [
      "Running command `conda list`... ok\n",
      "pandas=1.0.3 already installed\n",
      "matplotlib=2.2.2 already installed\n",
      "bokeh=2.0.0 already installed\n",
      "seaborn=0.10.0 already installed\n",
      "ipywidgets=7.5.1 already installed\n",
      "pytest=5.3.4 already installed\n",
      "chardet=3.0.4 already installed\n",
      "plotly=4.6.0 already installed\n",
      "Running command `conda install --yes chart-studio=1.1.0`... error\n",
      "    \n",
      "PackagesNotFoundError: The following packages are not available from current channels:\n",
      "\n",
      "  - chart-studio=1.1.0\n",
      "\n",
      "Current channels:\n",
      "\n",
      "  - https://repo.anaconda.com/pkgs/main/linux-64\n",
      "  - https://repo.anaconda.com/pkgs/main/noarch\n",
      "  - https://repo.anaconda.com/pkgs/r/linux-64\n",
      "  - https://repo.anaconda.com/pkgs/r/noarch\n",
      "\n",
      "To search for alternate channels that may provide the conda package you're\n",
      "looking for, navigate to\n",
      "\n",
      "    https://anaconda.org\n",
      "\n",
      "and use the search bar at the top of the page.\n",
      "\n",
      "\n",
      "\n"
     ]
    }
   ],
   "source": [
    "# initial setup\n",
    "try:\n",
    "    # settings colab:\n",
    "    import google.colab\n",
    "    \n",
    "    # si usan colab, deben cambiar el token de esta url\n",
    "    #! mkdir -p ../data\n",
    "    # los que usan colab deben modificar el token de esta url:\n",
    "    #! wget -O ../data/properati_2017.csv https://raw.githubusercontent.com/Digital-House-DATA/ds_blend_students_2020/master/M2/CLASE_07_Pandas_2/Data/resultado-de-encuestas-2017-2018.csv?token=AA4GFHO3EKGWGILBCV4BISC6WR6B4\n",
    "    \n",
    "except ModuleNotFoundError:    \n",
    "    # settings local:\n",
    "    %run \"common/base_setup.py\""
   ]
  },
  {
   "cell_type": "markdown",
   "metadata": {},
   "source": [
    "## Estructura del Dataset"
   ]
  },
  {
   "cell_type": "code",
   "execution_count": 506,
   "metadata": {},
   "outputs": [],
   "source": [
    "import pandas as pd\n",
    "import numpy as np\n",
    "import re"
   ]
  },
  {
   "cell_type": "code",
   "execution_count": 629,
   "metadata": {},
   "outputs": [],
   "source": [
    "# low_memorybool, default True\n",
    "# Internally process the file in chunks, resulting in lower memory use while parsing, \n",
    "# but possibly mixed type inference. To ensure no mixed types either set False, \n",
    "# or specify the type with the dtype parameter. \n",
    "# Note that the entire file is read into a single DataFrame regardless, \n",
    "# use the chunksize or iterator parameter to return the data in chunks. (Only valid with C parser).\n",
    "data = pd.read_csv(\"./data/properati_2017.csv\", sep = \",\", low_memory=False)"
   ]
  },
  {
   "cell_type": "code",
   "execution_count": 630,
   "metadata": {},
   "outputs": [
    {
     "data": {
      "text/plain": [
       "(121220, 26)"
      ]
     },
     "execution_count": 630,
     "metadata": {},
     "output_type": "execute_result"
    }
   ],
   "source": [
    "data.shape"
   ]
  },
  {
   "cell_type": "code",
   "execution_count": 631,
   "metadata": {},
   "outputs": [
    {
     "data": {
      "text/plain": [
       "Index(['Unnamed: 0', 'operation', 'property_type', 'place_name',\n",
       "       'place_with_parent_names', 'country_name', 'state_name', 'geonames_id',\n",
       "       'lat-lon', 'lat', 'lon', 'price', 'currency',\n",
       "       'price_aprox_local_currency', 'price_aprox_usd', 'surface_total_in_m2',\n",
       "       'surface_covered_in_m2', 'price_usd_per_m2', 'price_per_m2', 'floor',\n",
       "       'rooms', 'expenses', 'properati_url', 'description', 'title',\n",
       "       'image_thumbnail'],\n",
       "      dtype='object')"
      ]
     },
     "execution_count": 631,
     "metadata": {},
     "output_type": "execute_result"
    }
   ],
   "source": [
    "data.columns"
   ]
  },
  {
   "cell_type": "code",
   "execution_count": 632,
   "metadata": {},
   "outputs": [
    {
     "data": {
      "text/plain": [
       "Unnamed: 0                      int64\n",
       "operation                      object\n",
       "property_type                  object\n",
       "place_name                     object\n",
       "place_with_parent_names        object\n",
       "country_name                   object\n",
       "state_name                     object\n",
       "geonames_id                   float64\n",
       "lat-lon                        object\n",
       "lat                           float64\n",
       "lon                           float64\n",
       "price                         float64\n",
       "currency                       object\n",
       "price_aprox_local_currency    float64\n",
       "price_aprox_usd               float64\n",
       "surface_total_in_m2           float64\n",
       "surface_covered_in_m2         float64\n",
       "price_usd_per_m2              float64\n",
       "price_per_m2                  float64\n",
       "floor                         float64\n",
       "rooms                         float64\n",
       "expenses                      float64\n",
       "properati_url                  object\n",
       "description                    object\n",
       "title                          object\n",
       "image_thumbnail                object\n",
       "dtype: object"
      ]
     },
     "execution_count": 632,
     "metadata": {},
     "output_type": "execute_result"
    }
   ],
   "source": [
    "data.dtypes"
   ]
  },
  {
   "cell_type": "markdown",
   "metadata": {},
   "source": [
    "### Columnas Irrelevantes para el estudio - Fase 1"
   ]
  },
  {
   "cell_type": "code",
   "execution_count": 633,
   "metadata": {},
   "outputs": [],
   "source": [
    "def drop_columns(df, columns):\n",
    "    all_columns = set(df.columns)\n",
    "    relevant_columns = all_columns.difference(set(columns))\n",
    "    return df.loc[:, list(relevant_columns)]\n",
    "\n",
    "data = drop_columns(data, ['Unnamed: 0', 'image_thumbnail', 'properati_url'])"
   ]
  },
  {
   "cell_type": "markdown",
   "metadata": {},
   "source": [
    "### Visualización Preliminar"
   ]
  },
  {
   "cell_type": "code",
   "execution_count": 634,
   "metadata": {},
   "outputs": [
    {
     "data": {
      "text/html": [
       "<div>\n",
       "<style scoped>\n",
       "    .dataframe tbody tr th:only-of-type {\n",
       "        vertical-align: middle;\n",
       "    }\n",
       "\n",
       "    .dataframe tbody tr th {\n",
       "        vertical-align: top;\n",
       "    }\n",
       "\n",
       "    .dataframe thead th {\n",
       "        text-align: right;\n",
       "    }\n",
       "</style>\n",
       "<table border=\"1\" class=\"dataframe\">\n",
       "  <thead>\n",
       "    <tr style=\"text-align: right;\">\n",
       "      <th></th>\n",
       "      <th>rooms</th>\n",
       "      <th>price</th>\n",
       "      <th>lat</th>\n",
       "      <th>state_name</th>\n",
       "      <th>property_type</th>\n",
       "      <th>country_name</th>\n",
       "      <th>floor</th>\n",
       "      <th>price_usd_per_m2</th>\n",
       "      <th>price_aprox_local_currency</th>\n",
       "      <th>description</th>\n",
       "      <th>...</th>\n",
       "      <th>lon</th>\n",
       "      <th>operation</th>\n",
       "      <th>price_aprox_usd</th>\n",
       "      <th>currency</th>\n",
       "      <th>title</th>\n",
       "      <th>expenses</th>\n",
       "      <th>lat-lon</th>\n",
       "      <th>place_name</th>\n",
       "      <th>price_per_m2</th>\n",
       "      <th>place_with_parent_names</th>\n",
       "    </tr>\n",
       "  </thead>\n",
       "  <tbody>\n",
       "    <tr>\n",
       "      <th>0</th>\n",
       "      <td>NaN</td>\n",
       "      <td>62000.0</td>\n",
       "      <td>-34.661824</td>\n",
       "      <td>Capital Federal</td>\n",
       "      <td>PH</td>\n",
       "      <td>Argentina</td>\n",
       "      <td>NaN</td>\n",
       "      <td>1127.272727</td>\n",
       "      <td>1093959.00</td>\n",
       "      <td>2 AMBIENTES TIPO CASA PLANTA BAJA POR PASILLO,...</td>\n",
       "      <td>...</td>\n",
       "      <td>-58.508839</td>\n",
       "      <td>sell</td>\n",
       "      <td>62000.00</td>\n",
       "      <td>USD</td>\n",
       "      <td>2 AMB TIPO CASA SIN EXPENSAS EN PB</td>\n",
       "      <td>NaN</td>\n",
       "      <td>-34.6618237,-58.5088387</td>\n",
       "      <td>Mataderos</td>\n",
       "      <td>1550.000000</td>\n",
       "      <td>|Argentina|Capital Federal|Mataderos|</td>\n",
       "    </tr>\n",
       "    <tr>\n",
       "      <th>1</th>\n",
       "      <td>NaN</td>\n",
       "      <td>150000.0</td>\n",
       "      <td>-34.903883</td>\n",
       "      <td>Bs.As. G.B.A. Zona Sur</td>\n",
       "      <td>apartment</td>\n",
       "      <td>Argentina</td>\n",
       "      <td>NaN</td>\n",
       "      <td>NaN</td>\n",
       "      <td>2646675.00</td>\n",
       "      <td>Venta de departamento en décimo piso al frente...</td>\n",
       "      <td>...</td>\n",
       "      <td>-57.964330</td>\n",
       "      <td>sell</td>\n",
       "      <td>150000.00</td>\n",
       "      <td>USD</td>\n",
       "      <td>VENTA Depto 2 dorm. a estrenar 7 e/ 36 y 37   ...</td>\n",
       "      <td>NaN</td>\n",
       "      <td>-34.9038831,-57.9643295</td>\n",
       "      <td>La Plata</td>\n",
       "      <td>NaN</td>\n",
       "      <td>|Argentina|Bs.As. G.B.A. Zona Sur|La Plata|</td>\n",
       "    </tr>\n",
       "    <tr>\n",
       "      <th>2</th>\n",
       "      <td>NaN</td>\n",
       "      <td>72000.0</td>\n",
       "      <td>-34.652262</td>\n",
       "      <td>Capital Federal</td>\n",
       "      <td>apartment</td>\n",
       "      <td>Argentina</td>\n",
       "      <td>NaN</td>\n",
       "      <td>1309.090909</td>\n",
       "      <td>1270404.00</td>\n",
       "      <td>2 AMBIENTES 3ER PISO LATERAL LIVING COMEDOR AM...</td>\n",
       "      <td>...</td>\n",
       "      <td>-58.522982</td>\n",
       "      <td>sell</td>\n",
       "      <td>72000.00</td>\n",
       "      <td>USD</td>\n",
       "      <td>2 AMB 3ER PISO CON ASCENSOR APTO CREDITO</td>\n",
       "      <td>NaN</td>\n",
       "      <td>-34.6522615,-58.5229825</td>\n",
       "      <td>Mataderos</td>\n",
       "      <td>1309.090909</td>\n",
       "      <td>|Argentina|Capital Federal|Mataderos|</td>\n",
       "    </tr>\n",
       "    <tr>\n",
       "      <th>3</th>\n",
       "      <td>NaN</td>\n",
       "      <td>95000.0</td>\n",
       "      <td>-34.647797</td>\n",
       "      <td>Capital Federal</td>\n",
       "      <td>PH</td>\n",
       "      <td>Argentina</td>\n",
       "      <td>NaN</td>\n",
       "      <td>NaN</td>\n",
       "      <td>1676227.50</td>\n",
       "      <td>PH 3 ambientes con patio. Hay 3 deptos en lote...</td>\n",
       "      <td>...</td>\n",
       "      <td>-58.516424</td>\n",
       "      <td>sell</td>\n",
       "      <td>95000.00</td>\n",
       "      <td>USD</td>\n",
       "      <td>PH 3 amb. cfte. reciclado</td>\n",
       "      <td>NaN</td>\n",
       "      <td>-34.6477969,-58.5164244</td>\n",
       "      <td>Liniers</td>\n",
       "      <td>NaN</td>\n",
       "      <td>|Argentina|Capital Federal|Liniers|</td>\n",
       "    </tr>\n",
       "    <tr>\n",
       "      <th>4</th>\n",
       "      <td>NaN</td>\n",
       "      <td>64000.0</td>\n",
       "      <td>-38.002626</td>\n",
       "      <td>Buenos Aires Costa Atlántica</td>\n",
       "      <td>apartment</td>\n",
       "      <td>Argentina</td>\n",
       "      <td>NaN</td>\n",
       "      <td>1828.571429</td>\n",
       "      <td>1129248.00</td>\n",
       "      <td>DEPARTAMENTO CON FANTÁSTICA ILUMINACIÓN NATURA...</td>\n",
       "      <td>...</td>\n",
       "      <td>-57.549447</td>\n",
       "      <td>sell</td>\n",
       "      <td>64000.00</td>\n",
       "      <td>USD</td>\n",
       "      <td>DEPTO 2 AMB AL CONTRAFRENTE ZONA CENTRO/PLAZA ...</td>\n",
       "      <td>NaN</td>\n",
       "      <td>-38.0026256,-57.5494468</td>\n",
       "      <td>Centro</td>\n",
       "      <td>1828.571429</td>\n",
       "      <td>|Argentina|Buenos Aires Costa Atlántica|Mar de...</td>\n",
       "    </tr>\n",
       "    <tr>\n",
       "      <th>5</th>\n",
       "      <td>NaN</td>\n",
       "      <td>NaN</td>\n",
       "      <td>-33.014071</td>\n",
       "      <td>Entre Ríos</td>\n",
       "      <td>house</td>\n",
       "      <td>Argentina</td>\n",
       "      <td>NaN</td>\n",
       "      <td>NaN</td>\n",
       "      <td>NaN</td>\n",
       "      <td>Casa en el perímetro del barrio 338, ubicada e...</td>\n",
       "      <td>...</td>\n",
       "      <td>-58.519828</td>\n",
       "      <td>sell</td>\n",
       "      <td>NaN</td>\n",
       "      <td>NaN</td>\n",
       "      <td>Casa Barrio 338. Sobre calle 3 de caballería, ...</td>\n",
       "      <td>NaN</td>\n",
       "      <td>-33.0140714,-58.519828</td>\n",
       "      <td>Gualeguaychú</td>\n",
       "      <td>NaN</td>\n",
       "      <td>|Argentina|Entre Ríos|Gualeguaychú|</td>\n",
       "    </tr>\n",
       "    <tr>\n",
       "      <th>6</th>\n",
       "      <td>NaN</td>\n",
       "      <td>130000.0</td>\n",
       "      <td>-34.532957</td>\n",
       "      <td>Bs.As. G.B.A. Zona Norte</td>\n",
       "      <td>PH</td>\n",
       "      <td>Argentina</td>\n",
       "      <td>NaN</td>\n",
       "      <td>1226.415094</td>\n",
       "      <td>2293785.00</td>\n",
       "      <td>MUY BUEN PH AL FRENTE CON ENTRADA INDEPENDIENT...</td>\n",
       "      <td>...</td>\n",
       "      <td>-58.521782</td>\n",
       "      <td>sell</td>\n",
       "      <td>130000.00</td>\n",
       "      <td>USD</td>\n",
       "      <td>MUY BUEN PH AL FRENTE DOS DORMITORIOS , PATIO,...</td>\n",
       "      <td>NaN</td>\n",
       "      <td>-34.5329567,-58.5217825</td>\n",
       "      <td>Munro</td>\n",
       "      <td>1666.666667</td>\n",
       "      <td>|Argentina|Bs.As. G.B.A. Zona Norte|Vicente Ló...</td>\n",
       "    </tr>\n",
       "    <tr>\n",
       "      <th>7</th>\n",
       "      <td>NaN</td>\n",
       "      <td>138000.0</td>\n",
       "      <td>-34.559873</td>\n",
       "      <td>Capital Federal</td>\n",
       "      <td>apartment</td>\n",
       "      <td>Argentina</td>\n",
       "      <td>NaN</td>\n",
       "      <td>3066.666667</td>\n",
       "      <td>2434941.00</td>\n",
       "      <td>EXCELENTE MONOAMBIENTE A ESTRENAR AMPLIO SUPER...</td>\n",
       "      <td>...</td>\n",
       "      <td>-58.443362</td>\n",
       "      <td>sell</td>\n",
       "      <td>138000.00</td>\n",
       "      <td>USD</td>\n",
       "      <td>JOSE HERNANDEZ 1400 MONOAMBIENTE  ESTRENAR CAT...</td>\n",
       "      <td>NaN</td>\n",
       "      <td>-34.5598729,-58.443362</td>\n",
       "      <td>Belgrano</td>\n",
       "      <td>3450.000000</td>\n",
       "      <td>|Argentina|Capital Federal|Belgrano|</td>\n",
       "    </tr>\n",
       "    <tr>\n",
       "      <th>8</th>\n",
       "      <td>NaN</td>\n",
       "      <td>195000.0</td>\n",
       "      <td>-34.559873</td>\n",
       "      <td>Capital Federal</td>\n",
       "      <td>apartment</td>\n",
       "      <td>Argentina</td>\n",
       "      <td>NaN</td>\n",
       "      <td>3000.000000</td>\n",
       "      <td>3440677.50</td>\n",
       "      <td>EXCELENTE DOS AMBIENTES  ESTRENAR AMPLIO SUPER...</td>\n",
       "      <td>...</td>\n",
       "      <td>-58.443362</td>\n",
       "      <td>sell</td>\n",
       "      <td>195000.00</td>\n",
       "      <td>USD</td>\n",
       "      <td>JOSE HERNANDEZ   1400 DOS AMBIENTES ESTRENAR ,...</td>\n",
       "      <td>NaN</td>\n",
       "      <td>-34.5598729,-58.443362</td>\n",
       "      <td>Belgrano</td>\n",
       "      <td>3250.000000</td>\n",
       "      <td>|Argentina|Capital Federal|Belgrano|</td>\n",
       "    </tr>\n",
       "    <tr>\n",
       "      <th>9</th>\n",
       "      <td>NaN</td>\n",
       "      <td>460000.0</td>\n",
       "      <td>-32.942031</td>\n",
       "      <td>Santa Fe</td>\n",
       "      <td>house</td>\n",
       "      <td>Argentina</td>\n",
       "      <td>NaN</td>\n",
       "      <td>NaN</td>\n",
       "      <td>455201.45</td>\n",
       "      <td>MEDNOZA AL 7600A UNA CUADRA DE CALLE MENDOZAWH...</td>\n",
       "      <td>...</td>\n",
       "      <td>-60.725919</td>\n",
       "      <td>sell</td>\n",
       "      <td>25798.49</td>\n",
       "      <td>ARS</td>\n",
       "      <td>WHITE 7637 - 2 DORMITORIOS CON PATIO</td>\n",
       "      <td>NaN</td>\n",
       "      <td>-32.942031,-60.7259192</td>\n",
       "      <td>Rosario</td>\n",
       "      <td>NaN</td>\n",
       "      <td>|Argentina|Santa Fe|Rosario|</td>\n",
       "    </tr>\n",
       "  </tbody>\n",
       "</table>\n",
       "<p>10 rows × 23 columns</p>\n",
       "</div>"
      ],
      "text/plain": [
       "   rooms     price        lat                    state_name property_type  \\\n",
       "0    NaN   62000.0 -34.661824               Capital Federal            PH   \n",
       "1    NaN  150000.0 -34.903883        Bs.As. G.B.A. Zona Sur     apartment   \n",
       "2    NaN   72000.0 -34.652262               Capital Federal     apartment   \n",
       "3    NaN   95000.0 -34.647797               Capital Federal            PH   \n",
       "4    NaN   64000.0 -38.002626  Buenos Aires Costa Atlántica     apartment   \n",
       "5    NaN       NaN -33.014071                    Entre Ríos         house   \n",
       "6    NaN  130000.0 -34.532957      Bs.As. G.B.A. Zona Norte            PH   \n",
       "7    NaN  138000.0 -34.559873               Capital Federal     apartment   \n",
       "8    NaN  195000.0 -34.559873               Capital Federal     apartment   \n",
       "9    NaN  460000.0 -32.942031                      Santa Fe         house   \n",
       "\n",
       "  country_name  floor  price_usd_per_m2  price_aprox_local_currency  \\\n",
       "0    Argentina    NaN       1127.272727                  1093959.00   \n",
       "1    Argentina    NaN               NaN                  2646675.00   \n",
       "2    Argentina    NaN       1309.090909                  1270404.00   \n",
       "3    Argentina    NaN               NaN                  1676227.50   \n",
       "4    Argentina    NaN       1828.571429                  1129248.00   \n",
       "5    Argentina    NaN               NaN                         NaN   \n",
       "6    Argentina    NaN       1226.415094                  2293785.00   \n",
       "7    Argentina    NaN       3066.666667                  2434941.00   \n",
       "8    Argentina    NaN       3000.000000                  3440677.50   \n",
       "9    Argentina    NaN               NaN                   455201.45   \n",
       "\n",
       "                                         description  ...        lon  \\\n",
       "0  2 AMBIENTES TIPO CASA PLANTA BAJA POR PASILLO,...  ... -58.508839   \n",
       "1  Venta de departamento en décimo piso al frente...  ... -57.964330   \n",
       "2  2 AMBIENTES 3ER PISO LATERAL LIVING COMEDOR AM...  ... -58.522982   \n",
       "3  PH 3 ambientes con patio. Hay 3 deptos en lote...  ... -58.516424   \n",
       "4  DEPARTAMENTO CON FANTÁSTICA ILUMINACIÓN NATURA...  ... -57.549447   \n",
       "5  Casa en el perímetro del barrio 338, ubicada e...  ... -58.519828   \n",
       "6  MUY BUEN PH AL FRENTE CON ENTRADA INDEPENDIENT...  ... -58.521782   \n",
       "7  EXCELENTE MONOAMBIENTE A ESTRENAR AMPLIO SUPER...  ... -58.443362   \n",
       "8  EXCELENTE DOS AMBIENTES  ESTRENAR AMPLIO SUPER...  ... -58.443362   \n",
       "9  MEDNOZA AL 7600A UNA CUADRA DE CALLE MENDOZAWH...  ... -60.725919   \n",
       "\n",
       "   operation  price_aprox_usd  currency  \\\n",
       "0       sell         62000.00       USD   \n",
       "1       sell        150000.00       USD   \n",
       "2       sell         72000.00       USD   \n",
       "3       sell         95000.00       USD   \n",
       "4       sell         64000.00       USD   \n",
       "5       sell              NaN       NaN   \n",
       "6       sell        130000.00       USD   \n",
       "7       sell        138000.00       USD   \n",
       "8       sell        195000.00       USD   \n",
       "9       sell         25798.49       ARS   \n",
       "\n",
       "                                               title  expenses  \\\n",
       "0                 2 AMB TIPO CASA SIN EXPENSAS EN PB       NaN   \n",
       "1  VENTA Depto 2 dorm. a estrenar 7 e/ 36 y 37   ...       NaN   \n",
       "2           2 AMB 3ER PISO CON ASCENSOR APTO CREDITO       NaN   \n",
       "3                       PH 3 amb. cfte. reciclado          NaN   \n",
       "4  DEPTO 2 AMB AL CONTRAFRENTE ZONA CENTRO/PLAZA ...       NaN   \n",
       "5  Casa Barrio 338. Sobre calle 3 de caballería, ...       NaN   \n",
       "6  MUY BUEN PH AL FRENTE DOS DORMITORIOS , PATIO,...       NaN   \n",
       "7  JOSE HERNANDEZ 1400 MONOAMBIENTE  ESTRENAR CAT...       NaN   \n",
       "8  JOSE HERNANDEZ   1400 DOS AMBIENTES ESTRENAR ,...       NaN   \n",
       "9         WHITE 7637 - 2 DORMITORIOS CON PATIO             NaN   \n",
       "\n",
       "                   lat-lon    place_name  price_per_m2  \\\n",
       "0  -34.6618237,-58.5088387     Mataderos   1550.000000   \n",
       "1  -34.9038831,-57.9643295      La Plata           NaN   \n",
       "2  -34.6522615,-58.5229825     Mataderos   1309.090909   \n",
       "3  -34.6477969,-58.5164244       Liniers           NaN   \n",
       "4  -38.0026256,-57.5494468        Centro   1828.571429   \n",
       "5   -33.0140714,-58.519828  Gualeguaychú           NaN   \n",
       "6  -34.5329567,-58.5217825         Munro   1666.666667   \n",
       "7   -34.5598729,-58.443362      Belgrano   3450.000000   \n",
       "8   -34.5598729,-58.443362      Belgrano   3250.000000   \n",
       "9   -32.942031,-60.7259192       Rosario           NaN   \n",
       "\n",
       "                             place_with_parent_names  \n",
       "0              |Argentina|Capital Federal|Mataderos|  \n",
       "1        |Argentina|Bs.As. G.B.A. Zona Sur|La Plata|  \n",
       "2              |Argentina|Capital Federal|Mataderos|  \n",
       "3                |Argentina|Capital Federal|Liniers|  \n",
       "4  |Argentina|Buenos Aires Costa Atlántica|Mar de...  \n",
       "5                |Argentina|Entre Ríos|Gualeguaychú|  \n",
       "6  |Argentina|Bs.As. G.B.A. Zona Norte|Vicente Ló...  \n",
       "7               |Argentina|Capital Federal|Belgrano|  \n",
       "8               |Argentina|Capital Federal|Belgrano|  \n",
       "9                       |Argentina|Santa Fe|Rosario|  \n",
       "\n",
       "[10 rows x 23 columns]"
      ]
     },
     "execution_count": 634,
     "metadata": {},
     "output_type": "execute_result"
    }
   ],
   "source": [
    "data.head(10)"
   ]
  },
  {
   "cell_type": "markdown",
   "metadata": {},
   "source": [
    "### Distribución de N/A"
   ]
  },
  {
   "cell_type": "code",
   "execution_count": 635,
   "metadata": {},
   "outputs": [
    {
     "data": {
      "text/html": [
       "<div>\n",
       "<style scoped>\n",
       "    .dataframe tbody tr th:only-of-type {\n",
       "        vertical-align: middle;\n",
       "    }\n",
       "\n",
       "    .dataframe tbody tr th {\n",
       "        vertical-align: top;\n",
       "    }\n",
       "\n",
       "    .dataframe thead th {\n",
       "        text-align: right;\n",
       "    }\n",
       "</style>\n",
       "<table border=\"1\" class=\"dataframe\">\n",
       "  <thead>\n",
       "    <tr style=\"text-align: right;\">\n",
       "      <th></th>\n",
       "      <th>total</th>\n",
       "      <th>percent</th>\n",
       "    </tr>\n",
       "  </thead>\n",
       "  <tbody>\n",
       "    <tr>\n",
       "      <th>rooms</th>\n",
       "      <td>73830</td>\n",
       "      <td>0.609058</td>\n",
       "    </tr>\n",
       "    <tr>\n",
       "      <th>price</th>\n",
       "      <td>20410</td>\n",
       "      <td>0.168372</td>\n",
       "    </tr>\n",
       "    <tr>\n",
       "      <th>lat</th>\n",
       "      <td>51550</td>\n",
       "      <td>0.425260</td>\n",
       "    </tr>\n",
       "    <tr>\n",
       "      <th>floor</th>\n",
       "      <td>113321</td>\n",
       "      <td>0.934837</td>\n",
       "    </tr>\n",
       "    <tr>\n",
       "      <th>price_usd_per_m2</th>\n",
       "      <td>52603</td>\n",
       "      <td>0.433947</td>\n",
       "    </tr>\n",
       "    <tr>\n",
       "      <th>price_aprox_local_currency</th>\n",
       "      <td>20410</td>\n",
       "      <td>0.168372</td>\n",
       "    </tr>\n",
       "    <tr>\n",
       "      <th>description</th>\n",
       "      <td>2</td>\n",
       "      <td>0.000016</td>\n",
       "    </tr>\n",
       "    <tr>\n",
       "      <th>surface_total_in_m2</th>\n",
       "      <td>39328</td>\n",
       "      <td>0.324435</td>\n",
       "    </tr>\n",
       "    <tr>\n",
       "      <th>geonames_id</th>\n",
       "      <td>18717</td>\n",
       "      <td>0.154405</td>\n",
       "    </tr>\n",
       "    <tr>\n",
       "      <th>surface_covered_in_m2</th>\n",
       "      <td>19907</td>\n",
       "      <td>0.164222</td>\n",
       "    </tr>\n",
       "    <tr>\n",
       "      <th>lon</th>\n",
       "      <td>51550</td>\n",
       "      <td>0.425260</td>\n",
       "    </tr>\n",
       "    <tr>\n",
       "      <th>price_aprox_usd</th>\n",
       "      <td>20410</td>\n",
       "      <td>0.168372</td>\n",
       "    </tr>\n",
       "    <tr>\n",
       "      <th>currency</th>\n",
       "      <td>20411</td>\n",
       "      <td>0.168380</td>\n",
       "    </tr>\n",
       "    <tr>\n",
       "      <th>expenses</th>\n",
       "      <td>106958</td>\n",
       "      <td>0.882346</td>\n",
       "    </tr>\n",
       "    <tr>\n",
       "      <th>lat-lon</th>\n",
       "      <td>51550</td>\n",
       "      <td>0.425260</td>\n",
       "    </tr>\n",
       "    <tr>\n",
       "      <th>place_name</th>\n",
       "      <td>23</td>\n",
       "      <td>0.000190</td>\n",
       "    </tr>\n",
       "    <tr>\n",
       "      <th>price_per_m2</th>\n",
       "      <td>33562</td>\n",
       "      <td>0.276869</td>\n",
       "    </tr>\n",
       "  </tbody>\n",
       "</table>\n",
       "</div>"
      ],
      "text/plain": [
       "                             total   percent\n",
       "rooms                        73830  0.609058\n",
       "price                        20410  0.168372\n",
       "lat                          51550  0.425260\n",
       "floor                       113321  0.934837\n",
       "price_usd_per_m2             52603  0.433947\n",
       "price_aprox_local_currency   20410  0.168372\n",
       "description                      2  0.000016\n",
       "surface_total_in_m2          39328  0.324435\n",
       "geonames_id                  18717  0.154405\n",
       "surface_covered_in_m2        19907  0.164222\n",
       "lon                          51550  0.425260\n",
       "price_aprox_usd              20410  0.168372\n",
       "currency                     20411  0.168380\n",
       "expenses                    106958  0.882346\n",
       "lat-lon                      51550  0.425260\n",
       "place_name                      23  0.000190\n",
       "price_per_m2                 33562  0.276869"
      ]
     },
     "execution_count": 635,
     "metadata": {},
     "output_type": "execute_result"
    }
   ],
   "source": [
    "def show_null_distribution(df):\n",
    "    nulls = df.isnull().sum(axis=0)\n",
    "    nulls_percent = nulls / df.index.size\n",
    "    nulls_df = pd.concat([nulls, nulls_percent], axis=1)\n",
    "    nulls_df.columns = ['total', 'percent']\n",
    "    return nulls_df[nulls_df['total'] > 0] # solo me interesan las columnas que tengan N/A\n",
    "\n",
    "show_null_distribution(data)"
   ]
  },
  {
   "cell_type": "markdown",
   "metadata": {},
   "source": [
    "## Tratamiento de Valores Faltantes"
   ]
  },
  {
   "cell_type": "markdown",
   "metadata": {},
   "source": [
    "### Columna *place_name*\n",
    "\n",
    "Observamos que la columna *place_with_parent_names* se construye concatenando *country_name*, *state_name* y *place_name*, entonces chequeamos esa columna contra los faltantes:"
   ]
  },
  {
   "cell_type": "code",
   "execution_count": 636,
   "metadata": {},
   "outputs": [
    {
     "data": {
      "text/html": [
       "<div>\n",
       "<style scoped>\n",
       "    .dataframe tbody tr th:only-of-type {\n",
       "        vertical-align: middle;\n",
       "    }\n",
       "\n",
       "    .dataframe tbody tr th {\n",
       "        vertical-align: top;\n",
       "    }\n",
       "\n",
       "    .dataframe thead th {\n",
       "        text-align: right;\n",
       "    }\n",
       "</style>\n",
       "<table border=\"1\" class=\"dataframe\">\n",
       "  <thead>\n",
       "    <tr style=\"text-align: right;\">\n",
       "      <th></th>\n",
       "      <th>place_name</th>\n",
       "      <th>place_with_parent_names</th>\n",
       "    </tr>\n",
       "  </thead>\n",
       "  <tbody>\n",
       "    <tr>\n",
       "      <th>6489</th>\n",
       "      <td>NaN</td>\n",
       "      <td>|Argentina|Bs.As. G.B.A. Zona Norte|Tigre||</td>\n",
       "    </tr>\n",
       "  </tbody>\n",
       "</table>\n",
       "</div>"
      ],
      "text/plain": [
       "     place_name                      place_with_parent_names\n",
       "6489        NaN  |Argentina|Bs.As. G.B.A. Zona Norte|Tigre||"
      ]
     },
     "execution_count": 636,
     "metadata": {},
     "output_type": "execute_result"
    }
   ],
   "source": [
    "na_place_name_mask = data[\"place_name\"].isnull()\n",
    "na_place_name      = data[na_place_name_mask][[\"place_name\", \"place_with_parent_names\"]]\n",
    "na_place_name.drop_duplicates()"
   ]
  },
  {
   "cell_type": "markdown",
   "metadata": {},
   "source": [
    "Vemos que en este caso los N/A son de **Tigre** "
   ]
  },
  {
   "cell_type": "code",
   "execution_count": 637,
   "metadata": {},
   "outputs": [],
   "source": [
    "data['place_name'] = data['place_name'].fillna(\"Tigre\")"
   ]
  },
  {
   "cell_type": "markdown",
   "metadata": {},
   "source": [
    "### Columnas *description* y *title*"
   ]
  },
  {
   "cell_type": "code",
   "execution_count": 638,
   "metadata": {},
   "outputs": [
    {
     "data": {
      "text/html": [
       "<div>\n",
       "<style scoped>\n",
       "    .dataframe tbody tr th:only-of-type {\n",
       "        vertical-align: middle;\n",
       "    }\n",
       "\n",
       "    .dataframe tbody tr th {\n",
       "        vertical-align: top;\n",
       "    }\n",
       "\n",
       "    .dataframe thead th {\n",
       "        text-align: right;\n",
       "    }\n",
       "</style>\n",
       "<table border=\"1\" class=\"dataframe\">\n",
       "  <thead>\n",
       "    <tr style=\"text-align: right;\">\n",
       "      <th></th>\n",
       "      <th>rooms</th>\n",
       "      <th>price</th>\n",
       "      <th>lat</th>\n",
       "      <th>state_name</th>\n",
       "      <th>property_type</th>\n",
       "      <th>country_name</th>\n",
       "      <th>floor</th>\n",
       "      <th>price_usd_per_m2</th>\n",
       "      <th>price_aprox_local_currency</th>\n",
       "      <th>description</th>\n",
       "      <th>...</th>\n",
       "      <th>lon</th>\n",
       "      <th>operation</th>\n",
       "      <th>price_aprox_usd</th>\n",
       "      <th>currency</th>\n",
       "      <th>title</th>\n",
       "      <th>expenses</th>\n",
       "      <th>lat-lon</th>\n",
       "      <th>place_name</th>\n",
       "      <th>price_per_m2</th>\n",
       "      <th>place_with_parent_names</th>\n",
       "    </tr>\n",
       "  </thead>\n",
       "  <tbody>\n",
       "    <tr>\n",
       "      <th>10664</th>\n",
       "      <td>NaN</td>\n",
       "      <td>2350000.0</td>\n",
       "      <td>-31.420783</td>\n",
       "      <td>Córdoba</td>\n",
       "      <td>apartment</td>\n",
       "      <td>Argentina</td>\n",
       "      <td>NaN</td>\n",
       "      <td>NaN</td>\n",
       "      <td>2325485.81</td>\n",
       "      <td>NaN</td>\n",
       "      <td>...</td>\n",
       "      <td>-64.499214</td>\n",
       "      <td>sell</td>\n",
       "      <td>131796.64</td>\n",
       "      <td>ARS</td>\n",
       "      <td>HERMOSO DEPARTAMENTO CON PISCINA Y COCHERA</td>\n",
       "      <td>NaN</td>\n",
       "      <td>-31.4207828,-64.4992141</td>\n",
       "      <td>Villa Carlos Paz</td>\n",
       "      <td>NaN</td>\n",
       "      <td>|Argentina|Córdoba|Villa Carlos Paz|</td>\n",
       "    </tr>\n",
       "    <tr>\n",
       "      <th>96691</th>\n",
       "      <td>NaN</td>\n",
       "      <td>98000.0</td>\n",
       "      <td>NaN</td>\n",
       "      <td>Bs.As. G.B.A. Zona Norte</td>\n",
       "      <td>apartment</td>\n",
       "      <td>Argentina</td>\n",
       "      <td>NaN</td>\n",
       "      <td>NaN</td>\n",
       "      <td>1729161.00</td>\n",
       "      <td>NaN</td>\n",
       "      <td>...</td>\n",
       "      <td>NaN</td>\n",
       "      <td>sell</td>\n",
       "      <td>98000.00</td>\n",
       "      <td>USD</td>\n",
       "      <td>Departamento - San Fernando</td>\n",
       "      <td>NaN</td>\n",
       "      <td>NaN</td>\n",
       "      <td>San Fernando</td>\n",
       "      <td>1781.818182</td>\n",
       "      <td>|Argentina|Bs.As. G.B.A. Zona Norte|San Fernando|</td>\n",
       "    </tr>\n",
       "  </tbody>\n",
       "</table>\n",
       "<p>2 rows × 23 columns</p>\n",
       "</div>"
      ],
      "text/plain": [
       "       rooms      price        lat                state_name property_type  \\\n",
       "10664    NaN  2350000.0 -31.420783                   Córdoba     apartment   \n",
       "96691    NaN    98000.0        NaN  Bs.As. G.B.A. Zona Norte     apartment   \n",
       "\n",
       "      country_name  floor  price_usd_per_m2  price_aprox_local_currency  \\\n",
       "10664    Argentina    NaN               NaN                  2325485.81   \n",
       "96691    Argentina    NaN               NaN                  1729161.00   \n",
       "\n",
       "      description  ...        lon  operation  price_aprox_usd  currency  \\\n",
       "10664         NaN  ... -64.499214       sell        131796.64       ARS   \n",
       "96691         NaN  ...        NaN       sell         98000.00       USD   \n",
       "\n",
       "                                             title  expenses  \\\n",
       "10664  HERMOSO DEPARTAMENTO CON PISCINA Y COCHERA        NaN   \n",
       "96691                  Departamento - San Fernando       NaN   \n",
       "\n",
       "                       lat-lon        place_name  price_per_m2  \\\n",
       "10664  -31.4207828,-64.4992141  Villa Carlos Paz           NaN   \n",
       "96691                      NaN      San Fernando   1781.818182   \n",
       "\n",
       "                                 place_with_parent_names  \n",
       "10664               |Argentina|Córdoba|Villa Carlos Paz|  \n",
       "96691  |Argentina|Bs.As. G.B.A. Zona Norte|San Fernando|  \n",
       "\n",
       "[2 rows x 23 columns]"
      ]
     },
     "execution_count": 638,
     "metadata": {},
     "output_type": "execute_result"
    }
   ],
   "source": [
    "na_description_mask = data[\"description\"].isnull()\n",
    "na_description      = data[na_description_mask]\n",
    "na_description"
   ]
  },
  {
   "cell_type": "markdown",
   "metadata": {},
   "source": [
    "Por ahora, solo las normalizamos:"
   ]
  },
  {
   "cell_type": "code",
   "execution_count": 639,
   "metadata": {},
   "outputs": [],
   "source": [
    "rex = re.compile(r'\\s+')\n",
    "fformat = lambda x: rex.sub(' ', str(x)).strip().lower()\n",
    "data['description'] = data['description'].apply(fformat)\n",
    "data['title']       = data['title'].apply(fformat)"
   ]
  },
  {
   "cell_type": "markdown",
   "metadata": {},
   "source": [
    "### Columna *expenses*\n",
    "En este caso, chequeamos la cantidad de N/A contra la cantidad de posibles calculables.\n",
    "El criterio de la esa posibilidad, es simple: la palabra **expensa** dentro de *title* o *description*."
   ]
  },
  {
   "cell_type": "code",
   "execution_count": 640,
   "metadata": {},
   "outputs": [
    {
     "name": "stdout",
     "output_type": "stream",
     "text": [
      "Proportion of missing expenses: 0.8823461475004125\n",
      "Proportion of posibles calculable expenses: 0.12412348772415341\n"
     ]
    }
   ],
   "source": [
    "na_expenses_mask = data['expenses'].isnull()\n",
    "na_expenses = data[na_expenses_mask]\n",
    "na_expenses_total = na_expenses_mask.sum()\n",
    "calc_expenses_total = na_expenses['title'].str.contains('expensa', case=False, regex=False).sum() + \\\n",
    "   na_expenses['description'].str.contains('expensa', case=False, regex=False).sum() \n",
    "\n",
    "print(\"Proportion of missing expenses: {0}\".format(na_expenses_total / data.index.size))\n",
    "print(\"Proportion of posibles calculable expenses: {0}\".format(calc_expenses_total / na_expenses_total))"
   ]
  },
  {
   "cell_type": "markdown",
   "metadata": {},
   "source": [
    "De lo anterior, concluimos que casi un 90% de los datos son N/A y de ese porcentage menos de un 13% tiene alguna posibilidad de ser inferido. Por ende, no la vamos a tener en cuenta para hacer el estudio."
   ]
  },
  {
   "cell_type": "markdown",
   "metadata": {},
   "source": [
    "### Columna *floor*\n",
    "Al igual que en el caso anterior, lo primero es chequear la proporción de N/A."
   ]
  },
  {
   "cell_type": "code",
   "execution_count": 641,
   "metadata": {},
   "outputs": [
    {
     "name": "stdout",
     "output_type": "stream",
     "text": [
      "Proportion of missing floors: 0.9348374855634384\n"
     ]
    }
   ],
   "source": [
    "na_floor_mask = data['floor'].isnull()\n",
    "na_floor = data[na_floor_mask]\n",
    "na_floor_total = na_floor.index.size\n",
    "print(\"Proportion of missing floors: {0}\".format(na_floor_total / data.index.size))"
   ]
  },
  {
   "cell_type": "markdown",
   "metadata": {},
   "source": [
    "Es una proporción alta aunque creemos que este campo tiene más relevancia cuando el *property_type* es **apartment**."
   ]
  },
  {
   "cell_type": "code",
   "execution_count": 642,
   "metadata": {},
   "outputs": [
    {
     "name": "stdout",
     "output_type": "stream",
     "text": [
      "Total of apartment properties: 71065\n",
      "Proportion of missing floors: 0.9082389361851826\n"
     ]
    }
   ],
   "source": [
    "data_apartment_df = data[data['property_type'] == 'apartment']\n",
    "na_apartment_floor_mask = data_apartment_df['floor'].isnull()\n",
    "na_apartment_floor_total = na_apartment_floor_mask.sum()\n",
    "print(\"Total of apartment properties: {0}\".format(data_apartment_df.index.size))\n",
    "print(\"Proportion of missing floors: {0}\".format(na_apartment_floor_total / data_apartment_df.index.size))"
   ]
  },
  {
   "cell_type": "markdown",
   "metadata": {},
   "source": [
    "Nuevamente, la proporción de N/A es muy alta. Por ende, esta columna también la vamos a descartar del estudio."
   ]
  },
  {
   "cell_type": "markdown",
   "metadata": {},
   "source": [
    "### Columna *rooms*\n",
    "De nuevo, chequeamos la proporción de N/A."
   ]
  },
  {
   "cell_type": "code",
   "execution_count": 643,
   "metadata": {},
   "outputs": [
    {
     "name": "stdout",
     "output_type": "stream",
     "text": [
      "Proportion of missing rooms: 0.6090579112357697\n"
     ]
    }
   ],
   "source": [
    "na_rooms_mask = data['rooms'].isnull()\n",
    "na_rooms = data[na_rooms_mask]\n",
    "na_rooms_total = na_rooms.index.size\n",
    "print(\"Proportion of missing rooms: {0}\".format(na_rooms_total / data.index.size))"
   ]
  },
  {
   "cell_type": "markdown",
   "metadata": {},
   "source": [
    "Otra vez, nos encontramos con una proporción alta (aunque no tal alta como los casos anteriores).\n",
    "En este caso, la descripción en muchos casos tiene información que podría ser usada para inferir la cantidad de ambientes que tiene una propiedad pero habría que programar lógica capaz de extraer dicha información, sumarizarla y en muchos casos chequearla personalmente."
   ]
  },
  {
   "cell_type": "markdown",
   "metadata": {},
   "source": [
    "Desestimamos incluir esta columna en este primer análisis debido a la carga de trabajo que supone lo explicado en el párrafo anterior."
   ]
  },
  {
   "cell_type": "markdown",
   "metadata": {},
   "source": [
    "### Columna *price* y relacionadas\n",
    "Vamos a dividir el dataset en 2 partes:\n",
    " * el precio está disponible o puede inferirse a partir de otras columnas.\n",
    " * el precio es N/A y las columnas de las que se podría inferir también son N/A."
   ]
  },
  {
   "cell_type": "code",
   "execution_count": 644,
   "metadata": {},
   "outputs": [
    {
     "name": "stdout",
     "output_type": "stream",
     "text": [
      "Prices/Surfaces non calculables: 28046\n",
      "Prices/Surfaces calculables: 93174\n"
     ]
    }
   ],
   "source": [
    "def show_valid_rows_proportion(df):\n",
    "    na_surface_mask     = data[['surface_total_in_m2', 'surface_covered_in_m2']].isna().all(axis=1)\n",
    "    na_total_price_mask = data[['price', 'price_aprox_local_currency', 'price_aprox_usd']].isna().all(axis=1)\n",
    "    na_m2_price_mask    = data[['price_per_m2', 'price_usd_per_m2']].isna().all(axis=1)\n",
    "\n",
    "    uncalculable_mask = (na_surface_mask & na_total_price_mask) | (na_surface_mask & na_m2_price_mask) | \\\n",
    "    (na_total_price_mask & na_m2_price_mask)\n",
    "    \n",
    "    df_calculables   = df[~uncalculable_mask]\n",
    "    df_uncalculables = df[uncalculable_mask]\n",
    "    print(\"Prices/Surfaces non calculables: {0}\".format(df_uncalculables.index.size))\n",
    "    print(\"Prices/Surfaces calculables: {0}\".format(df_calculables.index.size))\n",
    "\n",
    "show_valid_rows_proportion(data)"
   ]
  },
  {
   "cell_type": "markdown",
   "metadata": {},
   "source": [
    "Lo anterior significa que tenemos casi 30000 registros que carecen de los datos necesarios para ser tenidos en cuenta. Vamos a tratar de inferir algunos usando las columnas **title** y **description**."
   ]
  },
  {
   "cell_type": "code",
   "execution_count": 645,
   "metadata": {},
   "outputs": [
    {
     "name": "stdout",
     "output_type": "stream",
     "text": [
      "Prices/Surfaces non calculables: 25480\n",
      "Prices/Surfaces calculables: 95740\n"
     ]
    }
   ],
   "source": [
    "def apply_price_title_and_description(r):\n",
    "    def getprice(source, pattern):\n",
    "        price = re.sub(\"[^0-9]\", \"\", source[source.find(pattern) + len(pattern):].strip().split(' ')[0])\n",
    "        return np.float64(price)\n",
    "    if re.search(r'en\\s+venta', r.title, re.I):\n",
    "        if r.title.startswith(r'u$d') or r.title.startswith(r'usd'):\n",
    "            r.price    = np.float64(r.title.split()[1].strip().replace('.', ''))\n",
    "            r.currency = 'USD'\n",
    "        elif r.title.startswith(r'$'):\n",
    "            r.price    = np.float64(r.title.split()[1].strip().replace('.', ''))\n",
    "            r.currency = 'ARS'\n",
    "    elif r'vendo $' in r.description:\n",
    "        r.price    = getprice(r.description, 'vendo $')\n",
    "        r.currency = 'ARS'\n",
    "    elif r'vendo casa $' in r.description:\n",
    "        r.price    = getprice(r.description, r'vendo casa $')\n",
    "        r.currency = 'ARS'\n",
    "    elif r'vendo u$s' in r.description:\n",
    "        r.price    = getprice(r.description, 'vendo u$s')\n",
    "        r.currency = 'USD'\n",
    "    return r\n",
    "\n",
    "price_na_mask = data['price'].isna()\n",
    "data[price_na_mask] = data[price_na_mask].apply(apply_price_title_and_description, axis=1)\n",
    "\n",
    "show_valid_rows_proportion(data)"
   ]
  },
  {
   "cell_type": "markdown",
   "metadata": {},
   "source": [
    "### Columnas Irrelevantes para el estudio - Fase 2\n",
    "Procedemos a quitar del dataset las columnas que *expenses*, *floor* y *rooms*.\n",
    "Quitamos además las columnas *operation* y *country_name* (tienen un solo valor) y *place_with_parent_names* dado que es la concatenación de otras 3 columnas."
   ]
  },
  {
   "cell_type": "code",
   "execution_count": 646,
   "metadata": {},
   "outputs": [
    {
     "data": {
      "text/html": [
       "<div>\n",
       "<style scoped>\n",
       "    .dataframe tbody tr th:only-of-type {\n",
       "        vertical-align: middle;\n",
       "    }\n",
       "\n",
       "    .dataframe tbody tr th {\n",
       "        vertical-align: top;\n",
       "    }\n",
       "\n",
       "    .dataframe thead th {\n",
       "        text-align: right;\n",
       "    }\n",
       "</style>\n",
       "<table border=\"1\" class=\"dataframe\">\n",
       "  <thead>\n",
       "    <tr style=\"text-align: right;\">\n",
       "      <th></th>\n",
       "      <th>lat</th>\n",
       "      <th>surface_total_in_m2</th>\n",
       "      <th>geonames_id</th>\n",
       "      <th>surface_covered_in_m2</th>\n",
       "      <th>lon</th>\n",
       "      <th>price_aprox_usd</th>\n",
       "      <th>currency</th>\n",
       "      <th>state_name</th>\n",
       "      <th>price_aprox_local_currency</th>\n",
       "      <th>title</th>\n",
       "      <th>property_type</th>\n",
       "      <th>price_usd_per_m2</th>\n",
       "      <th>price</th>\n",
       "      <th>lat-lon</th>\n",
       "      <th>place_name</th>\n",
       "      <th>price_per_m2</th>\n",
       "      <th>description</th>\n",
       "    </tr>\n",
       "  </thead>\n",
       "  <tbody>\n",
       "    <tr>\n",
       "      <th>0</th>\n",
       "      <td>-34.661824</td>\n",
       "      <td>55.0</td>\n",
       "      <td>3430787.0</td>\n",
       "      <td>40.0</td>\n",
       "      <td>-58.508839</td>\n",
       "      <td>62000.0</td>\n",
       "      <td>USD</td>\n",
       "      <td>Capital Federal</td>\n",
       "      <td>1093959.0</td>\n",
       "      <td>2 amb tipo casa sin expensas en pb</td>\n",
       "      <td>PH</td>\n",
       "      <td>1127.272727</td>\n",
       "      <td>62000.0</td>\n",
       "      <td>-34.6618237,-58.5088387</td>\n",
       "      <td>Mataderos</td>\n",
       "      <td>1550.000000</td>\n",
       "      <td>2 ambientes tipo casa planta baja por pasillo,...</td>\n",
       "    </tr>\n",
       "    <tr>\n",
       "      <th>1</th>\n",
       "      <td>-34.903883</td>\n",
       "      <td>NaN</td>\n",
       "      <td>3432039.0</td>\n",
       "      <td>NaN</td>\n",
       "      <td>-57.964330</td>\n",
       "      <td>150000.0</td>\n",
       "      <td>USD</td>\n",
       "      <td>Bs.As. G.B.A. Zona Sur</td>\n",
       "      <td>2646675.0</td>\n",
       "      <td>venta depto 2 dorm. a estrenar 7 e/ 36 y 37</td>\n",
       "      <td>apartment</td>\n",
       "      <td>NaN</td>\n",
       "      <td>150000.0</td>\n",
       "      <td>-34.9038831,-57.9643295</td>\n",
       "      <td>La Plata</td>\n",
       "      <td>NaN</td>\n",
       "      <td>venta de departamento en décimo piso al frente...</td>\n",
       "    </tr>\n",
       "    <tr>\n",
       "      <th>2</th>\n",
       "      <td>-34.652262</td>\n",
       "      <td>55.0</td>\n",
       "      <td>3430787.0</td>\n",
       "      <td>55.0</td>\n",
       "      <td>-58.522982</td>\n",
       "      <td>72000.0</td>\n",
       "      <td>USD</td>\n",
       "      <td>Capital Federal</td>\n",
       "      <td>1270404.0</td>\n",
       "      <td>2 amb 3er piso con ascensor apto credito</td>\n",
       "      <td>apartment</td>\n",
       "      <td>1309.090909</td>\n",
       "      <td>72000.0</td>\n",
       "      <td>-34.6522615,-58.5229825</td>\n",
       "      <td>Mataderos</td>\n",
       "      <td>1309.090909</td>\n",
       "      <td>2 ambientes 3er piso lateral living comedor am...</td>\n",
       "    </tr>\n",
       "    <tr>\n",
       "      <th>3</th>\n",
       "      <td>-34.647797</td>\n",
       "      <td>NaN</td>\n",
       "      <td>3431333.0</td>\n",
       "      <td>NaN</td>\n",
       "      <td>-58.516424</td>\n",
       "      <td>95000.0</td>\n",
       "      <td>USD</td>\n",
       "      <td>Capital Federal</td>\n",
       "      <td>1676227.5</td>\n",
       "      <td>ph 3 amb. cfte. reciclado</td>\n",
       "      <td>PH</td>\n",
       "      <td>NaN</td>\n",
       "      <td>95000.0</td>\n",
       "      <td>-34.6477969,-58.5164244</td>\n",
       "      <td>Liniers</td>\n",
       "      <td>NaN</td>\n",
       "      <td>ph 3 ambientes con patio. hay 3 deptos en lote...</td>\n",
       "    </tr>\n",
       "    <tr>\n",
       "      <th>4</th>\n",
       "      <td>-38.002626</td>\n",
       "      <td>35.0</td>\n",
       "      <td>3435548.0</td>\n",
       "      <td>35.0</td>\n",
       "      <td>-57.549447</td>\n",
       "      <td>64000.0</td>\n",
       "      <td>USD</td>\n",
       "      <td>Buenos Aires Costa Atlántica</td>\n",
       "      <td>1129248.0</td>\n",
       "      <td>depto 2 amb al contrafrente zona centro/plaza ...</td>\n",
       "      <td>apartment</td>\n",
       "      <td>1828.571429</td>\n",
       "      <td>64000.0</td>\n",
       "      <td>-38.0026256,-57.5494468</td>\n",
       "      <td>Centro</td>\n",
       "      <td>1828.571429</td>\n",
       "      <td>departamento con fantástica iluminación natura...</td>\n",
       "    </tr>\n",
       "  </tbody>\n",
       "</table>\n",
       "</div>"
      ],
      "text/plain": [
       "         lat  surface_total_in_m2  geonames_id  surface_covered_in_m2  \\\n",
       "0 -34.661824                 55.0    3430787.0                   40.0   \n",
       "1 -34.903883                  NaN    3432039.0                    NaN   \n",
       "2 -34.652262                 55.0    3430787.0                   55.0   \n",
       "3 -34.647797                  NaN    3431333.0                    NaN   \n",
       "4 -38.002626                 35.0    3435548.0                   35.0   \n",
       "\n",
       "         lon  price_aprox_usd currency                    state_name  \\\n",
       "0 -58.508839          62000.0      USD               Capital Federal   \n",
       "1 -57.964330         150000.0      USD        Bs.As. G.B.A. Zona Sur   \n",
       "2 -58.522982          72000.0      USD               Capital Federal   \n",
       "3 -58.516424          95000.0      USD               Capital Federal   \n",
       "4 -57.549447          64000.0      USD  Buenos Aires Costa Atlántica   \n",
       "\n",
       "   price_aprox_local_currency  \\\n",
       "0                   1093959.0   \n",
       "1                   2646675.0   \n",
       "2                   1270404.0   \n",
       "3                   1676227.5   \n",
       "4                   1129248.0   \n",
       "\n",
       "                                               title property_type  \\\n",
       "0                 2 amb tipo casa sin expensas en pb            PH   \n",
       "1        venta depto 2 dorm. a estrenar 7 e/ 36 y 37     apartment   \n",
       "2           2 amb 3er piso con ascensor apto credito     apartment   \n",
       "3                          ph 3 amb. cfte. reciclado            PH   \n",
       "4  depto 2 amb al contrafrente zona centro/plaza ...     apartment   \n",
       "\n",
       "   price_usd_per_m2     price                  lat-lon place_name  \\\n",
       "0       1127.272727   62000.0  -34.6618237,-58.5088387  Mataderos   \n",
       "1               NaN  150000.0  -34.9038831,-57.9643295   La Plata   \n",
       "2       1309.090909   72000.0  -34.6522615,-58.5229825  Mataderos   \n",
       "3               NaN   95000.0  -34.6477969,-58.5164244    Liniers   \n",
       "4       1828.571429   64000.0  -38.0026256,-57.5494468     Centro   \n",
       "\n",
       "   price_per_m2                                        description  \n",
       "0   1550.000000  2 ambientes tipo casa planta baja por pasillo,...  \n",
       "1           NaN  venta de departamento en décimo piso al frente...  \n",
       "2   1309.090909  2 ambientes 3er piso lateral living comedor am...  \n",
       "3           NaN  ph 3 ambientes con patio. hay 3 deptos en lote...  \n",
       "4   1828.571429  departamento con fantástica iluminación natura...  "
      ]
     },
     "execution_count": 646,
     "metadata": {},
     "output_type": "execute_result"
    }
   ],
   "source": [
    "data = drop_columns(data, ['country_name', 'operation', 'place_with_parent_names', 'expenses', 'floor', 'rooms'])\n",
    "data.head(5)"
   ]
  },
  {
   "cell_type": "markdown",
   "metadata": {},
   "source": [
    "## Tratamiento de duplicados\n",
    "El primer lote de duplicados que consideramos se compone por el siguiente conjunto de columnas:\n",
    " * property_type\n",
    " * lat\n",
    " * lon\n",
    " * price\n",
    " * place_name\n",
    " * geonames_id\n",
    "\n",
    "Comenzamos identificando duplicados sin tener en cuenta las filas con N/A:"
   ]
  },
  {
   "cell_type": "code",
   "execution_count": 647,
   "metadata": {},
   "outputs": [
    {
     "name": "stdout",
     "output_type": "stream",
     "text": [
      "Total with duplicates: 51041\n",
      "Total without duplicates: 46949\n"
     ]
    }
   ],
   "source": [
    "with_duplicates_ds    = data[data[['lat', 'lon', 'geonames_id', 'price']].notna().all(axis=1)]\n",
    "without_duplicates_ds = with_duplicates_ds.drop_duplicates(subset=('property_type', 'lat', 'lon', 'price', 'place_name', 'geonames_id'), keep='first')\n",
    "print(\"Total with duplicates: {0}\".format(with_duplicates_ds.index.size))\n",
    "print(\"Total without duplicates: {0}\".format(without_duplicates_ds.index.size))"
   ]
  },
  {
   "cell_type": "markdown",
   "metadata": {},
   "source": [
    "El siguiente paso es eliminar efectivamente los duplicados de la celda anterior."
   ]
  },
  {
   "cell_type": "code",
   "execution_count": 648,
   "metadata": {},
   "outputs": [
    {
     "data": {
      "text/plain": [
       "(117128, 17)"
      ]
     },
     "execution_count": 648,
     "metadata": {},
     "output_type": "execute_result"
    }
   ],
   "source": [
    "duplicates_mask = data[['property_type', 'lat', 'lon', 'price', 'place_name', 'geonames_id']].duplicated()\n",
    "not_na_mask     = data[['lat', 'lon', 'geonames_id', 'price']].notna().all(axis=1)\n",
    "data = data[~(duplicates_mask & not_na_mask)]\n",
    "\n",
    "data.shape"
   ]
  },
  {
   "cell_type": "code",
   "execution_count": 649,
   "metadata": {},
   "outputs": [
    {
     "data": {
      "text/html": [
       "<div>\n",
       "<style scoped>\n",
       "    .dataframe tbody tr th:only-of-type {\n",
       "        vertical-align: middle;\n",
       "    }\n",
       "\n",
       "    .dataframe tbody tr th {\n",
       "        vertical-align: top;\n",
       "    }\n",
       "\n",
       "    .dataframe thead th {\n",
       "        text-align: right;\n",
       "    }\n",
       "</style>\n",
       "<table border=\"1\" class=\"dataframe\">\n",
       "  <thead>\n",
       "    <tr style=\"text-align: right;\">\n",
       "      <th></th>\n",
       "      <th>total</th>\n",
       "      <th>percent</th>\n",
       "    </tr>\n",
       "  </thead>\n",
       "  <tbody>\n",
       "    <tr>\n",
       "      <th>lat</th>\n",
       "      <td>51550</td>\n",
       "      <td>0.440117</td>\n",
       "    </tr>\n",
       "    <tr>\n",
       "      <th>surface_total_in_m2</th>\n",
       "      <td>38404</td>\n",
       "      <td>0.327881</td>\n",
       "    </tr>\n",
       "    <tr>\n",
       "      <th>geonames_id</th>\n",
       "      <td>18717</td>\n",
       "      <td>0.159800</td>\n",
       "    </tr>\n",
       "    <tr>\n",
       "      <th>surface_covered_in_m2</th>\n",
       "      <td>19313</td>\n",
       "      <td>0.164888</td>\n",
       "    </tr>\n",
       "    <tr>\n",
       "      <th>lon</th>\n",
       "      <td>51550</td>\n",
       "      <td>0.440117</td>\n",
       "    </tr>\n",
       "    <tr>\n",
       "      <th>price_aprox_usd</th>\n",
       "      <td>20275</td>\n",
       "      <td>0.173101</td>\n",
       "    </tr>\n",
       "    <tr>\n",
       "      <th>currency</th>\n",
       "      <td>17787</td>\n",
       "      <td>0.151860</td>\n",
       "    </tr>\n",
       "    <tr>\n",
       "      <th>price_aprox_local_currency</th>\n",
       "      <td>20275</td>\n",
       "      <td>0.173101</td>\n",
       "    </tr>\n",
       "    <tr>\n",
       "      <th>price_usd_per_m2</th>\n",
       "      <td>51536</td>\n",
       "      <td>0.439997</td>\n",
       "    </tr>\n",
       "    <tr>\n",
       "      <th>price</th>\n",
       "      <td>17786</td>\n",
       "      <td>0.151851</td>\n",
       "    </tr>\n",
       "    <tr>\n",
       "      <th>lat-lon</th>\n",
       "      <td>51550</td>\n",
       "      <td>0.440117</td>\n",
       "    </tr>\n",
       "    <tr>\n",
       "      <th>price_per_m2</th>\n",
       "      <td>32834</td>\n",
       "      <td>0.280326</td>\n",
       "    </tr>\n",
       "  </tbody>\n",
       "</table>\n",
       "</div>"
      ],
      "text/plain": [
       "                            total   percent\n",
       "lat                         51550  0.440117\n",
       "surface_total_in_m2         38404  0.327881\n",
       "geonames_id                 18717  0.159800\n",
       "surface_covered_in_m2       19313  0.164888\n",
       "lon                         51550  0.440117\n",
       "price_aprox_usd             20275  0.173101\n",
       "currency                    17787  0.151860\n",
       "price_aprox_local_currency  20275  0.173101\n",
       "price_usd_per_m2            51536  0.439997\n",
       "price                       17786  0.151851\n",
       "lat-lon                     51550  0.440117\n",
       "price_per_m2                32834  0.280326"
      ]
     },
     "execution_count": 649,
     "metadata": {},
     "output_type": "execute_result"
    }
   ],
   "source": [
    "show_null_distribution(data)"
   ]
  },
  {
   "cell_type": "markdown",
   "metadata": {},
   "source": [
    "### Tratamiento de Valores Faltantes para las columnas de coordenadas\n",
    "Una vez utilizadas las columnas *lat* y *lon* para determinar el duplicado de las filas, chequeamos los valores faltantes."
   ]
  },
  {
   "cell_type": "code",
   "execution_count": 650,
   "metadata": {},
   "outputs": [
    {
     "name": "stdout",
     "output_type": "stream",
     "text": [
      "Total of null coordinates: 51550\n"
     ]
    }
   ],
   "source": [
    "lat_lon_mask = data[['lat', 'lon', 'lat-lon']].isna().all(axis=1)\n",
    "print(\"Total of null coordinates: {0}\".format(lat_lon_mask.sum()))"
   ]
  },
  {
   "cell_type": "markdown",
   "metadata": {},
   "source": [
    "Podríamos localizar algunos de los N/A escaneando las columna *description*:"
   ]
  },
  {
   "cell_type": "code",
   "execution_count": 651,
   "metadata": {},
   "outputs": [
    {
     "data": {
      "text/plain": [
       "(8263, 4352, 1)"
      ]
     },
     "execution_count": 651,
     "metadata": {},
     "output_type": "execute_result"
    }
   ],
   "source": [
    "calc_lat_total = na_expenses['description'].str.contains('lat', case=False, regex=False).sum()\n",
    "calc_lon_total = na_expenses['description'].str.contains('lon', case=False, regex=False).sum()\n",
    "calc_lng_total = na_expenses['description'].str.contains('lng', case=False, regex=False).sum()\n",
    "calc_lat_total, calc_lon_total, calc_lng_total"
   ]
  },
  {
   "cell_type": "markdown",
   "metadata": {},
   "source": [
    "Dado que no es común que la descripción incluya la dirección real del inmueble, en el mejor de los casos (siendo muy optimistas) nos quedarían más de 40000 registros con N/A."
   ]
  },
  {
   "cell_type": "markdown",
   "metadata": {},
   "source": [
    "### Columnas Irrelevantes para el estudio - Fase 3\n",
    "Eliminamos las 3 columnas relacionadas a coordenadas:\n",
    "* lat\n",
    "* lon\n",
    "* lat-lon"
   ]
  },
  {
   "cell_type": "code",
   "execution_count": 652,
   "metadata": {},
   "outputs": [
    {
     "data": {
      "text/html": [
       "<div>\n",
       "<style scoped>\n",
       "    .dataframe tbody tr th:only-of-type {\n",
       "        vertical-align: middle;\n",
       "    }\n",
       "\n",
       "    .dataframe tbody tr th {\n",
       "        vertical-align: top;\n",
       "    }\n",
       "\n",
       "    .dataframe thead th {\n",
       "        text-align: right;\n",
       "    }\n",
       "</style>\n",
       "<table border=\"1\" class=\"dataframe\">\n",
       "  <thead>\n",
       "    <tr style=\"text-align: right;\">\n",
       "      <th></th>\n",
       "      <th>state_name</th>\n",
       "      <th>property_type</th>\n",
       "      <th>price_usd_per_m2</th>\n",
       "      <th>price_aprox_local_currency</th>\n",
       "      <th>description</th>\n",
       "      <th>surface_total_in_m2</th>\n",
       "      <th>geonames_id</th>\n",
       "      <th>surface_covered_in_m2</th>\n",
       "      <th>price_aprox_usd</th>\n",
       "      <th>currency</th>\n",
       "      <th>title</th>\n",
       "      <th>price</th>\n",
       "      <th>place_name</th>\n",
       "      <th>price_per_m2</th>\n",
       "    </tr>\n",
       "  </thead>\n",
       "  <tbody>\n",
       "    <tr>\n",
       "      <th>0</th>\n",
       "      <td>Capital Federal</td>\n",
       "      <td>PH</td>\n",
       "      <td>1127.272727</td>\n",
       "      <td>1093959.0</td>\n",
       "      <td>2 ambientes tipo casa planta baja por pasillo,...</td>\n",
       "      <td>55.0</td>\n",
       "      <td>3430787.0</td>\n",
       "      <td>40.0</td>\n",
       "      <td>62000.0</td>\n",
       "      <td>USD</td>\n",
       "      <td>2 amb tipo casa sin expensas en pb</td>\n",
       "      <td>62000.0</td>\n",
       "      <td>Mataderos</td>\n",
       "      <td>1550.000000</td>\n",
       "    </tr>\n",
       "    <tr>\n",
       "      <th>1</th>\n",
       "      <td>Bs.As. G.B.A. Zona Sur</td>\n",
       "      <td>apartment</td>\n",
       "      <td>NaN</td>\n",
       "      <td>2646675.0</td>\n",
       "      <td>venta de departamento en décimo piso al frente...</td>\n",
       "      <td>NaN</td>\n",
       "      <td>3432039.0</td>\n",
       "      <td>NaN</td>\n",
       "      <td>150000.0</td>\n",
       "      <td>USD</td>\n",
       "      <td>venta depto 2 dorm. a estrenar 7 e/ 36 y 37</td>\n",
       "      <td>150000.0</td>\n",
       "      <td>La Plata</td>\n",
       "      <td>NaN</td>\n",
       "    </tr>\n",
       "    <tr>\n",
       "      <th>2</th>\n",
       "      <td>Capital Federal</td>\n",
       "      <td>apartment</td>\n",
       "      <td>1309.090909</td>\n",
       "      <td>1270404.0</td>\n",
       "      <td>2 ambientes 3er piso lateral living comedor am...</td>\n",
       "      <td>55.0</td>\n",
       "      <td>3430787.0</td>\n",
       "      <td>55.0</td>\n",
       "      <td>72000.0</td>\n",
       "      <td>USD</td>\n",
       "      <td>2 amb 3er piso con ascensor apto credito</td>\n",
       "      <td>72000.0</td>\n",
       "      <td>Mataderos</td>\n",
       "      <td>1309.090909</td>\n",
       "    </tr>\n",
       "    <tr>\n",
       "      <th>3</th>\n",
       "      <td>Capital Federal</td>\n",
       "      <td>PH</td>\n",
       "      <td>NaN</td>\n",
       "      <td>1676227.5</td>\n",
       "      <td>ph 3 ambientes con patio. hay 3 deptos en lote...</td>\n",
       "      <td>NaN</td>\n",
       "      <td>3431333.0</td>\n",
       "      <td>NaN</td>\n",
       "      <td>95000.0</td>\n",
       "      <td>USD</td>\n",
       "      <td>ph 3 amb. cfte. reciclado</td>\n",
       "      <td>95000.0</td>\n",
       "      <td>Liniers</td>\n",
       "      <td>NaN</td>\n",
       "    </tr>\n",
       "    <tr>\n",
       "      <th>4</th>\n",
       "      <td>Buenos Aires Costa Atlántica</td>\n",
       "      <td>apartment</td>\n",
       "      <td>1828.571429</td>\n",
       "      <td>1129248.0</td>\n",
       "      <td>departamento con fantástica iluminación natura...</td>\n",
       "      <td>35.0</td>\n",
       "      <td>3435548.0</td>\n",
       "      <td>35.0</td>\n",
       "      <td>64000.0</td>\n",
       "      <td>USD</td>\n",
       "      <td>depto 2 amb al contrafrente zona centro/plaza ...</td>\n",
       "      <td>64000.0</td>\n",
       "      <td>Centro</td>\n",
       "      <td>1828.571429</td>\n",
       "    </tr>\n",
       "  </tbody>\n",
       "</table>\n",
       "</div>"
      ],
      "text/plain": [
       "                     state_name property_type  price_usd_per_m2  \\\n",
       "0               Capital Federal            PH       1127.272727   \n",
       "1        Bs.As. G.B.A. Zona Sur     apartment               NaN   \n",
       "2               Capital Federal     apartment       1309.090909   \n",
       "3               Capital Federal            PH               NaN   \n",
       "4  Buenos Aires Costa Atlántica     apartment       1828.571429   \n",
       "\n",
       "   price_aprox_local_currency  \\\n",
       "0                   1093959.0   \n",
       "1                   2646675.0   \n",
       "2                   1270404.0   \n",
       "3                   1676227.5   \n",
       "4                   1129248.0   \n",
       "\n",
       "                                         description  surface_total_in_m2  \\\n",
       "0  2 ambientes tipo casa planta baja por pasillo,...                 55.0   \n",
       "1  venta de departamento en décimo piso al frente...                  NaN   \n",
       "2  2 ambientes 3er piso lateral living comedor am...                 55.0   \n",
       "3  ph 3 ambientes con patio. hay 3 deptos en lote...                  NaN   \n",
       "4  departamento con fantástica iluminación natura...                 35.0   \n",
       "\n",
       "   geonames_id  surface_covered_in_m2  price_aprox_usd currency  \\\n",
       "0    3430787.0                   40.0          62000.0      USD   \n",
       "1    3432039.0                    NaN         150000.0      USD   \n",
       "2    3430787.0                   55.0          72000.0      USD   \n",
       "3    3431333.0                    NaN          95000.0      USD   \n",
       "4    3435548.0                   35.0          64000.0      USD   \n",
       "\n",
       "                                               title     price place_name  \\\n",
       "0                 2 amb tipo casa sin expensas en pb   62000.0  Mataderos   \n",
       "1        venta depto 2 dorm. a estrenar 7 e/ 36 y 37  150000.0   La Plata   \n",
       "2           2 amb 3er piso con ascensor apto credito   72000.0  Mataderos   \n",
       "3                          ph 3 amb. cfte. reciclado   95000.0    Liniers   \n",
       "4  depto 2 amb al contrafrente zona centro/plaza ...   64000.0     Centro   \n",
       "\n",
       "   price_per_m2  \n",
       "0   1550.000000  \n",
       "1           NaN  \n",
       "2   1309.090909  \n",
       "3           NaN  \n",
       "4   1828.571429  "
      ]
     },
     "execution_count": 652,
     "metadata": {},
     "output_type": "execute_result"
    }
   ],
   "source": [
    "data = drop_columns(data, ['lat', 'lon', 'lat-lon'])\n",
    "data.head(5)"
   ]
  },
  {
   "cell_type": "markdown",
   "metadata": {},
   "source": [
    "## Tratamiento de N/A\n",
    "Para comenzar, identificamos todos los registros que no tienen referencia alguna del precio:"
   ]
  },
  {
   "cell_type": "code",
   "execution_count": 653,
   "metadata": {},
   "outputs": [
    {
     "data": {
      "text/plain": [
       "17786"
      ]
     },
     "execution_count": 653,
     "metadata": {},
     "output_type": "execute_result"
    }
   ],
   "source": [
    "na_price_mask = data[['price', 'price_aprox_local_currency', 'price_aprox_usd', 'price_per_m2', 'price_usd_per_m2']].isna().all(axis=1)\n",
    "na_price_mask.sum()"
   ]
  },
  {
   "cell_type": "markdown",
   "metadata": {},
   "source": [
    "Identifiquemos tambien todos los registros que no tienen referencia alguna a los metros cuadrados:"
   ]
  },
  {
   "cell_type": "code",
   "execution_count": 654,
   "metadata": {},
   "outputs": [
    {
     "data": {
      "text/plain": [
       "12080"
      ]
     },
     "execution_count": 654,
     "metadata": {},
     "output_type": "execute_result"
    }
   ],
   "source": [
    "na_surface_mask = data[['surface_total_in_m2', 'surface_covered_in_m2']].isna().all(axis=1)\n",
    "na_surface_mask.sum()"
   ]
  },
  {
   "cell_type": "markdown",
   "metadata": {},
   "source": [
    "Y cuantos tienen carecen de ambas:"
   ]
  },
  {
   "cell_type": "code",
   "execution_count": 655,
   "metadata": {},
   "outputs": [
    {
     "data": {
      "text/plain": [
       "4675"
      ]
     },
     "execution_count": 655,
     "metadata": {},
     "output_type": "execute_result"
    }
   ],
   "source": [
    "data[na_price_mask & na_surface_mask].index.size"
   ]
  },
  {
   "cell_type": "markdown",
   "metadata": {},
   "source": [
    "Eliminamos los que carecen de ambas dado que de inferir, habría que hacerlo con todos las columnas."
   ]
  },
  {
   "cell_type": "code",
   "execution_count": 656,
   "metadata": {},
   "outputs": [],
   "source": [
    "columns_price = ['price', 'price_aprox_local_currency', 'price_aprox_usd', 'price_per_m2', 'price_usd_per_m2', 'surface_total_in_m2', 'surface_covered_in_m2']\n",
    "data.dropna(subset=columns_price, how='all', inplace=True)"
   ]
  },
  {
   "cell_type": "markdown",
   "metadata": {},
   "source": [
    "Ahora verificamos que registros tienen la información necesaria para inferir o aproximar las columnas de interés. Se pueden dar los siguientes casos:\n",
    "* Con una superficie y un precio total, podemos inferir el precio por m2 (en el peor de los casos usaríamos la superficie cubierta para aproximar la superficie total).\n",
    "* Con un precio total y un precio por m2, podemos inferir la superficie (en el peor de los casos la superficie inferida sería considerada total)\n",
    "* Con una superficie y un precio por m2, podemos inferir el precio total (en el peor de los casos usaríamos la superficie cubierta para aproximar la superficie total).\n",
    "\n",
    "Como valor del dolar, podemos tomar el promedio que tuvo la divisa durante 2017."
   ]
  },
  {
   "cell_type": "code",
   "execution_count": 657,
   "metadata": {},
   "outputs": [
    {
     "data": {
      "text/plain": [
       "20516"
      ]
     },
     "execution_count": 657,
     "metadata": {},
     "output_type": "execute_result"
    }
   ],
   "source": [
    "na_surface_mask     = data[['surface_total_in_m2', 'surface_covered_in_m2']].isna().all(axis=1)\n",
    "na_total_price_mask = data[['price', 'price_aprox_local_currency', 'price_aprox_usd']].isna().all(axis=1)\n",
    "na_m2_price_mask    = data[['price_per_m2', 'price_usd_per_m2']].isna().all(axis=1)\n",
    "\n",
    "drop_condition_mask = (na_surface_mask & na_total_price_mask) | (na_surface_mask & na_m2_price_mask) | \\\n",
    "(na_total_price_mask & na_m2_price_mask)\n",
    "\n",
    "drop_condition_mask.sum()"
   ]
  },
  {
   "cell_type": "markdown",
   "metadata": {},
   "source": [
    "Eliminamos las filas que no tienen la información necesaria para proceder según los puntos anteriores."
   ]
  },
  {
   "cell_type": "code",
   "execution_count": 658,
   "metadata": {},
   "outputs": [
    {
     "data": {
      "text/plain": [
       "(91937, 14)"
      ]
     },
     "execution_count": 658,
     "metadata": {},
     "output_type": "execute_result"
    }
   ],
   "source": [
    "data = data.loc[~drop_condition_mask, :]\n",
    "data.shape"
   ]
  },
  {
   "cell_type": "code",
   "execution_count": 660,
   "metadata": {},
   "outputs": [
    {
     "data": {
      "text/html": [
       "<div>\n",
       "<style scoped>\n",
       "    .dataframe tbody tr th:only-of-type {\n",
       "        vertical-align: middle;\n",
       "    }\n",
       "\n",
       "    .dataframe tbody tr th {\n",
       "        vertical-align: top;\n",
       "    }\n",
       "\n",
       "    .dataframe thead th {\n",
       "        text-align: right;\n",
       "    }\n",
       "</style>\n",
       "<table border=\"1\" class=\"dataframe\">\n",
       "  <thead>\n",
       "    <tr style=\"text-align: right;\">\n",
       "      <th></th>\n",
       "      <th>price_usd_per_m2</th>\n",
       "      <th>price_aprox_local_currency</th>\n",
       "      <th>surface_total_in_m2</th>\n",
       "      <th>geonames_id</th>\n",
       "      <th>surface_covered_in_m2</th>\n",
       "      <th>price_aprox_usd</th>\n",
       "      <th>price</th>\n",
       "      <th>price_per_m2</th>\n",
       "    </tr>\n",
       "  </thead>\n",
       "  <tbody>\n",
       "    <tr>\n",
       "      <th>count</th>\n",
       "      <td>65592.000000</td>\n",
       "      <td>8.950500e+04</td>\n",
       "      <td>67963.000000</td>\n",
       "      <td>7.521800e+04</td>\n",
       "      <td>86696.000000</td>\n",
       "      <td>8.950500e+04</td>\n",
       "      <td>9.193700e+04</td>\n",
       "      <td>8.429400e+04</td>\n",
       "    </tr>\n",
       "    <tr>\n",
       "      <th>mean</th>\n",
       "      <td>2139.819258</td>\n",
       "      <td>4.333787e+06</td>\n",
       "      <td>230.747421</td>\n",
       "      <td>3.549370e+06</td>\n",
       "      <td>131.226769</td>\n",
       "      <td>2.456169e+05</td>\n",
       "      <td>4.547133e+05</td>\n",
       "      <td>6.889991e+03</td>\n",
       "    </tr>\n",
       "    <tr>\n",
       "      <th>std</th>\n",
       "      <td>2720.115239</td>\n",
       "      <td>6.463777e+06</td>\n",
       "      <td>1730.492332</td>\n",
       "      <td>3.720210e+05</td>\n",
       "      <td>749.718499</td>\n",
       "      <td>3.663338e+05</td>\n",
       "      <td>8.898536e+05</td>\n",
       "      <td>2.866172e+04</td>\n",
       "    </tr>\n",
       "    <tr>\n",
       "      <th>min</th>\n",
       "      <td>0.600000</td>\n",
       "      <td>8.234017e+04</td>\n",
       "      <td>0.000000</td>\n",
       "      <td>3.427208e+06</td>\n",
       "      <td>0.000000</td>\n",
       "      <td>4.666620e+03</td>\n",
       "      <td>1.000000e+00</td>\n",
       "      <td>1.510204e+00</td>\n",
       "    </tr>\n",
       "    <tr>\n",
       "      <th>25%</th>\n",
       "      <td>1200.000000</td>\n",
       "      <td>1.623294e+06</td>\n",
       "      <td>50.000000</td>\n",
       "      <td>3.429979e+06</td>\n",
       "      <td>45.000000</td>\n",
       "      <td>9.200000e+04</td>\n",
       "      <td>1.100000e+05</td>\n",
       "      <td>1.533880e+03</td>\n",
       "    </tr>\n",
       "    <tr>\n",
       "      <th>50%</th>\n",
       "      <td>1787.469807</td>\n",
       "      <td>2.646675e+06</td>\n",
       "      <td>85.000000</td>\n",
       "      <td>3.433357e+06</td>\n",
       "      <td>75.000000</td>\n",
       "      <td>1.500000e+05</td>\n",
       "      <td>1.900000e+05</td>\n",
       "      <td>2.200000e+03</td>\n",
       "    </tr>\n",
       "    <tr>\n",
       "      <th>75%</th>\n",
       "      <td>2481.481481</td>\n",
       "      <td>4.869882e+06</td>\n",
       "      <td>206.000000</td>\n",
       "      <td>3.436109e+06</td>\n",
       "      <td>150.000000</td>\n",
       "      <td>2.760000e+05</td>\n",
       "      <td>4.100000e+05</td>\n",
       "      <td>3.355891e+03</td>\n",
       "    </tr>\n",
       "    <tr>\n",
       "      <th>max</th>\n",
       "      <td>206333.333333</td>\n",
       "      <td>8.212711e+08</td>\n",
       "      <td>200000.000000</td>\n",
       "      <td>6.948895e+06</td>\n",
       "      <td>187000.000000</td>\n",
       "      <td>4.654544e+07</td>\n",
       "      <td>1.000000e+08</td>\n",
       "      <td>4.000000e+06</td>\n",
       "    </tr>\n",
       "  </tbody>\n",
       "</table>\n",
       "</div>"
      ],
      "text/plain": [
       "       price_usd_per_m2  price_aprox_local_currency  surface_total_in_m2  \\\n",
       "count      65592.000000                8.950500e+04         67963.000000   \n",
       "mean        2139.819258                4.333787e+06           230.747421   \n",
       "std         2720.115239                6.463777e+06          1730.492332   \n",
       "min            0.600000                8.234017e+04             0.000000   \n",
       "25%         1200.000000                1.623294e+06            50.000000   \n",
       "50%         1787.469807                2.646675e+06            85.000000   \n",
       "75%         2481.481481                4.869882e+06           206.000000   \n",
       "max       206333.333333                8.212711e+08        200000.000000   \n",
       "\n",
       "        geonames_id  surface_covered_in_m2  price_aprox_usd         price  \\\n",
       "count  7.521800e+04           86696.000000     8.950500e+04  9.193700e+04   \n",
       "mean   3.549370e+06             131.226769     2.456169e+05  4.547133e+05   \n",
       "std    3.720210e+05             749.718499     3.663338e+05  8.898536e+05   \n",
       "min    3.427208e+06               0.000000     4.666620e+03  1.000000e+00   \n",
       "25%    3.429979e+06              45.000000     9.200000e+04  1.100000e+05   \n",
       "50%    3.433357e+06              75.000000     1.500000e+05  1.900000e+05   \n",
       "75%    3.436109e+06             150.000000     2.760000e+05  4.100000e+05   \n",
       "max    6.948895e+06          187000.000000     4.654544e+07  1.000000e+08   \n",
       "\n",
       "       price_per_m2  \n",
       "count  8.429400e+04  \n",
       "mean   6.889991e+03  \n",
       "std    2.866172e+04  \n",
       "min    1.510204e+00  \n",
       "25%    1.533880e+03  \n",
       "50%    2.200000e+03  \n",
       "75%    3.355891e+03  \n",
       "max    4.000000e+06  "
      ]
     },
     "execution_count": 660,
     "metadata": {},
     "output_type": "execute_result"
    }
   ],
   "source": [
    "data.describe()"
   ]
  },
  {
   "cell_type": "code",
   "execution_count": null,
   "metadata": {},
   "outputs": [],
   "source": []
  }
 ],
 "metadata": {
  "kernelspec": {
   "display_name": "Python 3",
   "language": "python",
   "name": "python3"
  },
  "language_info": {
   "codemirror_mode": {
    "name": "ipython",
    "version": 3
   },
   "file_extension": ".py",
   "mimetype": "text/x-python",
   "name": "python",
   "nbconvert_exporter": "python",
   "pygments_lexer": "ipython3",
   "version": "3.7.6"
  }
 },
 "nbformat": 4,
 "nbformat_minor": 4
}
