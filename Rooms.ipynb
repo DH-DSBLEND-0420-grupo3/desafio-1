{
 "cells": [
  {
   "cell_type": "code",
   "execution_count": 1,
   "metadata": {
    "scrolled": true
   },
   "outputs": [
    {
     "name": "stdout",
     "output_type": "stream",
     "text": [
      "Running command `conda list`... ok\n",
      "pandas=1.0.3 already installed\n",
      "matplotlib=2.2.2 already installed\n",
      "bokeh=2.0.0 already installed\n",
      "seaborn=0.10.0 already installed\n",
      "ipywidgets=7.5.1 already installed\n",
      "pytest=5.3.4 already installed\n",
      "chardet=3.0.4 already installed\n",
      "plotly=4.6.0 already installed\n",
      "chart-studio=1.1.0 already installed\n",
      "Running command `conda install --yes nodejs=13.13.0`... error\n",
      "    \n",
      "PackagesNotFoundError: The following packages are not available from current channels:\n",
      "\n",
      "  - nodejs=13.13.0\n",
      "\n",
      "Current channels:\n",
      "\n",
      "  - https://repo.anaconda.com/pkgs/main/linux-64\n",
      "  - https://repo.anaconda.com/pkgs/main/noarch\n",
      "  - https://repo.anaconda.com/pkgs/r/linux-64\n",
      "  - https://repo.anaconda.com/pkgs/r/noarch\n",
      "\n",
      "To search for alternate channels that may provide the conda package you're\n",
      "looking for, navigate to\n",
      "\n",
      "    https://anaconda.org\n",
      "\n",
      "and use the search bar at the top of the page.\n",
      "\n",
      "\n",
      "\n"
     ]
    }
   ],
   "source": [
    "# initial setup\n",
    "try:\n",
    "    # settings colab:\n",
    "    import google.colab\n",
    "    \n",
    "    # si usan colab, deben cambiar el token de esta url\n",
    "    #! mkdir -p ../data\n",
    "    # los que usan colab deben modificar el token de esta url:\n",
    "    #! wget -O ../data/properati_2017.csv https://raw.githubusercontent.com/Digital-House-DATA/ds_blend_students_2020/master/M2/CLASE_07_Pandas_2/Data/resultado-de-encuestas-2017-2018.csv?token=AA4GFHO3EKGWGILBCV4BISC6WR6B4\n",
    "    \n",
    "except ModuleNotFoundError:    \n",
    "    # settings local:\n",
    "    %run \"common/base_setup.py\""
   ]
  },
  {
   "cell_type": "markdown",
   "metadata": {},
   "source": [
    "## Estructura del Dataset"
   ]
  },
  {
   "cell_type": "code",
   "execution_count": 2,
   "metadata": {},
   "outputs": [],
   "source": [
    "import pandas as pd\n",
    "import numpy as np\n",
    "import re"
   ]
  },
  {
   "cell_type": "code",
   "execution_count": 3,
   "metadata": {},
   "outputs": [],
   "source": [
    "# low_memorybool, default True\n",
    "# Internally process the file in chunks, resulting in lower memory use while parsing, \n",
    "# but possibly mixed type inference. To ensure no mixed types either set False, \n",
    "# or specify the type with the dtype parameter. \n",
    "# Note that the entire file is read into a single DataFrame regardless, \n",
    "# use the chunksize or iterator parameter to return the data in chunks. (Only valid with C parser).\n",
    "data = pd.read_csv(\"./data/properati.csv\", sep = \",\", low_memory=False)"
   ]
  },
  {
   "cell_type": "code",
<<<<<<< HEAD
   "execution_count": 4,
=======
   "execution_count": 5,
>>>>>>> 8e5f87870e56e908f0802cfceeaa468f2616f022
   "metadata": {},
   "outputs": [
    {
     "data": {
      "text/plain": [
       "(121220, 26)"
      ]
     },
<<<<<<< HEAD
     "execution_count": 4,
=======
     "execution_count": 5,
>>>>>>> 8e5f87870e56e908f0802cfceeaa468f2616f022
     "metadata": {},
     "output_type": "execute_result"
    }
   ],
   "source": [
    "data.shape"
   ]
  },
  {
   "cell_type": "code",
   "execution_count": 6,
   "metadata": {},
   "outputs": [
    {
     "data": {
      "text/plain": [
       "Index(['Unnamed: 0', 'operation', 'property_type', 'place_name',\n",
       "       'place_with_parent_names', 'country_name', 'state_name', 'geonames_id',\n",
       "       'lat-lon', 'lat', 'lon', 'price', 'currency',\n",
       "       'price_aprox_local_currency', 'price_aprox_usd', 'surface_total_in_m2',\n",
       "       'surface_covered_in_m2', 'price_usd_per_m2', 'price_per_m2', 'floor',\n",
       "       'rooms', 'expenses', 'properati_url', 'description', 'title',\n",
       "       'image_thumbnail'],\n",
       "      dtype='object')"
      ]
     },
     "execution_count": 6,
     "metadata": {},
     "output_type": "execute_result"
    }
   ],
   "source": [
    "data.columns"
   ]
  },
  {
   "cell_type": "code",
   "execution_count": 7,
   "metadata": {},
   "outputs": [
    {
     "data": {
      "text/plain": [
       "Unnamed: 0                      int64\n",
       "operation                      object\n",
       "property_type                  object\n",
       "place_name                     object\n",
       "place_with_parent_names        object\n",
       "country_name                   object\n",
       "state_name                     object\n",
       "geonames_id                   float64\n",
       "lat-lon                        object\n",
       "lat                           float64\n",
       "lon                           float64\n",
       "price                         float64\n",
       "currency                       object\n",
       "price_aprox_local_currency    float64\n",
       "price_aprox_usd               float64\n",
       "surface_total_in_m2           float64\n",
       "surface_covered_in_m2         float64\n",
       "price_usd_per_m2              float64\n",
       "price_per_m2                  float64\n",
       "floor                         float64\n",
       "rooms                         float64\n",
       "expenses                      float64\n",
       "properati_url                  object\n",
       "description                    object\n",
       "title                          object\n",
       "image_thumbnail                object\n",
       "dtype: object"
      ]
     },
     "execution_count": 7,
     "metadata": {},
     "output_type": "execute_result"
    }
   ],
   "source": [
    "data.dtypes"
   ]
  },
  {
   "cell_type": "markdown",
   "metadata": {},
   "source": [
    "### Columnas Irrelevantes para el estudio - Fase 1"
   ]
  },
  {
   "cell_type": "code",
<<<<<<< HEAD
   "execution_count": 5,
=======
   "execution_count": 6,
>>>>>>> 8e5f87870e56e908f0802cfceeaa468f2616f022
   "metadata": {},
   "outputs": [],
   "source": [
    "def drop_columns(df, columns):\n",
    "    all_columns = set(df.columns)\n",
    "    relevant_columns = all_columns.difference(set(columns))\n",
    "    return df.loc[:, list(relevant_columns)]\n",
    "\n",
    "data = drop_columns(data, ['Unnamed: 0', 'image_thumbnail', 'properati_url'])"
   ]
  },
  {
   "cell_type": "markdown",
   "metadata": {},
   "source": [
    "### Visualización Preliminar"
   ]
  },
  {
   "cell_type": "code",
   "execution_count": 9,
   "metadata": {},
   "outputs": [
    {
     "data": {
      "text/html": [
       "<div>\n",
       "<style scoped>\n",
       "    .dataframe tbody tr th:only-of-type {\n",
       "        vertical-align: middle;\n",
       "    }\n",
       "\n",
       "    .dataframe tbody tr th {\n",
       "        vertical-align: top;\n",
       "    }\n",
       "\n",
       "    .dataframe thead th {\n",
       "        text-align: right;\n",
       "    }\n",
       "</style>\n",
       "<table border=\"1\" class=\"dataframe\">\n",
       "  <thead>\n",
       "    <tr style=\"text-align: right;\">\n",
       "      <th></th>\n",
       "      <th>country_name</th>\n",
       "      <th>price_per_m2</th>\n",
       "      <th>geonames_id</th>\n",
       "      <th>surface_covered_in_m2</th>\n",
       "      <th>lat</th>\n",
       "      <th>price_usd_per_m2</th>\n",
       "      <th>floor</th>\n",
       "      <th>operation</th>\n",
       "      <th>currency</th>\n",
       "      <th>title</th>\n",
       "      <th>...</th>\n",
       "      <th>state_name</th>\n",
       "      <th>rooms</th>\n",
       "      <th>property_type</th>\n",
       "      <th>price_aprox_usd</th>\n",
       "      <th>lat-lon</th>\n",
       "      <th>expenses</th>\n",
       "      <th>lon</th>\n",
       "      <th>price</th>\n",
       "      <th>place_with_parent_names</th>\n",
       "      <th>description</th>\n",
       "    </tr>\n",
       "  </thead>\n",
       "  <tbody>\n",
       "    <tr>\n",
       "      <th>0</th>\n",
       "      <td>Argentina</td>\n",
       "      <td>1550.000000</td>\n",
       "      <td>3430787.0</td>\n",
       "      <td>40.0</td>\n",
       "      <td>-34.661824</td>\n",
       "      <td>1127.272727</td>\n",
       "      <td>NaN</td>\n",
       "      <td>sell</td>\n",
       "      <td>USD</td>\n",
       "      <td>2 AMB TIPO CASA SIN EXPENSAS EN PB</td>\n",
       "      <td>...</td>\n",
       "      <td>Capital Federal</td>\n",
       "      <td>NaN</td>\n",
       "      <td>PH</td>\n",
       "      <td>62000.00</td>\n",
       "      <td>-34.6618237,-58.5088387</td>\n",
       "      <td>NaN</td>\n",
       "      <td>-58.508839</td>\n",
       "      <td>62000.0</td>\n",
       "      <td>|Argentina|Capital Federal|Mataderos|</td>\n",
       "      <td>2 AMBIENTES TIPO CASA PLANTA BAJA POR PASILLO,...</td>\n",
       "    </tr>\n",
       "    <tr>\n",
       "      <th>1</th>\n",
       "      <td>Argentina</td>\n",
       "      <td>NaN</td>\n",
       "      <td>3432039.0</td>\n",
       "      <td>NaN</td>\n",
       "      <td>-34.903883</td>\n",
       "      <td>NaN</td>\n",
       "      <td>NaN</td>\n",
       "      <td>sell</td>\n",
       "      <td>USD</td>\n",
       "      <td>VENTA Depto 2 dorm. a estrenar 7 e/ 36 y 37   ...</td>\n",
       "      <td>...</td>\n",
       "      <td>Bs.As. G.B.A. Zona Sur</td>\n",
       "      <td>NaN</td>\n",
       "      <td>apartment</td>\n",
       "      <td>150000.00</td>\n",
       "      <td>-34.9038831,-57.9643295</td>\n",
       "      <td>NaN</td>\n",
       "      <td>-57.964330</td>\n",
       "      <td>150000.0</td>\n",
       "      <td>|Argentina|Bs.As. G.B.A. Zona Sur|La Plata|</td>\n",
       "      <td>Venta de departamento en décimo piso al frente...</td>\n",
       "    </tr>\n",
       "    <tr>\n",
       "      <th>2</th>\n",
       "      <td>Argentina</td>\n",
       "      <td>1309.090909</td>\n",
       "      <td>3430787.0</td>\n",
       "      <td>55.0</td>\n",
       "      <td>-34.652262</td>\n",
       "      <td>1309.090909</td>\n",
       "      <td>NaN</td>\n",
       "      <td>sell</td>\n",
       "      <td>USD</td>\n",
       "      <td>2 AMB 3ER PISO CON ASCENSOR APTO CREDITO</td>\n",
       "      <td>...</td>\n",
       "      <td>Capital Federal</td>\n",
       "      <td>NaN</td>\n",
       "      <td>apartment</td>\n",
       "      <td>72000.00</td>\n",
       "      <td>-34.6522615,-58.5229825</td>\n",
       "      <td>NaN</td>\n",
       "      <td>-58.522982</td>\n",
       "      <td>72000.0</td>\n",
       "      <td>|Argentina|Capital Federal|Mataderos|</td>\n",
       "      <td>2 AMBIENTES 3ER PISO LATERAL LIVING COMEDOR AM...</td>\n",
       "    </tr>\n",
       "    <tr>\n",
       "      <th>3</th>\n",
       "      <td>Argentina</td>\n",
       "      <td>NaN</td>\n",
       "      <td>3431333.0</td>\n",
       "      <td>NaN</td>\n",
       "      <td>-34.647797</td>\n",
       "      <td>NaN</td>\n",
       "      <td>NaN</td>\n",
       "      <td>sell</td>\n",
       "      <td>USD</td>\n",
       "      <td>PH 3 amb. cfte. reciclado</td>\n",
       "      <td>...</td>\n",
       "      <td>Capital Federal</td>\n",
       "      <td>NaN</td>\n",
       "      <td>PH</td>\n",
       "      <td>95000.00</td>\n",
       "      <td>-34.6477969,-58.5164244</td>\n",
       "      <td>NaN</td>\n",
       "      <td>-58.516424</td>\n",
       "      <td>95000.0</td>\n",
       "      <td>|Argentina|Capital Federal|Liniers|</td>\n",
       "      <td>PH 3 ambientes con patio. Hay 3 deptos en lote...</td>\n",
       "    </tr>\n",
       "    <tr>\n",
       "      <th>4</th>\n",
       "      <td>Argentina</td>\n",
       "      <td>1828.571429</td>\n",
       "      <td>3435548.0</td>\n",
       "      <td>35.0</td>\n",
       "      <td>-38.002626</td>\n",
       "      <td>1828.571429</td>\n",
       "      <td>NaN</td>\n",
       "      <td>sell</td>\n",
       "      <td>USD</td>\n",
       "      <td>DEPTO 2 AMB AL CONTRAFRENTE ZONA CENTRO/PLAZA ...</td>\n",
       "      <td>...</td>\n",
       "      <td>Buenos Aires Costa Atlántica</td>\n",
       "      <td>NaN</td>\n",
       "      <td>apartment</td>\n",
       "      <td>64000.00</td>\n",
       "      <td>-38.0026256,-57.5494468</td>\n",
       "      <td>NaN</td>\n",
       "      <td>-57.549447</td>\n",
       "      <td>64000.0</td>\n",
       "      <td>|Argentina|Buenos Aires Costa Atlántica|Mar de...</td>\n",
       "      <td>DEPARTAMENTO CON FANTÁSTICA ILUMINACIÓN NATURA...</td>\n",
       "    </tr>\n",
       "    <tr>\n",
       "      <th>5</th>\n",
       "      <td>Argentina</td>\n",
       "      <td>NaN</td>\n",
       "      <td>3433657.0</td>\n",
       "      <td>NaN</td>\n",
       "      <td>-33.014071</td>\n",
       "      <td>NaN</td>\n",
       "      <td>NaN</td>\n",
       "      <td>sell</td>\n",
       "      <td>NaN</td>\n",
       "      <td>Casa Barrio 338. Sobre calle 3 de caballería, ...</td>\n",
       "      <td>...</td>\n",
       "      <td>Entre Ríos</td>\n",
       "      <td>NaN</td>\n",
       "      <td>house</td>\n",
       "      <td>NaN</td>\n",
       "      <td>-33.0140714,-58.519828</td>\n",
       "      <td>NaN</td>\n",
       "      <td>-58.519828</td>\n",
       "      <td>NaN</td>\n",
       "      <td>|Argentina|Entre Ríos|Gualeguaychú|</td>\n",
       "      <td>Casa en el perímetro del barrio 338, ubicada e...</td>\n",
       "    </tr>\n",
       "    <tr>\n",
       "      <th>6</th>\n",
       "      <td>Argentina</td>\n",
       "      <td>1666.666667</td>\n",
       "      <td>3430511.0</td>\n",
       "      <td>78.0</td>\n",
       "      <td>-34.532957</td>\n",
       "      <td>1226.415094</td>\n",
       "      <td>NaN</td>\n",
       "      <td>sell</td>\n",
       "      <td>USD</td>\n",
       "      <td>MUY BUEN PH AL FRENTE DOS DORMITORIOS , PATIO,...</td>\n",
       "      <td>...</td>\n",
       "      <td>Bs.As. G.B.A. Zona Norte</td>\n",
       "      <td>NaN</td>\n",
       "      <td>PH</td>\n",
       "      <td>130000.00</td>\n",
       "      <td>-34.5329567,-58.5217825</td>\n",
       "      <td>NaN</td>\n",
       "      <td>-58.521782</td>\n",
       "      <td>130000.0</td>\n",
       "      <td>|Argentina|Bs.As. G.B.A. Zona Norte|Vicente Ló...</td>\n",
       "      <td>MUY BUEN PH AL FRENTE CON ENTRADA INDEPENDIENT...</td>\n",
       "    </tr>\n",
       "    <tr>\n",
       "      <th>7</th>\n",
       "      <td>Argentina</td>\n",
       "      <td>3450.000000</td>\n",
       "      <td>3436077.0</td>\n",
       "      <td>40.0</td>\n",
       "      <td>-34.559873</td>\n",
       "      <td>3066.666667</td>\n",
       "      <td>NaN</td>\n",
       "      <td>sell</td>\n",
       "      <td>USD</td>\n",
       "      <td>JOSE HERNANDEZ 1400 MONOAMBIENTE  ESTRENAR CAT...</td>\n",
       "      <td>...</td>\n",
       "      <td>Capital Federal</td>\n",
       "      <td>NaN</td>\n",
       "      <td>apartment</td>\n",
       "      <td>138000.00</td>\n",
       "      <td>-34.5598729,-58.443362</td>\n",
       "      <td>NaN</td>\n",
       "      <td>-58.443362</td>\n",
       "      <td>138000.0</td>\n",
       "      <td>|Argentina|Capital Federal|Belgrano|</td>\n",
       "      <td>EXCELENTE MONOAMBIENTE A ESTRENAR AMPLIO SUPER...</td>\n",
       "    </tr>\n",
       "    <tr>\n",
       "      <th>8</th>\n",
       "      <td>Argentina</td>\n",
       "      <td>3250.000000</td>\n",
       "      <td>3436077.0</td>\n",
       "      <td>60.0</td>\n",
       "      <td>-34.559873</td>\n",
       "      <td>3000.000000</td>\n",
       "      <td>NaN</td>\n",
       "      <td>sell</td>\n",
       "      <td>USD</td>\n",
       "      <td>JOSE HERNANDEZ   1400 DOS AMBIENTES ESTRENAR ,...</td>\n",
       "      <td>...</td>\n",
       "      <td>Capital Federal</td>\n",
       "      <td>NaN</td>\n",
       "      <td>apartment</td>\n",
       "      <td>195000.00</td>\n",
       "      <td>-34.5598729,-58.443362</td>\n",
       "      <td>NaN</td>\n",
       "      <td>-58.443362</td>\n",
       "      <td>195000.0</td>\n",
       "      <td>|Argentina|Capital Federal|Belgrano|</td>\n",
       "      <td>EXCELENTE DOS AMBIENTES  ESTRENAR AMPLIO SUPER...</td>\n",
       "    </tr>\n",
       "    <tr>\n",
       "      <th>9</th>\n",
       "      <td>Argentina</td>\n",
       "      <td>NaN</td>\n",
       "      <td>3838574.0</td>\n",
       "      <td>NaN</td>\n",
       "      <td>-32.942031</td>\n",
       "      <td>NaN</td>\n",
       "      <td>NaN</td>\n",
       "      <td>sell</td>\n",
       "      <td>ARS</td>\n",
       "      <td>WHITE 7637 - 2 DORMITORIOS CON PATIO</td>\n",
       "      <td>...</td>\n",
       "      <td>Santa Fe</td>\n",
       "      <td>NaN</td>\n",
       "      <td>house</td>\n",
       "      <td>25798.49</td>\n",
       "      <td>-32.942031,-60.7259192</td>\n",
       "      <td>NaN</td>\n",
       "      <td>-60.725919</td>\n",
       "      <td>460000.0</td>\n",
       "      <td>|Argentina|Santa Fe|Rosario|</td>\n",
       "      <td>MEDNOZA AL 7600A UNA CUADRA DE CALLE MENDOZAWH...</td>\n",
       "    </tr>\n",
       "  </tbody>\n",
       "</table>\n",
       "<p>10 rows × 23 columns</p>\n",
       "</div>"
      ],
      "text/plain": [
       "  country_name  price_per_m2  geonames_id  surface_covered_in_m2        lat  \\\n",
       "0    Argentina   1550.000000    3430787.0                   40.0 -34.661824   \n",
       "1    Argentina           NaN    3432039.0                    NaN -34.903883   \n",
       "2    Argentina   1309.090909    3430787.0                   55.0 -34.652262   \n",
       "3    Argentina           NaN    3431333.0                    NaN -34.647797   \n",
       "4    Argentina   1828.571429    3435548.0                   35.0 -38.002626   \n",
       "5    Argentina           NaN    3433657.0                    NaN -33.014071   \n",
       "6    Argentina   1666.666667    3430511.0                   78.0 -34.532957   \n",
       "7    Argentina   3450.000000    3436077.0                   40.0 -34.559873   \n",
       "8    Argentina   3250.000000    3436077.0                   60.0 -34.559873   \n",
       "9    Argentina           NaN    3838574.0                    NaN -32.942031   \n",
       "\n",
       "   price_usd_per_m2  floor operation currency  \\\n",
       "0       1127.272727    NaN      sell      USD   \n",
       "1               NaN    NaN      sell      USD   \n",
       "2       1309.090909    NaN      sell      USD   \n",
       "3               NaN    NaN      sell      USD   \n",
       "4       1828.571429    NaN      sell      USD   \n",
       "5               NaN    NaN      sell      NaN   \n",
       "6       1226.415094    NaN      sell      USD   \n",
       "7       3066.666667    NaN      sell      USD   \n",
       "8       3000.000000    NaN      sell      USD   \n",
       "9               NaN    NaN      sell      ARS   \n",
       "\n",
       "                                               title  ...  \\\n",
       "0                 2 AMB TIPO CASA SIN EXPENSAS EN PB  ...   \n",
       "1  VENTA Depto 2 dorm. a estrenar 7 e/ 36 y 37   ...  ...   \n",
       "2           2 AMB 3ER PISO CON ASCENSOR APTO CREDITO  ...   \n",
       "3                       PH 3 amb. cfte. reciclado     ...   \n",
       "4  DEPTO 2 AMB AL CONTRAFRENTE ZONA CENTRO/PLAZA ...  ...   \n",
       "5  Casa Barrio 338. Sobre calle 3 de caballería, ...  ...   \n",
       "6  MUY BUEN PH AL FRENTE DOS DORMITORIOS , PATIO,...  ...   \n",
       "7  JOSE HERNANDEZ 1400 MONOAMBIENTE  ESTRENAR CAT...  ...   \n",
       "8  JOSE HERNANDEZ   1400 DOS AMBIENTES ESTRENAR ,...  ...   \n",
       "9         WHITE 7637 - 2 DORMITORIOS CON PATIO        ...   \n",
       "\n",
       "                     state_name  rooms  property_type price_aprox_usd  \\\n",
       "0               Capital Federal    NaN             PH        62000.00   \n",
       "1        Bs.As. G.B.A. Zona Sur    NaN      apartment       150000.00   \n",
       "2               Capital Federal    NaN      apartment        72000.00   \n",
       "3               Capital Federal    NaN             PH        95000.00   \n",
       "4  Buenos Aires Costa Atlántica    NaN      apartment        64000.00   \n",
       "5                    Entre Ríos    NaN          house             NaN   \n",
       "6      Bs.As. G.B.A. Zona Norte    NaN             PH       130000.00   \n",
       "7               Capital Federal    NaN      apartment       138000.00   \n",
       "8               Capital Federal    NaN      apartment       195000.00   \n",
       "9                      Santa Fe    NaN          house        25798.49   \n",
       "\n",
       "                   lat-lon expenses        lon     price  \\\n",
       "0  -34.6618237,-58.5088387      NaN -58.508839   62000.0   \n",
       "1  -34.9038831,-57.9643295      NaN -57.964330  150000.0   \n",
       "2  -34.6522615,-58.5229825      NaN -58.522982   72000.0   \n",
       "3  -34.6477969,-58.5164244      NaN -58.516424   95000.0   \n",
       "4  -38.0026256,-57.5494468      NaN -57.549447   64000.0   \n",
       "5   -33.0140714,-58.519828      NaN -58.519828       NaN   \n",
       "6  -34.5329567,-58.5217825      NaN -58.521782  130000.0   \n",
       "7   -34.5598729,-58.443362      NaN -58.443362  138000.0   \n",
       "8   -34.5598729,-58.443362      NaN -58.443362  195000.0   \n",
       "9   -32.942031,-60.7259192      NaN -60.725919  460000.0   \n",
       "\n",
       "                             place_with_parent_names  \\\n",
       "0              |Argentina|Capital Federal|Mataderos|   \n",
       "1        |Argentina|Bs.As. G.B.A. Zona Sur|La Plata|   \n",
       "2              |Argentina|Capital Federal|Mataderos|   \n",
       "3                |Argentina|Capital Federal|Liniers|   \n",
       "4  |Argentina|Buenos Aires Costa Atlántica|Mar de...   \n",
       "5                |Argentina|Entre Ríos|Gualeguaychú|   \n",
       "6  |Argentina|Bs.As. G.B.A. Zona Norte|Vicente Ló...   \n",
       "7               |Argentina|Capital Federal|Belgrano|   \n",
       "8               |Argentina|Capital Federal|Belgrano|   \n",
       "9                       |Argentina|Santa Fe|Rosario|   \n",
       "\n",
       "                                         description  \n",
       "0  2 AMBIENTES TIPO CASA PLANTA BAJA POR PASILLO,...  \n",
       "1  Venta de departamento en décimo piso al frente...  \n",
       "2  2 AMBIENTES 3ER PISO LATERAL LIVING COMEDOR AM...  \n",
       "3  PH 3 ambientes con patio. Hay 3 deptos en lote...  \n",
       "4  DEPARTAMENTO CON FANTÁSTICA ILUMINACIÓN NATURA...  \n",
       "5  Casa en el perímetro del barrio 338, ubicada e...  \n",
       "6  MUY BUEN PH AL FRENTE CON ENTRADA INDEPENDIENT...  \n",
       "7  EXCELENTE MONOAMBIENTE A ESTRENAR AMPLIO SUPER...  \n",
       "8  EXCELENTE DOS AMBIENTES  ESTRENAR AMPLIO SUPER...  \n",
       "9  MEDNOZA AL 7600A UNA CUADRA DE CALLE MENDOZAWH...  \n",
       "\n",
       "[10 rows x 23 columns]"
      ]
     },
     "execution_count": 9,
     "metadata": {},
     "output_type": "execute_result"
    }
   ],
   "source": [
    "data.head(10)"
   ]
  },
  {
   "cell_type": "markdown",
   "metadata": {},
   "source": [
    "### Distribución de N/A"
   ]
  },
  {
   "cell_type": "code",
<<<<<<< HEAD
   "execution_count": 6,
=======
   "execution_count": 7,
>>>>>>> 8e5f87870e56e908f0802cfceeaa468f2616f022
   "metadata": {},
   "outputs": [
    {
     "data": {
      "text/html": [
       "<div>\n",
       "<style scoped>\n",
       "    .dataframe tbody tr th:only-of-type {\n",
       "        vertical-align: middle;\n",
       "    }\n",
       "\n",
       "    .dataframe tbody tr th {\n",
       "        vertical-align: top;\n",
       "    }\n",
       "\n",
       "    .dataframe thead th {\n",
       "        text-align: right;\n",
       "    }\n",
       "</style>\n",
       "<table border=\"1\" class=\"dataframe\">\n",
       "  <thead>\n",
       "    <tr style=\"text-align: right;\">\n",
       "      <th></th>\n",
       "      <th>total</th>\n",
       "      <th>percent</th>\n",
       "    </tr>\n",
       "  </thead>\n",
       "  <tbody>\n",
       "    <tr>\n",
<<<<<<< HEAD
       "      <th>currency</th>\n",
       "      <td>20411</td>\n",
       "      <td>0.168380</td>\n",
       "    </tr>\n",
       "    <tr>\n",
       "      <th>price_usd_per_m2</th>\n",
       "      <td>52603</td>\n",
       "      <td>0.433947</td>\n",
       "    </tr>\n",
       "    <tr>\n",
=======
>>>>>>> 8e5f87870e56e908f0802cfceeaa468f2616f022
       "      <th>price_per_m2</th>\n",
       "      <td>33562</td>\n",
       "      <td>0.276869</td>\n",
       "    </tr>\n",
       "    <tr>\n",
<<<<<<< HEAD
       "      <th>price</th>\n",
       "      <td>20410</td>\n",
       "      <td>0.168372</td>\n",
=======
       "      <th>surface_covered_in_m2</th>\n",
       "      <td>19907</td>\n",
       "      <td>0.164222</td>\n",
>>>>>>> 8e5f87870e56e908f0802cfceeaa468f2616f022
       "    </tr>\n",
       "    <tr>\n",
       "      <th>price_aprox_usd</th>\n",
       "      <td>20410</td>\n",
       "      <td>0.168372</td>\n",
       "    </tr>\n",
       "    <tr>\n",
<<<<<<< HEAD
       "      <th>surface_total_in_m2</th>\n",
       "      <td>39328</td>\n",
       "      <td>0.324435</td>\n",
       "    </tr>\n",
       "    <tr>\n",
       "      <th>surface_covered_in_m2</th>\n",
       "      <td>19907</td>\n",
       "      <td>0.164222</td>\n",
       "    </tr>\n",
       "    <tr>\n",
       "      <th>lat</th>\n",
=======
       "      <th>price_usd_per_m2</th>\n",
       "      <td>52603</td>\n",
       "      <td>0.433947</td>\n",
       "    </tr>\n",
       "    <tr>\n",
       "      <th>description</th>\n",
       "      <td>2</td>\n",
       "      <td>0.000016</td>\n",
       "    </tr>\n",
       "    <tr>\n",
       "      <th>lat-lon</th>\n",
>>>>>>> 8e5f87870e56e908f0802cfceeaa468f2616f022
       "      <td>51550</td>\n",
       "      <td>0.425260</td>\n",
       "    </tr>\n",
       "    <tr>\n",
<<<<<<< HEAD
       "      <th>floor</th>\n",
       "      <td>113321</td>\n",
       "      <td>0.934837</td>\n",
       "    </tr>\n",
       "    <tr>\n",
       "      <th>lat-lon</th>\n",
       "      <td>51550</td>\n",
       "      <td>0.425260</td>\n",
=======
       "      <th>rooms</th>\n",
       "      <td>73830</td>\n",
       "      <td>0.609058</td>\n",
       "    </tr>\n",
       "    <tr>\n",
       "      <th>expenses</th>\n",
       "      <td>106958</td>\n",
       "      <td>0.882346</td>\n",
       "    </tr>\n",
       "    <tr>\n",
       "      <th>price</th>\n",
       "      <td>20410</td>\n",
       "      <td>0.168372</td>\n",
       "    </tr>\n",
       "    <tr>\n",
       "      <th>surface_total_in_m2</th>\n",
       "      <td>39328</td>\n",
       "      <td>0.324435</td>\n",
>>>>>>> 8e5f87870e56e908f0802cfceeaa468f2616f022
       "    </tr>\n",
       "    <tr>\n",
       "      <th>price_aprox_local_currency</th>\n",
       "      <td>20410</td>\n",
       "      <td>0.168372</td>\n",
       "    </tr>\n",
       "    <tr>\n",
<<<<<<< HEAD
       "      <th>expenses</th>\n",
       "      <td>106958</td>\n",
       "      <td>0.882346</td>\n",
       "    </tr>\n",
       "    <tr>\n",
       "      <th>description</th>\n",
       "      <td>2</td>\n",
       "      <td>0.000016</td>\n",
       "    </tr>\n",
       "    <tr>\n",
       "      <th>geonames_id</th>\n",
       "      <td>18717</td>\n",
       "      <td>0.154405</td>\n",
=======
       "      <th>lon</th>\n",
       "      <td>51550</td>\n",
       "      <td>0.425260</td>\n",
       "    </tr>\n",
       "    <tr>\n",
       "      <th>currency</th>\n",
       "      <td>20411</td>\n",
       "      <td>0.168380</td>\n",
       "    </tr>\n",
       "    <tr>\n",
       "      <th>lat</th>\n",
       "      <td>51550</td>\n",
       "      <td>0.425260</td>\n",
       "    </tr>\n",
       "    <tr>\n",
       "      <th>floor</th>\n",
       "      <td>113321</td>\n",
       "      <td>0.934837</td>\n",
>>>>>>> 8e5f87870e56e908f0802cfceeaa468f2616f022
       "    </tr>\n",
       "    <tr>\n",
       "      <th>place_name</th>\n",
       "      <td>23</td>\n",
       "      <td>0.000190</td>\n",
       "    </tr>\n",
       "    <tr>\n",
<<<<<<< HEAD
       "      <th>rooms</th>\n",
       "      <td>73830</td>\n",
       "      <td>0.609058</td>\n",
       "    </tr>\n",
       "    <tr>\n",
       "      <th>lon</th>\n",
       "      <td>51550</td>\n",
       "      <td>0.425260</td>\n",
=======
       "      <th>geonames_id</th>\n",
       "      <td>18717</td>\n",
       "      <td>0.154405</td>\n",
>>>>>>> 8e5f87870e56e908f0802cfceeaa468f2616f022
       "    </tr>\n",
       "  </tbody>\n",
       "</table>\n",
       "</div>"
      ],
      "text/plain": [
       "                             total   percent\n",
<<<<<<< HEAD
       "currency                     20411  0.168380\n",
       "price_usd_per_m2             52603  0.433947\n",
       "price_per_m2                 33562  0.276869\n",
       "price                        20410  0.168372\n",
       "price_aprox_usd              20410  0.168372\n",
       "surface_total_in_m2          39328  0.324435\n",
       "surface_covered_in_m2        19907  0.164222\n",
       "lat                          51550  0.425260\n",
       "floor                       113321  0.934837\n",
       "lat-lon                      51550  0.425260\n",
       "price_aprox_local_currency   20410  0.168372\n",
       "expenses                    106958  0.882346\n",
       "description                      2  0.000016\n",
       "geonames_id                  18717  0.154405\n",
       "place_name                      23  0.000190\n",
       "rooms                        73830  0.609058\n",
       "lon                          51550  0.425260"
      ]
     },
     "execution_count": 6,
=======
       "price_per_m2                 33562  0.276869\n",
       "surface_covered_in_m2        19907  0.164222\n",
       "price_aprox_usd              20410  0.168372\n",
       "price_usd_per_m2             52603  0.433947\n",
       "description                      2  0.000016\n",
       "lat-lon                      51550  0.425260\n",
       "rooms                        73830  0.609058\n",
       "expenses                    106958  0.882346\n",
       "price                        20410  0.168372\n",
       "surface_total_in_m2          39328  0.324435\n",
       "price_aprox_local_currency   20410  0.168372\n",
       "lon                          51550  0.425260\n",
       "currency                     20411  0.168380\n",
       "lat                          51550  0.425260\n",
       "floor                       113321  0.934837\n",
       "place_name                      23  0.000190\n",
       "geonames_id                  18717  0.154405"
      ]
     },
     "execution_count": 7,
>>>>>>> 8e5f87870e56e908f0802cfceeaa468f2616f022
     "metadata": {},
     "output_type": "execute_result"
    }
   ],
   "source": [
    "def show_null_distribution(df):\n",
    "    nulls = df.isnull().sum(axis=0)\n",
    "    nulls_percent = nulls / df.index.size\n",
    "    nulls_df = pd.concat([nulls, nulls_percent], axis=1)\n",
    "    nulls_df.columns = ['total', 'percent']\n",
    "    return nulls_df[nulls_df['total'] > 0] # solo me interesan las columnas que tengan N/A\n",
    "\n",
    "show_null_distribution(data)"
   ]
  },
  {
   "cell_type": "markdown",
   "metadata": {},
   "source": [
    "## Tratamiento de Valores Faltantes"
   ]
  },
  {
   "cell_type": "markdown",
   "metadata": {},
   "source": [
    "### Columna *place_name*\n",
    "\n",
    "Observamos que la columna *place_with_parent_names* se construye concatenando *country_name*, *state_name* y *place_name*, entonces chequeamos esa columna contra los faltantes:"
   ]
  },
  {
   "cell_type": "code",
<<<<<<< HEAD
   "execution_count": 7,
=======
   "execution_count": 8,
>>>>>>> 8e5f87870e56e908f0802cfceeaa468f2616f022
   "metadata": {},
   "outputs": [
    {
     "data": {
      "text/html": [
       "<div>\n",
       "<style scoped>\n",
       "    .dataframe tbody tr th:only-of-type {\n",
       "        vertical-align: middle;\n",
       "    }\n",
       "\n",
       "    .dataframe tbody tr th {\n",
       "        vertical-align: top;\n",
       "    }\n",
       "\n",
       "    .dataframe thead th {\n",
       "        text-align: right;\n",
       "    }\n",
       "</style>\n",
       "<table border=\"1\" class=\"dataframe\">\n",
       "  <thead>\n",
       "    <tr style=\"text-align: right;\">\n",
       "      <th></th>\n",
       "      <th>place_name</th>\n",
       "      <th>place_with_parent_names</th>\n",
       "    </tr>\n",
       "  </thead>\n",
       "  <tbody>\n",
       "    <tr>\n",
       "      <th>6489</th>\n",
       "      <td>NaN</td>\n",
       "      <td>|Argentina|Bs.As. G.B.A. Zona Norte|Tigre||</td>\n",
       "    </tr>\n",
       "  </tbody>\n",
       "</table>\n",
       "</div>"
      ],
      "text/plain": [
       "     place_name                      place_with_parent_names\n",
       "6489        NaN  |Argentina|Bs.As. G.B.A. Zona Norte|Tigre||"
      ]
     },
<<<<<<< HEAD
     "execution_count": 7,
=======
     "execution_count": 8,
>>>>>>> 8e5f87870e56e908f0802cfceeaa468f2616f022
     "metadata": {},
     "output_type": "execute_result"
    }
   ],
   "source": [
    "na_place_name_mask = data[\"place_name\"].isnull()\n",
    "na_place_name      = data[na_place_name_mask][[\"place_name\", \"place_with_parent_names\"]]\n",
    "na_place_name.drop_duplicates()"
   ]
  },
  {
   "cell_type": "markdown",
   "metadata": {},
   "source": [
    "Vemos que en este caso los N/A son de **Tigre** "
   ]
  },
  {
   "cell_type": "code",
<<<<<<< HEAD
   "execution_count": 8,
=======
   "execution_count": 126,
>>>>>>> 8e5f87870e56e908f0802cfceeaa468f2616f022
   "metadata": {},
   "outputs": [],
   "source": [
    "data['place_name'] = data['place_name'].fillna(\"Tigre\")"
   ]
  },
  {
   "cell_type": "markdown",
   "metadata": {},
   "source": [
    "### Columnas *description* y *title*"
   ]
  },
  {
   "cell_type": "code",
   "execution_count": 9,
   "metadata": {},
   "outputs": [
    {
     "data": {
      "text/html": [
       "<div>\n",
       "<style scoped>\n",
       "    .dataframe tbody tr th:only-of-type {\n",
       "        vertical-align: middle;\n",
       "    }\n",
       "\n",
       "    .dataframe tbody tr th {\n",
       "        vertical-align: top;\n",
       "    }\n",
       "\n",
       "    .dataframe thead th {\n",
       "        text-align: right;\n",
       "    }\n",
       "</style>\n",
       "<table border=\"1\" class=\"dataframe\">\n",
       "  <thead>\n",
       "    <tr style=\"text-align: right;\">\n",
       "      <th></th>\n",
<<<<<<< HEAD
       "      <th>operation</th>\n",
       "      <th>currency</th>\n",
       "      <th>place_with_parent_names</th>\n",
       "      <th>state_name</th>\n",
       "      <th>price_usd_per_m2</th>\n",
       "      <th>price_per_m2</th>\n",
       "      <th>price</th>\n",
       "      <th>price_aprox_usd</th>\n",
       "      <th>surface_total_in_m2</th>\n",
       "      <th>title</th>\n",
       "      <th>...</th>\n",
       "      <th>floor</th>\n",
       "      <th>lat-lon</th>\n",
       "      <th>price_aprox_local_currency</th>\n",
       "      <th>expenses</th>\n",
       "      <th>description</th>\n",
       "      <th>geonames_id</th>\n",
       "      <th>place_name</th>\n",
       "      <th>country_name</th>\n",
       "      <th>rooms</th>\n",
       "      <th>lon</th>\n",
=======
       "      <th>price_per_m2</th>\n",
       "      <th>surface_covered_in_m2</th>\n",
       "      <th>price_aprox_usd</th>\n",
       "      <th>property_type</th>\n",
       "      <th>price_usd_per_m2</th>\n",
       "      <th>description</th>\n",
       "      <th>lat-lon</th>\n",
       "      <th>rooms</th>\n",
       "      <th>country_name</th>\n",
       "      <th>place_with_parent_names</th>\n",
       "      <th>...</th>\n",
       "      <th>price</th>\n",
       "      <th>surface_total_in_m2</th>\n",
       "      <th>price_aprox_local_currency</th>\n",
       "      <th>lon</th>\n",
       "      <th>title</th>\n",
       "      <th>currency</th>\n",
       "      <th>lat</th>\n",
       "      <th>floor</th>\n",
       "      <th>place_name</th>\n",
       "      <th>geonames_id</th>\n",
>>>>>>> 8e5f87870e56e908f0802cfceeaa468f2616f022
       "    </tr>\n",
       "  </thead>\n",
       "  <tbody>\n",
       "    <tr>\n",
       "      <th>10664</th>\n",
<<<<<<< HEAD
       "      <td>sell</td>\n",
       "      <td>ARS</td>\n",
       "      <td>|Argentina|Córdoba|Villa Carlos Paz|</td>\n",
       "      <td>Córdoba</td>\n",
       "      <td>NaN</td>\n",
       "      <td>NaN</td>\n",
       "      <td>2350000.0</td>\n",
       "      <td>131796.64</td>\n",
       "      <td>NaN</td>\n",
       "      <td>HERMOSO DEPARTAMENTO CON PISCINA Y COCHERA</td>\n",
       "      <td>...</td>\n",
       "      <td>NaN</td>\n",
       "      <td>-31.4207828,-64.4992141</td>\n",
       "      <td>2325485.81</td>\n",
       "      <td>NaN</td>\n",
       "      <td>NaN</td>\n",
       "      <td>3832791.0</td>\n",
       "      <td>Villa Carlos Paz</td>\n",
       "      <td>Argentina</td>\n",
       "      <td>NaN</td>\n",
       "      <td>-64.499214</td>\n",
       "    </tr>\n",
       "    <tr>\n",
       "      <th>96691</th>\n",
       "      <td>sell</td>\n",
       "      <td>USD</td>\n",
       "      <td>|Argentina|Bs.As. G.B.A. Zona Norte|San Fernando|</td>\n",
       "      <td>Bs.As. G.B.A. Zona Norte</td>\n",
       "      <td>NaN</td>\n",
       "      <td>1781.818182</td>\n",
       "      <td>98000.0</td>\n",
       "      <td>98000.00</td>\n",
       "      <td>NaN</td>\n",
       "      <td>Departamento - San Fernando</td>\n",
       "      <td>...</td>\n",
       "      <td>NaN</td>\n",
       "      <td>NaN</td>\n",
       "      <td>1729161.00</td>\n",
       "      <td>NaN</td>\n",
       "      <td>NaN</td>\n",
       "      <td>3429088.0</td>\n",
       "      <td>San Fernando</td>\n",
       "      <td>Argentina</td>\n",
       "      <td>NaN</td>\n",
       "      <td>NaN</td>\n",
=======
       "      <td>NaN</td>\n",
       "      <td>NaN</td>\n",
       "      <td>131796.64</td>\n",
       "      <td>apartment</td>\n",
       "      <td>NaN</td>\n",
       "      <td>NaN</td>\n",
       "      <td>-31.4207828,-64.4992141</td>\n",
       "      <td>NaN</td>\n",
       "      <td>Argentina</td>\n",
       "      <td>|Argentina|Córdoba|Villa Carlos Paz|</td>\n",
       "      <td>...</td>\n",
       "      <td>2350000.0</td>\n",
       "      <td>NaN</td>\n",
       "      <td>2325485.81</td>\n",
       "      <td>-64.499214</td>\n",
       "      <td>HERMOSO DEPARTAMENTO CON PISCINA Y COCHERA</td>\n",
       "      <td>ARS</td>\n",
       "      <td>-31.420783</td>\n",
       "      <td>NaN</td>\n",
       "      <td>Villa Carlos Paz</td>\n",
       "      <td>3832791.0</td>\n",
       "    </tr>\n",
       "    <tr>\n",
       "      <th>96691</th>\n",
       "      <td>1781.818182</td>\n",
       "      <td>55.0</td>\n",
       "      <td>98000.00</td>\n",
       "      <td>apartment</td>\n",
       "      <td>NaN</td>\n",
       "      <td>NaN</td>\n",
       "      <td>NaN</td>\n",
       "      <td>NaN</td>\n",
       "      <td>Argentina</td>\n",
       "      <td>|Argentina|Bs.As. G.B.A. Zona Norte|San Fernando|</td>\n",
       "      <td>...</td>\n",
       "      <td>98000.0</td>\n",
       "      <td>NaN</td>\n",
       "      <td>1729161.00</td>\n",
       "      <td>NaN</td>\n",
       "      <td>Departamento - San Fernando</td>\n",
       "      <td>USD</td>\n",
       "      <td>NaN</td>\n",
       "      <td>NaN</td>\n",
       "      <td>San Fernando</td>\n",
       "      <td>3429088.0</td>\n",
>>>>>>> 8e5f87870e56e908f0802cfceeaa468f2616f022
       "    </tr>\n",
       "  </tbody>\n",
       "</table>\n",
       "<p>2 rows × 23 columns</p>\n",
       "</div>"
      ],
      "text/plain": [
<<<<<<< HEAD
       "      operation currency                            place_with_parent_names  \\\n",
       "10664      sell      ARS               |Argentina|Córdoba|Villa Carlos Paz|   \n",
       "96691      sell      USD  |Argentina|Bs.As. G.B.A. Zona Norte|San Fernando|   \n",
       "\n",
       "                     state_name  price_usd_per_m2  price_per_m2      price  \\\n",
       "10664                   Córdoba               NaN           NaN  2350000.0   \n",
       "96691  Bs.As. G.B.A. Zona Norte               NaN   1781.818182    98000.0   \n",
       "\n",
       "       price_aprox_usd  surface_total_in_m2  \\\n",
       "10664        131796.64                  NaN   \n",
       "96691         98000.00                  NaN   \n",
       "\n",
       "                                             title  ...  floor  \\\n",
       "10664  HERMOSO DEPARTAMENTO CON PISCINA Y COCHERA   ...    NaN   \n",
       "96691                  Departamento - San Fernando  ...    NaN   \n",
       "\n",
       "                       lat-lon price_aprox_local_currency  expenses  \\\n",
       "10664  -31.4207828,-64.4992141                 2325485.81       NaN   \n",
       "96691                      NaN                 1729161.00       NaN   \n",
       "\n",
       "      description  geonames_id        place_name country_name  rooms  \\\n",
       "10664         NaN    3832791.0  Villa Carlos Paz    Argentina    NaN   \n",
       "96691         NaN    3429088.0      San Fernando    Argentina    NaN   \n",
       "\n",
       "             lon  \n",
       "10664 -64.499214  \n",
       "96691        NaN  \n",
=======
       "       price_per_m2  surface_covered_in_m2  price_aprox_usd property_type  \\\n",
       "10664           NaN                    NaN        131796.64     apartment   \n",
       "96691   1781.818182                   55.0         98000.00     apartment   \n",
       "\n",
       "       price_usd_per_m2 description                  lat-lon  rooms  \\\n",
       "10664               NaN         NaN  -31.4207828,-64.4992141    NaN   \n",
       "96691               NaN         NaN                      NaN    NaN   \n",
       "\n",
       "      country_name                            place_with_parent_names  ...  \\\n",
       "10664    Argentina               |Argentina|Córdoba|Villa Carlos Paz|  ...   \n",
       "96691    Argentina  |Argentina|Bs.As. G.B.A. Zona Norte|San Fernando|  ...   \n",
       "\n",
       "           price surface_total_in_m2 price_aprox_local_currency        lon  \\\n",
       "10664  2350000.0                 NaN                 2325485.81 -64.499214   \n",
       "96691    98000.0                 NaN                 1729161.00        NaN   \n",
       "\n",
       "                                             title  currency        lat floor  \\\n",
       "10664  HERMOSO DEPARTAMENTO CON PISCINA Y COCHERA        ARS -31.420783   NaN   \n",
       "96691                  Departamento - San Fernando       USD        NaN   NaN   \n",
       "\n",
       "             place_name  geonames_id  \n",
       "10664  Villa Carlos Paz    3832791.0  \n",
       "96691      San Fernando    3429088.0  \n",
>>>>>>> 8e5f87870e56e908f0802cfceeaa468f2616f022
       "\n",
       "[2 rows x 23 columns]"
      ]
     },
     "execution_count": 9,
     "metadata": {},
     "output_type": "execute_result"
    }
   ],
   "source": [
    "na_description_mask = data[\"description\"].isnull()\n",
    "na_description      = data[na_description_mask]\n",
    "na_description"
   ]
  },
  {
   "cell_type": "markdown",
   "metadata": {},
   "source": [
    "Por ahora, solo las normalizamos:"
   ]
  },
  {
   "cell_type": "code",
   "execution_count": 10,
   "metadata": {},
   "outputs": [],
   "source": [
    "rex = re.compile(r'\\s+')\n",
    "fformat = lambda x: rex.sub(' ', str(x)).strip().lower()\n",
    "data['description'] = data['description'].apply(fformat)\n",
    "data['title']       = data['title'].apply(fformat)"
   ]
  },
  {
   "cell_type": "markdown",
   "metadata": {},
   "source": [
    "### Columna *expenses*\n",
    "En este caso, chequeamos la cantidad de N/A contra la cantidad de posibles calculables.\n",
    "El criterio de la esa posibilidad, es simple: la palabra **expensa** dentro de *title* o *description*."
   ]
  },
  {
   "cell_type": "code",
   "execution_count": 11,
   "metadata": {},
   "outputs": [
    {
     "name": "stdout",
     "output_type": "stream",
     "text": [
      "Proportion of missing expenses: 0.8823461475004125\n",
      "Proportion of posibles calculable expenses: 0.12412348772415341\n"
     ]
    }
   ],
   "source": [
    "na_expenses_mask = data['expenses'].isnull()\n",
    "na_expenses = data[na_expenses_mask]\n",
    "na_expenses_total = na_expenses_mask.sum()\n",
    "calc_expenses_total = na_expenses['title'].str.contains('expensa', case=False, regex=False).sum() + \\\n",
    "   na_expenses['description'].str.contains('expensa', case=False, regex=False).sum() \n",
    "\n",
    "print(\"Proportion of missing expenses: {0}\".format(na_expenses_total / data.index.size))\n",
    "print(\"Proportion of posibles calculable expenses: {0}\".format(calc_expenses_total / na_expenses_total))"
   ]
  },
  {
   "cell_type": "markdown",
   "metadata": {},
   "source": [
    "De lo anterior, concluimos que casi un 90% de los datos son N/A y de ese porcentage menos de un 13% tiene alguna posibilidad de ser inferido. Por ende, no la vamos a tener en cuenta para hacer el estudio."
   ]
  },
  {
   "cell_type": "markdown",
   "metadata": {},
   "source": [
    "### Columna *floor*\n",
    "Al igual que en el caso anterior, lo primero es chequear la proporción de N/A."
   ]
  },
  {
   "cell_type": "code",
<<<<<<< HEAD
   "execution_count": 12,
=======
   "execution_count": 13,
>>>>>>> 8e5f87870e56e908f0802cfceeaa468f2616f022
   "metadata": {},
   "outputs": [
    {
     "name": "stdout",
     "output_type": "stream",
     "text": [
      "Proportion of missing floors: 0.9348374855634384\n"
     ]
    }
   ],
   "source": [
    "na_floor_mask = data['floor'].isnull()\n",
    "na_floor = data[na_floor_mask]\n",
    "na_floor_total = na_floor.index.size\n",
    "print(\"Proportion of missing floors: {0}\".format(na_floor_total / data.index.size))"
   ]
  },
  {
   "cell_type": "markdown",
   "metadata": {},
   "source": [
    "Es una proporción alta aunque creemos que este campo tiene más relevancia cuando el *property_type* es **apartment**."
   ]
  },
  {
   "cell_type": "code",
<<<<<<< HEAD
   "execution_count": 13,
=======
   "execution_count": 132,
>>>>>>> 8e5f87870e56e908f0802cfceeaa468f2616f022
   "metadata": {},
   "outputs": [
    {
     "name": "stdout",
     "output_type": "stream",
     "text": [
      "Total of apartment properties: 71065\n",
      "Proportion of missing floors: 0.9082389361851826\n"
     ]
    }
   ],
   "source": [
    "data_apartment_df = data[data['property_type'] == 'apartment']\n",
    "na_apartment_floor_mask = data_apartment_df['floor'].isnull()\n",
    "na_apartment_floor_total = na_apartment_floor_mask.sum()\n",
    "print(\"Total of apartment properties: {0}\".format(data_apartment_df.index.size))\n",
    "print(\"Proportion of missing floors: {0}\".format(na_apartment_floor_total / data_apartment_df.index.size))"
   ]
  },
  {
   "cell_type": "markdown",
   "metadata": {},
   "source": [
    "Nuevamente, la proporción de N/A es muy alta. Por ende, esta columna también la vamos a descartar del estudio."
   ]
  },
  {
   "cell_type": "markdown",
   "metadata": {},
   "source": [
    "### Columna *rooms*\n",
    "De nuevo, chequeamos la proporción de N/A."
   ]
  },
  {
   "cell_type": "code",
   "execution_count": 14,
   "metadata": {},
   "outputs": [
    {
     "name": "stdout",
     "output_type": "stream",
     "text": [
      "Proportion of missing rooms: 0.6090579112357697\n"
     ]
    }
   ],
   "source": [
    "na_rooms_mask = data['rooms'].isnull()\n",
    "na_rooms = data[na_rooms_mask]\n",
    "na_rooms_total = na_rooms.index.size\n",
    "print(\"Proportion of missing rooms: {0}\".format(na_rooms_total / data.index.size))"
   ]
  },
  {
<<<<<<< HEAD
   "cell_type": "markdown",
   "metadata": {},
   "source": [
    "Vemos si podemos obtener alguna parte de los registros faltantes para rooms del campo descripción"
   ]
  },
  {
   "cell_type": "code",
   "execution_count": 20,
   "metadata": {},
   "outputs": [
    {
     "name": "stdout",
     "output_type": "stream",
     "text": [
      "<re.Match object; span=(4, 9), match='3 amb'>\n"
=======
   "cell_type": "code",
   "execution_count": 50,
   "metadata": {},
   "outputs": [
    {
     "ename": "SyntaxError",
     "evalue": "invalid syntax (<ipython-input-50-31038e6e507e>, line 10)",
     "output_type": "error",
     "traceback": [
      "\u001b[0;36m  File \u001b[0;32m\"<ipython-input-50-31038e6e507e>\"\u001b[0;36m, line \u001b[0;32m10\u001b[0m\n\u001b[0;31m    data['roomsparsed'] = data[na_rooms_mask].roomsparsed.apply(lambda x: x.group('ambiente') if x isinstance(x, re.Match) else x)\u001b[0m\n\u001b[0m                                                                                                            ^\u001b[0m\n\u001b[0;31mSyntaxError\u001b[0m\u001b[0;31m:\u001b[0m invalid syntax\n"
>>>>>>> 8e5f87870e56e908f0802cfceeaa468f2616f022
     ]
    }
   ],
   "source": [
<<<<<<< HEAD
    "#creamos una expresión regular para identificar ambientes en el campo descripción\n",
    "rex = re.compile(r'(?P<ambiente>\\d+) amb|AMB+')\n",
    "\n",
    "#nos copiamos la columna rooms\n",
    "data['roomsparsed'] = data.rooms\n",
    "#Aplicamos la regular a todos los registros que no tenian descripcion\n",
    "data.loc[na_rooms_mask,'roomsparsed'] = data[na_rooms_mask].description.apply(lambda x: x if x is np.NaN  else rex.search(x))\n",
    "#nos quedamos con el grupo ambiente, solo para los objetos de tipo re.Match\n",
    "data['roomsparsed'] = data['roomsparsed'].apply(lambda x: x.group('ambiente') if isinstance(x, re.Match) else x)\n",
    "#data.loc[:'roomsparsed'].sample(15)"
   ]
  },
  {
   "cell_type": "markdown",
   "metadata": {},
   "source": [
    "Veamos si la cantidad de nulos baja del 60%"
   ]
  },
  {
   "cell_type": "code",
   "execution_count": 21,
   "metadata": {},
   "outputs": [
    {
     "name": "stdout",
     "output_type": "stream",
     "text": [
      "Proportion of missing rooms before regular: 0.6090579112357697\n",
      "Proportion of missing rooms AFTER regular: 0.45217785843920144\n"
     ]
    }
   ],
   "source": [
    "na_rooms_parsed_mask = data['roomsparsed'].isnull()\n",
    "na_rooms_parsed = data[na_rooms_parsed_mask]\n",
    "na_rooms_parsed_total = na_rooms_parsed.index.size\n",
    "print(\"Proportion of missing rooms before regular: {0}\".format(na_rooms_total / data.index.size))\n",
    "print(\"Proportion of missing rooms AFTER regular: {0}\".format(na_rooms_parsed_total / data.index.size))"
=======
    "rex = re.compile(r'(?P<ambiente>\\d+) amb|AMB+')\n",
    "prueba = ' ***3 amb | IMPECABLE | COCHERA | EXCELENTE ACC'\n",
    "print(rex.search(prueba))\n",
    "#veamos para los registros con rooms vacios, cuantos podriamos llenar con la descripcion\n",
    "data['roomsparsed'] = data.rooms\n",
    "\n",
    "data.loc[na_rooms_mask,'roomsparsed'] = data[na_rooms_mask].description.apply(lambda x: x if x is np.NaN  else rex.search(x))\n",
    "data.head()\n",
    "\n",
    "data['roomsparsed'] = data[na_rooms_mask].roomsparsed.apply(lambda x: x.group('ambiente') if x isinstance(x, re.Match) else x)\n",
    "#data.loc[:'roomsparsed'].sample(15)\n",
    "##data[na_rooms_mask,['roomsparsed']] = data[na_rooms_mask].description.apply(lambda x: x if x is np.NaN  else rex.search(x))\n",
    "##data.loc[data['roomsparsed'].notnull(),'roomsparseddos'] = data[data['roomsparsed'].notnull()].roomsparsed.apply(lambda x:  x if x is np.NaN else x.group('ambiente'))\n",
    "##data[na_rooms_mask].rooms = data[na_rooms_mask].roomsparseddos\n",
    "##print(data['rooms'].head(50))\n",
    "##print(data['roomsparseddos'].head(50))\n",
    "#na_rooms_maskdos = data['rooms'].isnull()\n",
    "#na_roomsdos = data[na_rooms_maskdos]\n",
    "#na_roomsdos_total = na_roomsdos.index.size\n",
    "#print(\"Proportion of missing rooms: {0}\".format(na_roomsdos_total / data.index.size))\n"
>>>>>>> 8e5f87870e56e908f0802cfceeaa468f2616f022
   ]
  },
  {
   "cell_type": "markdown",
   "metadata": {},
   "source": [
    "Otra vez, nos encontramos con una proporción alta (aunque no tal alta como los casos anteriores).\n",
    "En este caso, la descripción en muchos casos tiene información que podría ser usada para inferir la cantidad de ambientes que tiene una propiedad pero habría que programar lógica capaz de extraer dicha información, sumarizarla y en muchos casos chequearla personalmente."
   ]
  },
  {
   "cell_type": "markdown",
   "metadata": {},
   "source": [
    "Desestimamos incluir esta columna en este primer análisis debido a la carga de trabajo que supone lo explicado en el párrafo anterior."
   ]
  },
  {
   "cell_type": "markdown",
   "metadata": {},
   "source": [
    "### Columna *price* y relacionadas\n",
    "Vamos a dividir el dataset en 2 partes:\n",
    " * el precio está disponible o puede inferirse a partir de otras columnas.\n",
    " * el precio es N/A y las columnas de las que se podría inferir también son N/A."
   ]
  },
  {
   "cell_type": "code",
   "execution_count": 134,
   "metadata": {},
   "outputs": [
    {
     "name": "stdout",
     "output_type": "stream",
     "text": [
      "Prices/Surfaces non calculables: 28046\n",
      "Prices/Surfaces calculables: 93174\n"
     ]
    }
   ],
   "source": [
    "def show_valid_rows_proportion(df):\n",
    "    na_surface_mask     = data[['surface_total_in_m2', 'surface_covered_in_m2']].isna().all(axis=1)\n",
    "    na_total_price_mask = data[['price', 'price_aprox_local_currency', 'price_aprox_usd']].isna().all(axis=1)\n",
    "    na_m2_price_mask    = data[['price_per_m2', 'price_usd_per_m2']].isna().all(axis=1)\n",
    "\n",
    "    uncalculable_mask = (na_surface_mask & na_total_price_mask) | (na_surface_mask & na_m2_price_mask) | \\\n",
    "    (na_total_price_mask & na_m2_price_mask)\n",
    "    \n",
    "    df_calculables   = df[~uncalculable_mask]\n",
    "    df_uncalculables = df[uncalculable_mask]\n",
    "    print(\"Prices/Surfaces non calculables: {0}\".format(df_uncalculables.index.size))\n",
    "    print(\"Prices/Surfaces calculables: {0}\".format(df_calculables.index.size))\n",
    "\n",
    "show_valid_rows_proportion(data)"
   ]
  },
  {
   "cell_type": "markdown",
   "metadata": {},
   "source": [
    "Lo anterior significa que tenemos casi 30000 registros que carecen de los datos necesarios para ser tenidos en cuenta. Vamos a tratar de inferir algunos usando las columnas **title** y **description**."
   ]
  },
  {
   "cell_type": "code",
   "execution_count": 135,
   "metadata": {},
   "outputs": [
    {
     "name": "stdout",
     "output_type": "stream",
     "text": [
      "Prices/Surfaces non calculables: 25480\n",
      "Prices/Surfaces calculables: 95740\n"
     ]
    }
   ],
   "source": [
    "def apply_price_title_and_description(r):\n",
    "    def getprice(source, pattern):\n",
    "        price = re.sub(\"[^0-9]\", \"\", source[source.find(pattern) + len(pattern):].strip().split(' ')[0])\n",
    "        return np.float64(price)\n",
    "    if re.search(r'en\\s+venta', r.title, re.I):\n",
    "        if r.title.startswith(r'u$d') or r.title.startswith(r'usd'):\n",
    "            r.price    = np.float64(r.title.split()[1].strip().replace('.', ''))\n",
    "            r.currency = 'USD'\n",
    "        elif r.title.startswith(r'$'):\n",
    "            r.price    = np.float64(r.title.split()[1].strip().replace('.', ''))\n",
    "            r.currency = 'ARS'\n",
    "    elif r'vendo $' in r.description:\n",
    "        r.price    = getprice(r.description, 'vendo $')\n",
    "        r.currency = 'ARS'\n",
    "    elif r'vendo casa $' in r.description:\n",
    "        r.price    = getprice(r.description, r'vendo casa $')\n",
    "        r.currency = 'ARS'\n",
    "    elif r'vendo u$s' in r.description:\n",
    "        r.price    = getprice(r.description, 'vendo u$s')\n",
    "        r.currency = 'USD'\n",
    "    return r\n",
    "\n",
    "price_na_mask = data['price'].isna()\n",
    "data[price_na_mask] = data[price_na_mask].apply(apply_price_title_and_description, axis=1)\n",
    "\n",
    "show_valid_rows_proportion(data)"
   ]
  },
  {
   "cell_type": "markdown",
   "metadata": {},
   "source": [
    "### Columnas Irrelevantes para el estudio - Fase 2\n",
    "Procedemos a quitar del dataset las columnas que *expenses*, *floor* y *rooms*.\n",
    "Quitamos además las columnas *operation* y *country_name* (tienen un solo valor) y *place_with_parent_names* dado que es la concatenación de otras 3 columnas."
   ]
  },
  {
   "cell_type": "code",
   "execution_count": 136,
   "metadata": {},
   "outputs": [
    {
     "data": {
      "text/html": [
       "<div>\n",
       "<style scoped>\n",
       "    .dataframe tbody tr th:only-of-type {\n",
       "        vertical-align: middle;\n",
       "    }\n",
       "\n",
       "    .dataframe tbody tr th {\n",
       "        vertical-align: top;\n",
       "    }\n",
       "\n",
       "    .dataframe thead th {\n",
       "        text-align: right;\n",
       "    }\n",
       "</style>\n",
       "<table border=\"1\" class=\"dataframe\">\n",
       "  <thead>\n",
       "    <tr style=\"text-align: right;\">\n",
       "      <th></th>\n",
       "      <th>lat</th>\n",
       "      <th>price_per_m2</th>\n",
       "      <th>lat-lon</th>\n",
       "      <th>description</th>\n",
       "      <th>currency</th>\n",
       "      <th>price</th>\n",
       "      <th>price_aprox_local_currency</th>\n",
       "      <th>title</th>\n",
       "      <th>place_name</th>\n",
       "      <th>state_name</th>\n",
       "      <th>lon</th>\n",
       "      <th>price_usd_per_m2</th>\n",
       "      <th>property_type</th>\n",
       "      <th>surface_total_in_m2</th>\n",
       "      <th>surface_covered_in_m2</th>\n",
       "      <th>price_aprox_usd</th>\n",
       "      <th>geonames_id</th>\n",
       "    </tr>\n",
       "  </thead>\n",
       "  <tbody>\n",
       "    <tr>\n",
       "      <th>0</th>\n",
       "      <td>-34.661824</td>\n",
       "      <td>1550.000000</td>\n",
       "      <td>-34.6618237,-58.5088387</td>\n",
       "      <td>2 ambientes tipo casa planta baja por pasillo,...</td>\n",
       "      <td>USD</td>\n",
       "      <td>62000.0</td>\n",
       "      <td>1093959.0</td>\n",
       "      <td>2 amb tipo casa sin expensas en pb</td>\n",
       "      <td>Mataderos</td>\n",
       "      <td>Capital Federal</td>\n",
       "      <td>-58.508839</td>\n",
       "      <td>1127.272727</td>\n",
       "      <td>PH</td>\n",
       "      <td>55.0</td>\n",
       "      <td>40.0</td>\n",
       "      <td>62000.0</td>\n",
       "      <td>3430787.0</td>\n",
       "    </tr>\n",
       "    <tr>\n",
       "      <th>1</th>\n",
       "      <td>-34.903883</td>\n",
       "      <td>NaN</td>\n",
       "      <td>-34.9038831,-57.9643295</td>\n",
       "      <td>venta de departamento en décimo piso al frente...</td>\n",
       "      <td>USD</td>\n",
       "      <td>150000.0</td>\n",
       "      <td>2646675.0</td>\n",
       "      <td>venta depto 2 dorm. a estrenar 7 e/ 36 y 37</td>\n",
       "      <td>La Plata</td>\n",
       "      <td>Bs.As. G.B.A. Zona Sur</td>\n",
       "      <td>-57.964330</td>\n",
       "      <td>NaN</td>\n",
       "      <td>apartment</td>\n",
       "      <td>NaN</td>\n",
       "      <td>NaN</td>\n",
       "      <td>150000.0</td>\n",
       "      <td>3432039.0</td>\n",
       "    </tr>\n",
       "    <tr>\n",
       "      <th>2</th>\n",
       "      <td>-34.652262</td>\n",
       "      <td>1309.090909</td>\n",
       "      <td>-34.6522615,-58.5229825</td>\n",
       "      <td>2 ambientes 3er piso lateral living comedor am...</td>\n",
       "      <td>USD</td>\n",
       "      <td>72000.0</td>\n",
       "      <td>1270404.0</td>\n",
       "      <td>2 amb 3er piso con ascensor apto credito</td>\n",
       "      <td>Mataderos</td>\n",
       "      <td>Capital Federal</td>\n",
       "      <td>-58.522982</td>\n",
       "      <td>1309.090909</td>\n",
       "      <td>apartment</td>\n",
       "      <td>55.0</td>\n",
       "      <td>55.0</td>\n",
       "      <td>72000.0</td>\n",
       "      <td>3430787.0</td>\n",
       "    </tr>\n",
       "    <tr>\n",
       "      <th>3</th>\n",
       "      <td>-34.647797</td>\n",
       "      <td>NaN</td>\n",
       "      <td>-34.6477969,-58.5164244</td>\n",
       "      <td>ph 3 ambientes con patio. hay 3 deptos en lote...</td>\n",
       "      <td>USD</td>\n",
       "      <td>95000.0</td>\n",
       "      <td>1676227.5</td>\n",
       "      <td>ph 3 amb. cfte. reciclado</td>\n",
       "      <td>Liniers</td>\n",
       "      <td>Capital Federal</td>\n",
       "      <td>-58.516424</td>\n",
       "      <td>NaN</td>\n",
       "      <td>PH</td>\n",
       "      <td>NaN</td>\n",
       "      <td>NaN</td>\n",
       "      <td>95000.0</td>\n",
       "      <td>3431333.0</td>\n",
       "    </tr>\n",
       "    <tr>\n",
       "      <th>4</th>\n",
       "      <td>-38.002626</td>\n",
       "      <td>1828.571429</td>\n",
       "      <td>-38.0026256,-57.5494468</td>\n",
       "      <td>departamento con fantástica iluminación natura...</td>\n",
       "      <td>USD</td>\n",
       "      <td>64000.0</td>\n",
       "      <td>1129248.0</td>\n",
       "      <td>depto 2 amb al contrafrente zona centro/plaza ...</td>\n",
       "      <td>Centro</td>\n",
       "      <td>Buenos Aires Costa Atlántica</td>\n",
       "      <td>-57.549447</td>\n",
       "      <td>1828.571429</td>\n",
       "      <td>apartment</td>\n",
       "      <td>35.0</td>\n",
       "      <td>35.0</td>\n",
       "      <td>64000.0</td>\n",
       "      <td>3435548.0</td>\n",
       "    </tr>\n",
       "  </tbody>\n",
       "</table>\n",
       "</div>"
      ],
      "text/plain": [
       "         lat  price_per_m2                  lat-lon  \\\n",
       "0 -34.661824   1550.000000  -34.6618237,-58.5088387   \n",
       "1 -34.903883           NaN  -34.9038831,-57.9643295   \n",
       "2 -34.652262   1309.090909  -34.6522615,-58.5229825   \n",
       "3 -34.647797           NaN  -34.6477969,-58.5164244   \n",
       "4 -38.002626   1828.571429  -38.0026256,-57.5494468   \n",
       "\n",
       "                                         description currency     price  \\\n",
       "0  2 ambientes tipo casa planta baja por pasillo,...      USD   62000.0   \n",
       "1  venta de departamento en décimo piso al frente...      USD  150000.0   \n",
       "2  2 ambientes 3er piso lateral living comedor am...      USD   72000.0   \n",
       "3  ph 3 ambientes con patio. hay 3 deptos en lote...      USD   95000.0   \n",
       "4  departamento con fantástica iluminación natura...      USD   64000.0   \n",
       "\n",
       "   price_aprox_local_currency  \\\n",
       "0                   1093959.0   \n",
       "1                   2646675.0   \n",
       "2                   1270404.0   \n",
       "3                   1676227.5   \n",
       "4                   1129248.0   \n",
       "\n",
       "                                               title place_name  \\\n",
       "0                 2 amb tipo casa sin expensas en pb  Mataderos   \n",
       "1        venta depto 2 dorm. a estrenar 7 e/ 36 y 37   La Plata   \n",
       "2           2 amb 3er piso con ascensor apto credito  Mataderos   \n",
       "3                          ph 3 amb. cfte. reciclado    Liniers   \n",
       "4  depto 2 amb al contrafrente zona centro/plaza ...     Centro   \n",
       "\n",
       "                     state_name        lon  price_usd_per_m2 property_type  \\\n",
       "0               Capital Federal -58.508839       1127.272727            PH   \n",
       "1        Bs.As. G.B.A. Zona Sur -57.964330               NaN     apartment   \n",
       "2               Capital Federal -58.522982       1309.090909     apartment   \n",
       "3               Capital Federal -58.516424               NaN            PH   \n",
       "4  Buenos Aires Costa Atlántica -57.549447       1828.571429     apartment   \n",
       "\n",
       "   surface_total_in_m2  surface_covered_in_m2  price_aprox_usd  geonames_id  \n",
       "0                 55.0                   40.0          62000.0    3430787.0  \n",
       "1                  NaN                    NaN         150000.0    3432039.0  \n",
       "2                 55.0                   55.0          72000.0    3430787.0  \n",
       "3                  NaN                    NaN          95000.0    3431333.0  \n",
       "4                 35.0                   35.0          64000.0    3435548.0  "
      ]
     },
     "execution_count": 136,
     "metadata": {},
     "output_type": "execute_result"
    }
   ],
   "source": [
    "data = drop_columns(data, ['country_name', 'operation', 'place_with_parent_names', 'expenses', 'floor', 'rooms'])\n",
    "data.head(5)"
   ]
  },
  {
   "cell_type": "markdown",
   "metadata": {},
   "source": [
    "## Tratamiento de duplicados\n",
    "El primer lote de duplicados que consideramos se compone por el siguiente conjunto de columnas:\n",
    " * property_type\n",
    " * lat\n",
    " * lon\n",
    " * price\n",
    " * place_name\n",
    " * geonames_id\n",
    "\n",
    "Comenzamos identificando duplicados sin tener en cuenta las filas con N/A:"
   ]
  },
  {
   "cell_type": "code",
   "execution_count": 138,
   "metadata": {},
   "outputs": [
    {
     "name": "stdout",
     "output_type": "stream",
     "text": [
      "Total with duplicates: 51041\n",
      "Total without duplicates: 46949\n"
     ]
    }
   ],
   "source": [
    "with_duplicates_ds    = data[data[['lat', 'lon', 'geonames_id', 'price']].notna().all(axis=1)]\n",
    "without_duplicates_ds = with_duplicates_ds.drop_duplicates(\n",
    "    subset=('property_type', 'lat', 'lon', 'price', 'place_name', 'geonames_id'), keep='first')\n",
    "print(\"Total with duplicates: {0}\".format(with_duplicates_ds.index.size))\n",
    "print(\"Total without duplicates: {0}\".format(without_duplicates_ds.index.size))"
   ]
  },
  {
   "cell_type": "markdown",
   "metadata": {},
   "source": [
    "El siguiente paso es eliminar efectivamente los duplicados de la celda anterior."
   ]
  },
  {
   "cell_type": "code",
   "execution_count": 139,
   "metadata": {},
   "outputs": [
    {
     "data": {
      "text/plain": [
       "(117128, 17)"
      ]
     },
     "execution_count": 139,
     "metadata": {},
     "output_type": "execute_result"
    }
   ],
   "source": [
    "duplicates_mask = data[['property_type', 'lat', 'lon', 'price', 'place_name', 'geonames_id']].duplicated()\n",
    "not_na_mask     = data[['lat', 'lon', 'geonames_id', 'price']].notna().all(axis=1)\n",
    "data = data[~(duplicates_mask & not_na_mask)]\n",
    "\n",
    "data.shape"
   ]
  },
  {
   "cell_type": "code",
   "execution_count": 140,
   "metadata": {},
   "outputs": [
    {
     "data": {
      "text/html": [
       "<div>\n",
       "<style scoped>\n",
       "    .dataframe tbody tr th:only-of-type {\n",
       "        vertical-align: middle;\n",
       "    }\n",
       "\n",
       "    .dataframe tbody tr th {\n",
       "        vertical-align: top;\n",
       "    }\n",
       "\n",
       "    .dataframe thead th {\n",
       "        text-align: right;\n",
       "    }\n",
       "</style>\n",
       "<table border=\"1\" class=\"dataframe\">\n",
       "  <thead>\n",
       "    <tr style=\"text-align: right;\">\n",
       "      <th></th>\n",
       "      <th>total</th>\n",
       "      <th>percent</th>\n",
       "    </tr>\n",
       "  </thead>\n",
       "  <tbody>\n",
       "    <tr>\n",
       "      <th>lat</th>\n",
       "      <td>51550</td>\n",
       "      <td>0.440117</td>\n",
       "    </tr>\n",
       "    <tr>\n",
       "      <th>price_per_m2</th>\n",
       "      <td>32834</td>\n",
       "      <td>0.280326</td>\n",
       "    </tr>\n",
       "    <tr>\n",
       "      <th>lat-lon</th>\n",
       "      <td>51550</td>\n",
       "      <td>0.440117</td>\n",
       "    </tr>\n",
       "    <tr>\n",
       "      <th>currency</th>\n",
       "      <td>17787</td>\n",
       "      <td>0.151860</td>\n",
       "    </tr>\n",
       "    <tr>\n",
       "      <th>price</th>\n",
       "      <td>17786</td>\n",
       "      <td>0.151851</td>\n",
       "    </tr>\n",
       "    <tr>\n",
       "      <th>price_aprox_local_currency</th>\n",
       "      <td>20275</td>\n",
       "      <td>0.173101</td>\n",
       "    </tr>\n",
       "    <tr>\n",
       "      <th>lon</th>\n",
       "      <td>51550</td>\n",
       "      <td>0.440117</td>\n",
       "    </tr>\n",
       "    <tr>\n",
       "      <th>price_usd_per_m2</th>\n",
       "      <td>51536</td>\n",
       "      <td>0.439997</td>\n",
       "    </tr>\n",
       "    <tr>\n",
       "      <th>surface_total_in_m2</th>\n",
       "      <td>38404</td>\n",
       "      <td>0.327881</td>\n",
       "    </tr>\n",
       "    <tr>\n",
       "      <th>surface_covered_in_m2</th>\n",
       "      <td>19313</td>\n",
       "      <td>0.164888</td>\n",
       "    </tr>\n",
       "    <tr>\n",
       "      <th>price_aprox_usd</th>\n",
       "      <td>20275</td>\n",
       "      <td>0.173101</td>\n",
       "    </tr>\n",
       "    <tr>\n",
       "      <th>geonames_id</th>\n",
       "      <td>18717</td>\n",
       "      <td>0.159800</td>\n",
       "    </tr>\n",
       "  </tbody>\n",
       "</table>\n",
       "</div>"
      ],
      "text/plain": [
       "                            total   percent\n",
       "lat                         51550  0.440117\n",
       "price_per_m2                32834  0.280326\n",
       "lat-lon                     51550  0.440117\n",
       "currency                    17787  0.151860\n",
       "price                       17786  0.151851\n",
       "price_aprox_local_currency  20275  0.173101\n",
       "lon                         51550  0.440117\n",
       "price_usd_per_m2            51536  0.439997\n",
       "surface_total_in_m2         38404  0.327881\n",
       "surface_covered_in_m2       19313  0.164888\n",
       "price_aprox_usd             20275  0.173101\n",
       "geonames_id                 18717  0.159800"
      ]
     },
     "execution_count": 140,
     "metadata": {},
     "output_type": "execute_result"
    }
   ],
   "source": [
    "show_null_distribution(data)"
   ]
  },
  {
   "cell_type": "markdown",
   "metadata": {},
   "source": [
    "### Tratamiento de Valores Faltantes para las columnas de coordenadas\n",
    "Una vez utilizadas las columnas *lat* y *lon* para determinar el duplicado de las filas, chequeamos los valores faltantes."
   ]
  },
  {
   "cell_type": "code",
   "execution_count": 141,
   "metadata": {},
   "outputs": [
    {
     "name": "stdout",
     "output_type": "stream",
     "text": [
      "Total of null coordinates: 51550\n"
     ]
    }
   ],
   "source": [
    "lat_lon_mask = data[['lat', 'lon', 'lat-lon']].isna().all(axis=1)\n",
    "print(\"Total of null coordinates: {0}\".format(lat_lon_mask.sum()))"
   ]
  },
  {
   "cell_type": "markdown",
   "metadata": {},
   "source": [
    "Podríamos localizar algunos de los N/A escaneando las columna *description*:"
   ]
  },
  {
   "cell_type": "code",
   "execution_count": 142,
   "metadata": {},
   "outputs": [
    {
     "data": {
      "text/plain": [
       "(8263, 4352, 1)"
      ]
     },
     "execution_count": 142,
     "metadata": {},
     "output_type": "execute_result"
    }
   ],
   "source": [
    "calc_lat_total = na_expenses['description'].str.contains('lat', case=False, regex=False).sum()\n",
    "calc_lon_total = na_expenses['description'].str.contains('lon', case=False, regex=False).sum()\n",
    "calc_lng_total = na_expenses['description'].str.contains('lng', case=False, regex=False).sum()\n",
    "calc_lat_total, calc_lon_total, calc_lng_total"
   ]
  },
  {
   "cell_type": "markdown",
   "metadata": {},
   "source": [
    "Dado que no es común que la descripción incluya la dirección real del inmueble, en el mejor de los casos (siendo muy optimistas) nos quedarían más de 40000 registros con N/A."
   ]
  },
  {
   "cell_type": "markdown",
   "metadata": {},
   "source": [
    "### Columnas Irrelevantes para el estudio - Fase 3\n",
    "Eliminamos las 3 columnas relacionadas a coordenadas:\n",
    "* lat\n",
    "* lon\n",
    "* lat-lon"
   ]
  },
  {
   "cell_type": "code",
   "execution_count": 143,
   "metadata": {},
   "outputs": [
    {
     "data": {
      "text/html": [
       "<div>\n",
       "<style scoped>\n",
       "    .dataframe tbody tr th:only-of-type {\n",
       "        vertical-align: middle;\n",
       "    }\n",
       "\n",
       "    .dataframe tbody tr th {\n",
       "        vertical-align: top;\n",
       "    }\n",
       "\n",
       "    .dataframe thead th {\n",
       "        text-align: right;\n",
       "    }\n",
       "</style>\n",
       "<table border=\"1\" class=\"dataframe\">\n",
       "  <thead>\n",
       "    <tr style=\"text-align: right;\">\n",
       "      <th></th>\n",
       "      <th>description</th>\n",
       "      <th>price</th>\n",
       "      <th>title</th>\n",
       "      <th>place_name</th>\n",
       "      <th>state_name</th>\n",
       "      <th>price_usd_per_m2</th>\n",
       "      <th>property_type</th>\n",
       "      <th>surface_total_in_m2</th>\n",
       "      <th>price_aprox_usd</th>\n",
       "      <th>price_per_m2</th>\n",
       "      <th>currency</th>\n",
       "      <th>price_aprox_local_currency</th>\n",
       "      <th>surface_covered_in_m2</th>\n",
       "      <th>geonames_id</th>\n",
       "    </tr>\n",
       "  </thead>\n",
       "  <tbody>\n",
       "    <tr>\n",
       "      <th>0</th>\n",
       "      <td>2 ambientes tipo casa planta baja por pasillo,...</td>\n",
       "      <td>62000.0</td>\n",
       "      <td>2 amb tipo casa sin expensas en pb</td>\n",
       "      <td>Mataderos</td>\n",
       "      <td>Capital Federal</td>\n",
       "      <td>1127.272727</td>\n",
       "      <td>PH</td>\n",
       "      <td>55.0</td>\n",
       "      <td>62000.0</td>\n",
       "      <td>1550.000000</td>\n",
       "      <td>USD</td>\n",
       "      <td>1093959.0</td>\n",
       "      <td>40.0</td>\n",
       "      <td>3430787.0</td>\n",
       "    </tr>\n",
       "    <tr>\n",
       "      <th>1</th>\n",
       "      <td>venta de departamento en décimo piso al frente...</td>\n",
       "      <td>150000.0</td>\n",
       "      <td>venta depto 2 dorm. a estrenar 7 e/ 36 y 37</td>\n",
       "      <td>La Plata</td>\n",
       "      <td>Bs.As. G.B.A. Zona Sur</td>\n",
       "      <td>NaN</td>\n",
       "      <td>apartment</td>\n",
       "      <td>NaN</td>\n",
       "      <td>150000.0</td>\n",
       "      <td>NaN</td>\n",
       "      <td>USD</td>\n",
       "      <td>2646675.0</td>\n",
       "      <td>NaN</td>\n",
       "      <td>3432039.0</td>\n",
       "    </tr>\n",
       "    <tr>\n",
       "      <th>2</th>\n",
       "      <td>2 ambientes 3er piso lateral living comedor am...</td>\n",
       "      <td>72000.0</td>\n",
       "      <td>2 amb 3er piso con ascensor apto credito</td>\n",
       "      <td>Mataderos</td>\n",
       "      <td>Capital Federal</td>\n",
       "      <td>1309.090909</td>\n",
       "      <td>apartment</td>\n",
       "      <td>55.0</td>\n",
       "      <td>72000.0</td>\n",
       "      <td>1309.090909</td>\n",
       "      <td>USD</td>\n",
       "      <td>1270404.0</td>\n",
       "      <td>55.0</td>\n",
       "      <td>3430787.0</td>\n",
       "    </tr>\n",
       "    <tr>\n",
       "      <th>3</th>\n",
       "      <td>ph 3 ambientes con patio. hay 3 deptos en lote...</td>\n",
       "      <td>95000.0</td>\n",
       "      <td>ph 3 amb. cfte. reciclado</td>\n",
       "      <td>Liniers</td>\n",
       "      <td>Capital Federal</td>\n",
       "      <td>NaN</td>\n",
       "      <td>PH</td>\n",
       "      <td>NaN</td>\n",
       "      <td>95000.0</td>\n",
       "      <td>NaN</td>\n",
       "      <td>USD</td>\n",
       "      <td>1676227.5</td>\n",
       "      <td>NaN</td>\n",
       "      <td>3431333.0</td>\n",
       "    </tr>\n",
       "    <tr>\n",
       "      <th>4</th>\n",
       "      <td>departamento con fantástica iluminación natura...</td>\n",
       "      <td>64000.0</td>\n",
       "      <td>depto 2 amb al contrafrente zona centro/plaza ...</td>\n",
       "      <td>Centro</td>\n",
       "      <td>Buenos Aires Costa Atlántica</td>\n",
       "      <td>1828.571429</td>\n",
       "      <td>apartment</td>\n",
       "      <td>35.0</td>\n",
       "      <td>64000.0</td>\n",
       "      <td>1828.571429</td>\n",
       "      <td>USD</td>\n",
       "      <td>1129248.0</td>\n",
       "      <td>35.0</td>\n",
       "      <td>3435548.0</td>\n",
       "    </tr>\n",
       "  </tbody>\n",
       "</table>\n",
       "</div>"
      ],
      "text/plain": [
       "                                         description     price  \\\n",
       "0  2 ambientes tipo casa planta baja por pasillo,...   62000.0   \n",
       "1  venta de departamento en décimo piso al frente...  150000.0   \n",
       "2  2 ambientes 3er piso lateral living comedor am...   72000.0   \n",
       "3  ph 3 ambientes con patio. hay 3 deptos en lote...   95000.0   \n",
       "4  departamento con fantástica iluminación natura...   64000.0   \n",
       "\n",
       "                                               title place_name  \\\n",
       "0                 2 amb tipo casa sin expensas en pb  Mataderos   \n",
       "1        venta depto 2 dorm. a estrenar 7 e/ 36 y 37   La Plata   \n",
       "2           2 amb 3er piso con ascensor apto credito  Mataderos   \n",
       "3                          ph 3 amb. cfte. reciclado    Liniers   \n",
       "4  depto 2 amb al contrafrente zona centro/plaza ...     Centro   \n",
       "\n",
       "                     state_name  price_usd_per_m2 property_type  \\\n",
       "0               Capital Federal       1127.272727            PH   \n",
       "1        Bs.As. G.B.A. Zona Sur               NaN     apartment   \n",
       "2               Capital Federal       1309.090909     apartment   \n",
       "3               Capital Federal               NaN            PH   \n",
       "4  Buenos Aires Costa Atlántica       1828.571429     apartment   \n",
       "\n",
       "   surface_total_in_m2  price_aprox_usd  price_per_m2 currency  \\\n",
       "0                 55.0          62000.0   1550.000000      USD   \n",
       "1                  NaN         150000.0           NaN      USD   \n",
       "2                 55.0          72000.0   1309.090909      USD   \n",
       "3                  NaN          95000.0           NaN      USD   \n",
       "4                 35.0          64000.0   1828.571429      USD   \n",
       "\n",
       "   price_aprox_local_currency  surface_covered_in_m2  geonames_id  \n",
       "0                   1093959.0                   40.0    3430787.0  \n",
       "1                   2646675.0                    NaN    3432039.0  \n",
       "2                   1270404.0                   55.0    3430787.0  \n",
       "3                   1676227.5                    NaN    3431333.0  \n",
       "4                   1129248.0                   35.0    3435548.0  "
      ]
     },
     "execution_count": 143,
     "metadata": {},
     "output_type": "execute_result"
    }
   ],
   "source": [
    "data = drop_columns(data, ['lat', 'lon', 'lat-lon'])\n",
    "data.head(5)"
   ]
  },
  {
   "cell_type": "markdown",
   "metadata": {},
   "source": [
    "## Tratamiento de N/A\n",
    "Para comenzar, identificamos todos los registros que no tienen referencia alguna del precio:"
   ]
  },
  {
   "cell_type": "code",
   "execution_count": 144,
   "metadata": {},
   "outputs": [
    {
     "data": {
      "text/plain": [
       "17786"
      ]
     },
     "execution_count": 144,
     "metadata": {},
     "output_type": "execute_result"
    }
   ],
   "source": [
    "na_price_mask = data[['price', 'price_aprox_local_currency', 'price_aprox_usd', 'price_per_m2', 'price_usd_per_m2']].isna().all(axis=1)\n",
    "na_price_mask.sum()"
   ]
  },
  {
   "cell_type": "markdown",
   "metadata": {},
   "source": [
    "Identifiquemos tambien todos los registros que no tienen referencia alguna a los metros cuadrados:"
   ]
  },
  {
   "cell_type": "code",
   "execution_count": 145,
   "metadata": {},
   "outputs": [
    {
     "data": {
      "text/plain": [
       "12080"
      ]
     },
     "execution_count": 145,
     "metadata": {},
     "output_type": "execute_result"
    }
   ],
   "source": [
    "na_surface_mask = data[['surface_total_in_m2', 'surface_covered_in_m2']].isna().all(axis=1)\n",
    "na_surface_mask.sum()"
   ]
  },
  {
   "cell_type": "markdown",
   "metadata": {},
   "source": [
    "Y cuantos tienen carecen de ambas:"
   ]
  },
  {
   "cell_type": "code",
   "execution_count": 146,
   "metadata": {},
   "outputs": [
    {
     "data": {
      "text/plain": [
       "4675"
      ]
     },
     "execution_count": 146,
     "metadata": {},
     "output_type": "execute_result"
    }
   ],
   "source": [
    "data[na_price_mask & na_surface_mask].index.size"
   ]
  },
  {
   "cell_type": "markdown",
   "metadata": {},
   "source": [
    "Eliminamos los que carecen de ambas dado que de inferir, habría que hacerlo con todos las columnas."
   ]
  },
  {
   "cell_type": "code",
   "execution_count": 147,
   "metadata": {},
   "outputs": [],
   "source": [
    "columns_price = ['price', 'price_aprox_local_currency', 'price_aprox_usd', 'price_per_m2', 'price_usd_per_m2', 'surface_total_in_m2', 'surface_covered_in_m2']\n",
    "data.dropna(subset=columns_price, how='all', inplace=True)"
   ]
  },
  {
   "cell_type": "markdown",
   "metadata": {},
   "source": [
    "Ahora verificamos que registros tienen la información necesaria para inferir o aproximar las columnas de interés. Se pueden dar los siguientes casos:\n",
    "* Con una superficie y un precio total, podemos inferir el precio por m2 (en el peor de los casos usaríamos la superficie cubierta para aproximar la superficie total).\n",
    "* Con un precio total y un precio por m2, podemos inferir la superficie (en el peor de los casos la superficie inferida sería considerada total)\n",
    "* Con una superficie y un precio por m2, podemos inferir el precio total (en el peor de los casos usaríamos la superficie cubierta para aproximar la superficie total).\n",
    "\n",
    "Como valor del dolar, podemos tomar el promedio que tuvo la divisa durante 2017."
   ]
  },
  {
   "cell_type": "code",
   "execution_count": 148,
   "metadata": {},
   "outputs": [
    {
     "data": {
      "text/plain": [
       "20516"
      ]
     },
     "execution_count": 148,
     "metadata": {},
     "output_type": "execute_result"
    }
   ],
   "source": [
    "na_surface_mask     = data[['surface_total_in_m2', 'surface_covered_in_m2']].isna().all(axis=1)\n",
    "na_total_price_mask = data[['price', 'price_aprox_local_currency', 'price_aprox_usd']].isna().all(axis=1)\n",
    "na_m2_price_mask    = data[['price_per_m2', 'price_usd_per_m2']].isna().all(axis=1)\n",
    "\n",
    "drop_condition_mask = (na_surface_mask & na_total_price_mask) | (na_surface_mask & na_m2_price_mask) | \\\n",
    "(na_total_price_mask & na_m2_price_mask)\n",
    "\n",
    "drop_condition_mask.sum()"
   ]
  },
  {
   "cell_type": "markdown",
   "metadata": {},
   "source": [
    "Eliminamos las filas que no tienen la información necesaria para proceder según los puntos anteriores."
   ]
  },
  {
   "cell_type": "code",
   "execution_count": 149,
   "metadata": {},
   "outputs": [
    {
     "data": {
      "text/plain": [
       "(91937, 14)"
      ]
     },
     "execution_count": 149,
     "metadata": {},
     "output_type": "execute_result"
    }
   ],
   "source": [
    "data = data.loc[~drop_condition_mask, :]\n",
    "data.shape"
   ]
  },
  {
   "cell_type": "markdown",
   "metadata": {},
   "source": [
    "### Columnas Irrelevantes para el estudio - Fase 4\n",
    "Completada la fase de limpieza, prescindimos también de la columna *geonames_id* dado que no la consideramos determinante nuestro estudio."
   ]
  },
  {
   "cell_type": "code",
   "execution_count": 150,
   "metadata": {},
   "outputs": [
    {
     "data": {
      "text/html": [
       "<div>\n",
       "<style scoped>\n",
       "    .dataframe tbody tr th:only-of-type {\n",
       "        vertical-align: middle;\n",
       "    }\n",
       "\n",
       "    .dataframe tbody tr th {\n",
       "        vertical-align: top;\n",
       "    }\n",
       "\n",
       "    .dataframe thead th {\n",
       "        text-align: right;\n",
       "    }\n",
       "</style>\n",
       "<table border=\"1\" class=\"dataframe\">\n",
       "  <thead>\n",
       "    <tr style=\"text-align: right;\">\n",
       "      <th></th>\n",
       "      <th>price_per_m2</th>\n",
       "      <th>description</th>\n",
       "      <th>currency</th>\n",
       "      <th>price</th>\n",
       "      <th>price_aprox_local_currency</th>\n",
       "      <th>title</th>\n",
       "      <th>place_name</th>\n",
       "      <th>state_name</th>\n",
       "      <th>price_aprox_usd</th>\n",
       "      <th>price_usd_per_m2</th>\n",
       "      <th>property_type</th>\n",
       "      <th>surface_total_in_m2</th>\n",
       "      <th>surface_covered_in_m2</th>\n",
       "    </tr>\n",
       "  </thead>\n",
       "  <tbody>\n",
       "    <tr>\n",
       "      <th>0</th>\n",
       "      <td>1550.000000</td>\n",
       "      <td>2 ambientes tipo casa planta baja por pasillo,...</td>\n",
       "      <td>USD</td>\n",
       "      <td>62000.0</td>\n",
       "      <td>1093959.0</td>\n",
       "      <td>2 amb tipo casa sin expensas en pb</td>\n",
       "      <td>Mataderos</td>\n",
       "      <td>Capital Federal</td>\n",
       "      <td>62000.0</td>\n",
       "      <td>1127.272727</td>\n",
       "      <td>PH</td>\n",
       "      <td>55.0</td>\n",
       "      <td>40.0</td>\n",
       "    </tr>\n",
       "    <tr>\n",
       "      <th>2</th>\n",
       "      <td>1309.090909</td>\n",
       "      <td>2 ambientes 3er piso lateral living comedor am...</td>\n",
       "      <td>USD</td>\n",
       "      <td>72000.0</td>\n",
       "      <td>1270404.0</td>\n",
       "      <td>2 amb 3er piso con ascensor apto credito</td>\n",
       "      <td>Mataderos</td>\n",
       "      <td>Capital Federal</td>\n",
       "      <td>72000.0</td>\n",
       "      <td>1309.090909</td>\n",
       "      <td>apartment</td>\n",
       "      <td>55.0</td>\n",
       "      <td>55.0</td>\n",
       "    </tr>\n",
       "    <tr>\n",
       "      <th>4</th>\n",
       "      <td>1828.571429</td>\n",
       "      <td>departamento con fantástica iluminación natura...</td>\n",
       "      <td>USD</td>\n",
       "      <td>64000.0</td>\n",
       "      <td>1129248.0</td>\n",
       "      <td>depto 2 amb al contrafrente zona centro/plaza ...</td>\n",
       "      <td>Centro</td>\n",
       "      <td>Buenos Aires Costa Atlántica</td>\n",
       "      <td>64000.0</td>\n",
       "      <td>1828.571429</td>\n",
       "      <td>apartment</td>\n",
       "      <td>35.0</td>\n",
       "      <td>35.0</td>\n",
       "    </tr>\n",
       "    <tr>\n",
       "      <th>6</th>\n",
       "      <td>1666.666667</td>\n",
       "      <td>muy buen ph al frente con entrada independient...</td>\n",
       "      <td>USD</td>\n",
       "      <td>130000.0</td>\n",
       "      <td>2293785.0</td>\n",
       "      <td>muy buen ph al frente dos dormitorios , patio,...</td>\n",
       "      <td>Munro</td>\n",
       "      <td>Bs.As. G.B.A. Zona Norte</td>\n",
       "      <td>130000.0</td>\n",
       "      <td>1226.415094</td>\n",
       "      <td>PH</td>\n",
       "      <td>106.0</td>\n",
       "      <td>78.0</td>\n",
       "    </tr>\n",
       "    <tr>\n",
       "      <th>7</th>\n",
       "      <td>3450.000000</td>\n",
       "      <td>excelente monoambiente a estrenar amplio super...</td>\n",
       "      <td>USD</td>\n",
       "      <td>138000.0</td>\n",
       "      <td>2434941.0</td>\n",
       "      <td>jose hernandez 1400 monoambiente estrenar cate...</td>\n",
       "      <td>Belgrano</td>\n",
       "      <td>Capital Federal</td>\n",
       "      <td>138000.0</td>\n",
       "      <td>3066.666667</td>\n",
       "      <td>apartment</td>\n",
       "      <td>45.0</td>\n",
       "      <td>40.0</td>\n",
       "    </tr>\n",
       "  </tbody>\n",
       "</table>\n",
       "</div>"
      ],
      "text/plain": [
       "   price_per_m2                                        description currency  \\\n",
       "0   1550.000000  2 ambientes tipo casa planta baja por pasillo,...      USD   \n",
       "2   1309.090909  2 ambientes 3er piso lateral living comedor am...      USD   \n",
       "4   1828.571429  departamento con fantástica iluminación natura...      USD   \n",
       "6   1666.666667  muy buen ph al frente con entrada independient...      USD   \n",
       "7   3450.000000  excelente monoambiente a estrenar amplio super...      USD   \n",
       "\n",
       "      price  price_aprox_local_currency  \\\n",
       "0   62000.0                   1093959.0   \n",
       "2   72000.0                   1270404.0   \n",
       "4   64000.0                   1129248.0   \n",
       "6  130000.0                   2293785.0   \n",
       "7  138000.0                   2434941.0   \n",
       "\n",
       "                                               title place_name  \\\n",
       "0                 2 amb tipo casa sin expensas en pb  Mataderos   \n",
       "2           2 amb 3er piso con ascensor apto credito  Mataderos   \n",
       "4  depto 2 amb al contrafrente zona centro/plaza ...     Centro   \n",
       "6  muy buen ph al frente dos dormitorios , patio,...      Munro   \n",
       "7  jose hernandez 1400 monoambiente estrenar cate...   Belgrano   \n",
       "\n",
       "                     state_name  price_aprox_usd  price_usd_per_m2  \\\n",
       "0               Capital Federal          62000.0       1127.272727   \n",
       "2               Capital Federal          72000.0       1309.090909   \n",
       "4  Buenos Aires Costa Atlántica          64000.0       1828.571429   \n",
       "6      Bs.As. G.B.A. Zona Norte         130000.0       1226.415094   \n",
       "7               Capital Federal         138000.0       3066.666667   \n",
       "\n",
       "  property_type  surface_total_in_m2  surface_covered_in_m2  \n",
       "0            PH                 55.0                   40.0  \n",
       "2     apartment                 55.0                   55.0  \n",
       "4     apartment                 35.0                   35.0  \n",
       "6            PH                106.0                   78.0  \n",
       "7     apartment                 45.0                   40.0  "
      ]
     },
     "execution_count": 150,
     "metadata": {},
     "output_type": "execute_result"
    }
   ],
   "source": [
    "data = drop_columns(data, ['geonames_id'])\n",
    "data.head(5)"
   ]
  },
  {
   "cell_type": "markdown",
   "metadata": {},
   "source": [
    "### Tratamiento de NA - Columnas *surface_total_in_m2* y *surface_covered_in_m2*\n",
    "En este caso, nos quedamos con el primer valor que no sea NA otorgando prioridad al campo *surface_total_in_m2* por sobre *surface_covered_in_m2*."
   ]
  },
  {
   "cell_type": "code",
   "execution_count": 151,
   "metadata": {},
   "outputs": [
    {
     "name": "stdout",
     "output_type": "stream",
     "text": [
      "Total of NA in column surface_m2: 0\n"
     ]
    }
   ],
   "source": [
    "def firstnotna(x):\n",
    "    return None if x.first_valid_index() is None else x[x.first_valid_index()]\n",
    "\n",
    "data['surface_m2'] = data[['surface_total_in_m2', 'surface_covered_in_m2']].apply(firstnotna, axis=1)\n",
    "print(\"Total of NA in column surface_m2: {0}\".format(data['surface_m2'].isna().sum()))"
   ]
  },
  {
   "cell_type": "markdown",
   "metadata": {},
   "source": [
    "### Tratamiento de NA - Columnas *price_per_m2* y *price_usd_per_m2*\n",
    "En este caso, la lógica es la siguiente en el orden de prioridad establecido:\n",
    "* Si tengo uno de los 2 valores, lo usamos para estimar el otro.\n",
    "* Si tengo el valor *price*, lo usamos junto con *surface_in_m2* para estimar ambos valores.\n",
    "* Si tengo el valor *price_aprox_local_currency*, lo usamos junto con *surface_in_m2* para estimar ambos valores.\n",
    "* Si tengo el valor *price_aprox_usd*, lo usamos junto con *surface_in_m2* para estimar ambos valores."
   ]
  },
  {
   "cell_type": "code",
   "execution_count": 157,
   "metadata": {},
   "outputs": [
    {
     "name": "stdout",
     "output_type": "stream",
     "text": [
      "Total of NA in columns price_per_m2, price_usd_per_m2: 0\n"
     ]
    }
   ],
   "source": [
    "def na_price_per_m2_fixer(row):\n",
    "    DOLLAR_VALUE = 18.98 # cotización del dolar al 29/12/2017 - idealmente debería ser un promedio.\n",
    "    surface      = 1 if row.surface_m2 == 0 else row.surface_m2\n",
    "    if pd.isnull(row.price_per_m2) and pd.isnull(row.price_usd_per_m2):\n",
    "        if pd.isnull(row.price):\n",
    "            currency = 'ARS' if not pd.isnull(row.price_aprox_local_currency) else 'USD'\n",
    "            price    = row.price_aprox_local_currency if not pd.isnull(row.price_aprox_local_currency) else row.price_aprox_local_usd \n",
    "        else:\n",
    "            currency = row.currency\n",
    "            price    = row.price    \n",
    "        if currency is 'USD':\n",
    "            row.price_usd_per_m2 = price / surface\n",
    "            row.price_per_m2     = row.price_usd_per_m2 * DOLLAR_VALUE\n",
    "        else:\n",
    "            row.price_per_m2     = price / surface\n",
    "            row.price_usd_per_m2 = row.price_per_m2 / DOLLAR_VALUE\n",
    "    elif pd.isnull(row.price_per_m2):\n",
    "        row.price_per_m2 = row.price_usd_per_m2 * DOLLAR_VALUE\n",
    "    elif pd.isnull(row.price_usd_per_m2):\n",
    "        row.price_usd_per_m2 = row.price_per_m2 / DOLLAR_VALUE\n",
    "    return row\n",
    "\n",
    "data = data.apply(na_price_per_m2_fixer, axis=1)\n",
    "print(\"Total of NA in columns price_per_m2, price_usd_per_m2: {0}\".format(\n",
    "    data[['price_per_m2', 'price_usd_per_m2']].isna().any(axis=1).sum()))"
   ]
  },
  {
   "cell_type": "markdown",
   "metadata": {},
   "source": [
    "## Indicadores\n",
    "Indicadores básicos del dataset:"
   ]
  },
  {
   "cell_type": "code",
   "execution_count": 35,
   "metadata": {},
   "outputs": [
    {
     "data": {
      "text/html": [
       "<div>\n",
       "<style scoped>\n",
       "    .dataframe tbody tr th:only-of-type {\n",
       "        vertical-align: middle;\n",
       "    }\n",
       "\n",
       "    .dataframe tbody tr th {\n",
       "        vertical-align: top;\n",
       "    }\n",
       "\n",
       "    .dataframe thead th {\n",
       "        text-align: right;\n",
       "    }\n",
       "</style>\n",
       "<table border=\"1\" class=\"dataframe\">\n",
       "  <thead>\n",
       "    <tr style=\"text-align: right;\">\n",
       "      <th></th>\n",
       "      <th>price_per_m2</th>\n",
       "      <th>price</th>\n",
       "      <th>price_aprox_local_currency</th>\n",
       "      <th>price_aprox_usd</th>\n",
       "      <th>price_usd_per_m2</th>\n",
       "      <th>surface_total_in_m2</th>\n",
       "      <th>surface_covered_in_m2</th>\n",
       "    </tr>\n",
       "  </thead>\n",
       "  <tbody>\n",
       "    <tr>\n",
       "      <th>count</th>\n",
       "      <td>8.429400e+04</td>\n",
       "      <td>9.193700e+04</td>\n",
       "      <td>8.950500e+04</td>\n",
       "      <td>8.950500e+04</td>\n",
       "      <td>65592.000000</td>\n",
       "      <td>67963.000000</td>\n",
       "      <td>86696.000000</td>\n",
       "    </tr>\n",
       "    <tr>\n",
       "      <th>mean</th>\n",
       "      <td>6.889991e+03</td>\n",
       "      <td>4.547133e+05</td>\n",
       "      <td>4.333787e+06</td>\n",
       "      <td>2.456169e+05</td>\n",
       "      <td>2139.819258</td>\n",
       "      <td>230.747421</td>\n",
       "      <td>131.226769</td>\n",
       "    </tr>\n",
       "    <tr>\n",
       "      <th>std</th>\n",
       "      <td>2.866172e+04</td>\n",
       "      <td>8.898536e+05</td>\n",
       "      <td>6.463777e+06</td>\n",
       "      <td>3.663338e+05</td>\n",
       "      <td>2720.115239</td>\n",
       "      <td>1730.492332</td>\n",
       "      <td>749.718499</td>\n",
       "    </tr>\n",
       "    <tr>\n",
       "      <th>min</th>\n",
       "      <td>1.510204e+00</td>\n",
       "      <td>1.000000e+00</td>\n",
       "      <td>8.234017e+04</td>\n",
       "      <td>4.666620e+03</td>\n",
       "      <td>0.600000</td>\n",
       "      <td>0.000000</td>\n",
       "      <td>0.000000</td>\n",
       "    </tr>\n",
       "    <tr>\n",
       "      <th>25%</th>\n",
       "      <td>1.533880e+03</td>\n",
       "      <td>1.100000e+05</td>\n",
       "      <td>1.623294e+06</td>\n",
       "      <td>9.200000e+04</td>\n",
       "      <td>1200.000000</td>\n",
       "      <td>50.000000</td>\n",
       "      <td>45.000000</td>\n",
       "    </tr>\n",
       "    <tr>\n",
       "      <th>50%</th>\n",
       "      <td>2.200000e+03</td>\n",
       "      <td>1.900000e+05</td>\n",
       "      <td>2.646675e+06</td>\n",
       "      <td>1.500000e+05</td>\n",
       "      <td>1787.469807</td>\n",
       "      <td>85.000000</td>\n",
       "      <td>75.000000</td>\n",
       "    </tr>\n",
       "    <tr>\n",
       "      <th>75%</th>\n",
       "      <td>3.355891e+03</td>\n",
       "      <td>4.100000e+05</td>\n",
       "      <td>4.869882e+06</td>\n",
       "      <td>2.760000e+05</td>\n",
       "      <td>2481.481481</td>\n",
       "      <td>206.000000</td>\n",
       "      <td>150.000000</td>\n",
       "    </tr>\n",
       "    <tr>\n",
       "      <th>max</th>\n",
       "      <td>4.000000e+06</td>\n",
       "      <td>1.000000e+08</td>\n",
       "      <td>8.212711e+08</td>\n",
       "      <td>4.654544e+07</td>\n",
       "      <td>206333.333333</td>\n",
       "      <td>200000.000000</td>\n",
       "      <td>187000.000000</td>\n",
       "    </tr>\n",
       "  </tbody>\n",
       "</table>\n",
       "</div>"
      ],
      "text/plain": [
       "       price_per_m2         price  price_aprox_local_currency  \\\n",
       "count  8.429400e+04  9.193700e+04                8.950500e+04   \n",
       "mean   6.889991e+03  4.547133e+05                4.333787e+06   \n",
       "std    2.866172e+04  8.898536e+05                6.463777e+06   \n",
       "min    1.510204e+00  1.000000e+00                8.234017e+04   \n",
       "25%    1.533880e+03  1.100000e+05                1.623294e+06   \n",
       "50%    2.200000e+03  1.900000e+05                2.646675e+06   \n",
       "75%    3.355891e+03  4.100000e+05                4.869882e+06   \n",
       "max    4.000000e+06  1.000000e+08                8.212711e+08   \n",
       "\n",
       "       price_aprox_usd  price_usd_per_m2  surface_total_in_m2  \\\n",
       "count     8.950500e+04      65592.000000         67963.000000   \n",
       "mean      2.456169e+05       2139.819258           230.747421   \n",
       "std       3.663338e+05       2720.115239          1730.492332   \n",
       "min       4.666620e+03          0.600000             0.000000   \n",
       "25%       9.200000e+04       1200.000000            50.000000   \n",
       "50%       1.500000e+05       1787.469807            85.000000   \n",
       "75%       2.760000e+05       2481.481481           206.000000   \n",
       "max       4.654544e+07     206333.333333        200000.000000   \n",
       "\n",
       "       surface_covered_in_m2  \n",
       "count           86696.000000  \n",
       "mean              131.226769  \n",
       "std               749.718499  \n",
       "min                 0.000000  \n",
       "25%                45.000000  \n",
       "50%                75.000000  \n",
       "75%               150.000000  \n",
       "max            187000.000000  "
      ]
     },
     "execution_count": 35,
     "metadata": {},
     "output_type": "execute_result"
    }
   ],
   "source": [
    "data.describe()"
   ]
  },
  {
   "cell_type": "markdown",
   "metadata": {},
   "source": [
    "Distribución de regitros respecto del *state_name*:"
   ]
  },
  {
   "cell_type": "code",
   "execution_count": 158,
   "metadata": {},
   "outputs": [
    {
     "data": {
      "text/plain": [
       "<matplotlib.axes._subplots.AxesSubplot at 0x7fd37fea4910>"
      ]
     },
     "execution_count": 158,
     "metadata": {},
     "output_type": "execute_result"
    },
    {
     "data": {
      "image/png": "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\n",
      "text/plain": [
       "<Figure size 1080x540 with 1 Axes>"
      ]
     },
     "metadata": {
      "needs_background": "light"
     },
     "output_type": "display_data"
    }
   ],
   "source": [
    "sorted_data = data.sort_values(by=\"price_usd_per_m2\")\n",
    "sorted_data.reset_index(inplace=True)\n",
    "\n",
    "groupby_state = data.groupby('state_name').size().sort_values(ascending=False)\n",
    "groupby_state.plot.bar(\n",
    "    title='Distribution of states',\n",
    "    fontsize=20, rot=90, figsize=(15, 7.5))"
   ]
  },
  {
   "cell_type": "markdown",
   "metadata": {},
   "source": [
    "Dado que la columna *price_per_m2* aún no fue del todo trabajada, definimos un umbral para poder apreciar los boxplots por *state_name*."
   ]
  },
  {
   "cell_type": "code",
   "execution_count": 161,
   "metadata": {},
   "outputs": [
    {
     "name": "stdout",
     "output_type": "stream",
     "text": [
      "Total of printed records: 91694\n"
     ]
    }
   ],
   "source": [
    "outliers_threshold = 200000\n",
    "sorted_data_cuted  = sorted_data[sorted_data['price_per_m2'] < outliers_threshold]\n",
    "print(\"Total of printed records: {0}\".format(sorted_data_cuted.index.size))"
   ]
  },
  {
   "cell_type": "code",
   "execution_count": 162,
   "metadata": {},
   "outputs": [
    {
     "data": {
      "text/plain": [
       "<matplotlib.axes._subplots.AxesSubplot at 0x7fd37db59d90>"
      ]
     },
     "execution_count": 162,
     "metadata": {},
     "output_type": "execute_result"
    },
    {
     "data": {
      "image/png": "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\n",
      "text/plain": [
       "<Figure size 1440x720 with 1 Axes>"
      ]
     },
     "metadata": {
      "needs_background": "light"
     },
     "output_type": "display_data"
    }
   ],
   "source": [
    "sorted_data_cuted.boxplot(\n",
    "    column='price_per_m2', by='state_name',\n",
    "    fontsize=20, rot=90, figsize=(20,10), patch_artist=True)"
   ]
  },
  {
   "cell_type": "code",
   "execution_count": 18,
   "metadata": {},
   "outputs": [
    {
     "data": {
      "text/plain": [
       "'3'"
      ]
     },
     "execution_count": 18,
     "metadata": {},
     "output_type": "execute_result"
    }
   ],
   "source": [
    "rex = re.compile(r'(?P<ambiente>\\d+) [ambAMB]+')\n",
    "prueba = ' ***3 amb | IMPECABLE | COCHERA | EXCELENTE ACC'\n",
    "rex.search(prueba).group('ambiente')\n",
    "\n",
    "#fformat = lambda x: rex.match(' ', str(x))\n",
    "#data['description'].sample(100)# = data['description'].apply(fformat)\n",
    "#data['title']       = data['title'].apply(fformat)"
   ]
  }
 ],
 "metadata": {
  "kernelspec": {
   "display_name": "Python 3",
   "language": "python",
   "name": "python3"
  },
  "language_info": {
   "codemirror_mode": {
    "name": "ipython",
    "version": 3
   },
   "file_extension": ".py",
   "mimetype": "text/x-python",
   "name": "python",
   "nbconvert_exporter": "python",
   "pygments_lexer": "ipython3",
   "version": "3.7.7"
  }
 },
 "nbformat": 4,
 "nbformat_minor": 4
}
