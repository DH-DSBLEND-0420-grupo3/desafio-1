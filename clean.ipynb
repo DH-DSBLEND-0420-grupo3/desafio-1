{
 "cells": [
  {
   "cell_type": "code",
   "execution_count": 1,
   "metadata": {},
   "outputs": [
    {
     "name": "stdout",
     "output_type": "stream",
     "text": [
      "Running command `conda list`... ok\n",
      "pandas=1.0.3 already installed\n",
      "matplotlib=2.2.2 already installed\n",
      "bokeh=2.0.0 already installed\n",
      "seaborn=0.10.0 already installed\n",
      "ipywidgets=7.5.1 already installed\n",
      "pytest=5.3.4 already installed\n",
      "chardet=3.0.4 already installed\n",
      "plotly=4.6.0 already installed\n",
      "Running command `conda install --yes chart-studio=1.1.0`... error\n",
      "    \n",
      "PackagesNotFoundError: The following packages are not available from current channels:\n",
      "\n",
      "  - chart-studio=1.1.0\n",
      "\n",
      "Current channels:\n",
      "\n",
      "  - https://repo.anaconda.com/pkgs/main/linux-64\n",
      "  - https://repo.anaconda.com/pkgs/main/noarch\n",
      "  - https://repo.anaconda.com/pkgs/r/linux-64\n",
      "  - https://repo.anaconda.com/pkgs/r/noarch\n",
      "\n",
      "To search for alternate channels that may provide the conda package you're\n",
      "looking for, navigate to\n",
      "\n",
      "    https://anaconda.org\n",
      "\n",
      "and use the search bar at the top of the page.\n",
      "\n",
      "\n",
      "\n"
     ]
    }
   ],
   "source": [
    "# initial setup\n",
    "try:\n",
    "    # settings colab:\n",
    "    import google.colab\n",
    "    \n",
    "    # si usan colab, deben cambiar el token de esta url\n",
    "    #! mkdir -p ../data\n",
    "    # los que usan colab deben modificar el token de esta url:\n",
    "    #! wget -O ../data/properati_2017.csv https://raw.githubusercontent.com/Digital-House-DATA/ds_blend_students_2020/master/M2/CLASE_07_Pandas_2/Data/resultado-de-encuestas-2017-2018.csv?token=AA4GFHO3EKGWGILBCV4BISC6WR6B4\n",
    "    \n",
    "except ModuleNotFoundError:    \n",
    "    # settings local:\n",
    "    %run \"common/base_setup.py\""
   ]
  },
  {
   "cell_type": "code",
   "execution_count": 2,
   "metadata": {},
   "outputs": [],
   "source": [
    "import pandas as pd\n",
    "import numpy as np\n",
    "import re"
   ]
  },
  {
   "cell_type": "code",
   "execution_count": 109,
   "metadata": {},
   "outputs": [],
   "source": [
    "# low_memorybool, default True\n",
    "# Internally process the file in chunks, resulting in lower memory use while parsing, \n",
    "# but possibly mixed type inference. To ensure no mixed types either set False, \n",
    "# or specify the type with the dtype parameter. \n",
    "# Note that the entire file is read into a single DataFrame regardless, \n",
    "# use the chunksize or iterator parameter to return the data in chunks. (Only valid with C parser).\n",
    "data     = pd.read_csv(\"./data/properati_2017.csv\", sep = \",\", low_memory=False)\n",
    "geonames = pd.read_csv(\"./data/AR.txt\", sep = \"\\t\", header=None, low_memory=False)\n",
    "geonames = geonames[[0, 4, 5]]\n",
    "geonames.rename(columns={0:'geonames_id', 4: 'gn_lat', 5: 'gn_lon'}, inplace=True)"
   ]
  },
  {
   "cell_type": "code",
   "execution_count": 110,
   "metadata": {},
   "outputs": [],
   "source": [
    "# Utilities\n",
    "def drop_columns(df, columns):\n",
    "    all_columns = set(df.columns)\n",
    "    relevant_columns = all_columns.difference(set(columns))\n",
    "    return df.loc[:, list(relevant_columns)]\n",
    "\n",
    "def show_null_distribution(df):\n",
    "    nulls = df.isnull().sum(axis=0)\n",
    "    nulls_percent = nulls / df.index.size\n",
    "    result = pd.concat([nulls, nulls_percent], axis=1)\n",
    "    result.columns = ['total', 'percent']\n",
    "    return result[result['total'] > 0]"
   ]
  },
  {
   "cell_type": "code",
   "execution_count": 112,
   "metadata": {},
   "outputs": [
    {
     "data": {
      "text/plain": [
       "(121220, 26)"
      ]
     },
     "execution_count": 112,
     "metadata": {},
     "output_type": "execute_result"
    }
   ],
   "source": [
    " data.shape"
   ]
  },
  {
   "cell_type": "code",
   "execution_count": 113,
   "metadata": {},
   "outputs": [
    {
     "data": {
      "text/plain": [
       "Index(['Unnamed: 0', 'operation', 'property_type', 'place_name',\n",
       "       'place_with_parent_names', 'country_name', 'state_name', 'geonames_id',\n",
       "       'lat-lon', 'lat', 'lon', 'price', 'currency',\n",
       "       'price_aprox_local_currency', 'price_aprox_usd', 'surface_total_in_m2',\n",
       "       'surface_covered_in_m2', 'price_usd_per_m2', 'price_per_m2', 'floor',\n",
       "       'rooms', 'expenses', 'properati_url', 'description', 'title',\n",
       "       'image_thumbnail'],\n",
       "      dtype='object')"
      ]
     },
     "execution_count": 113,
     "metadata": {},
     "output_type": "execute_result"
    }
   ],
   "source": [
    "data.columns"
   ]
  },
  {
   "cell_type": "code",
   "execution_count": 114,
   "metadata": {},
   "outputs": [
    {
     "data": {
      "text/plain": [
       "Unnamed: 0                      int64\n",
       "operation                      object\n",
       "property_type                  object\n",
       "place_name                     object\n",
       "place_with_parent_names        object\n",
       "country_name                   object\n",
       "state_name                     object\n",
       "geonames_id                   float64\n",
       "lat-lon                        object\n",
       "lat                           float64\n",
       "lon                           float64\n",
       "price                         float64\n",
       "currency                       object\n",
       "price_aprox_local_currency    float64\n",
       "price_aprox_usd               float64\n",
       "surface_total_in_m2           float64\n",
       "surface_covered_in_m2         float64\n",
       "price_usd_per_m2              float64\n",
       "price_per_m2                  float64\n",
       "floor                         float64\n",
       "rooms                         float64\n",
       "expenses                      float64\n",
       "properati_url                  object\n",
       "description                    object\n",
       "title                          object\n",
       "image_thumbnail                object\n",
       "dtype: object"
      ]
     },
     "execution_count": 114,
     "metadata": {},
     "output_type": "execute_result"
    }
   ],
   "source": [
    "data.dtypes"
   ]
  },
  {
   "cell_type": "code",
   "execution_count": 115,
   "metadata": {},
   "outputs": [],
   "source": [
    "# categoricals\n",
    "data[\"operation\"]     = data[\"operation\"].astype('category')\n",
    "data[\"property_type\"] = data[\"property_type\"].astype('category')\n",
    "data[\"country_name\"]  = data[\"country_name\"].astype('category')\n",
    "data[\"state_name\"]    = data[\"state_name\"].astype('category')"
   ]
  },
  {
   "cell_type": "code",
   "execution_count": 116,
   "metadata": {},
   "outputs": [],
   "source": [
    "# normalizations\n",
    "regex = re.compile(r'\\s+')\n",
    "fformat = lambda x: regex.sub(' ', str(x)).strip().lower()\n",
    "data['description'] = data['description'].apply(fformat)\n",
    "data['title']       = data['title'].apply(fformat)"
   ]
  },
  {
   "cell_type": "code",
   "execution_count": 117,
   "metadata": {},
   "outputs": [
    {
     "data": {
      "text/html": [
       "<div>\n",
       "<style scoped>\n",
       "    .dataframe tbody tr th:only-of-type {\n",
       "        vertical-align: middle;\n",
       "    }\n",
       "\n",
       "    .dataframe tbody tr th {\n",
       "        vertical-align: top;\n",
       "    }\n",
       "\n",
       "    .dataframe thead th {\n",
       "        text-align: right;\n",
       "    }\n",
       "</style>\n",
       "<table border=\"1\" class=\"dataframe\">\n",
       "  <thead>\n",
       "    <tr style=\"text-align: right;\">\n",
       "      <th></th>\n",
       "      <th>total</th>\n",
       "      <th>percent</th>\n",
       "    </tr>\n",
       "  </thead>\n",
       "  <tbody>\n",
       "    <tr>\n",
       "      <th>place_name</th>\n",
       "      <td>23</td>\n",
       "      <td>0.000190</td>\n",
       "    </tr>\n",
       "    <tr>\n",
       "      <th>geonames_id</th>\n",
       "      <td>18717</td>\n",
       "      <td>0.154405</td>\n",
       "    </tr>\n",
       "    <tr>\n",
       "      <th>lat-lon</th>\n",
       "      <td>51550</td>\n",
       "      <td>0.425260</td>\n",
       "    </tr>\n",
       "    <tr>\n",
       "      <th>lat</th>\n",
       "      <td>51550</td>\n",
       "      <td>0.425260</td>\n",
       "    </tr>\n",
       "    <tr>\n",
       "      <th>lon</th>\n",
       "      <td>51550</td>\n",
       "      <td>0.425260</td>\n",
       "    </tr>\n",
       "    <tr>\n",
       "      <th>price</th>\n",
       "      <td>20410</td>\n",
       "      <td>0.168372</td>\n",
       "    </tr>\n",
       "    <tr>\n",
       "      <th>currency</th>\n",
       "      <td>20411</td>\n",
       "      <td>0.168380</td>\n",
       "    </tr>\n",
       "    <tr>\n",
       "      <th>price_aprox_local_currency</th>\n",
       "      <td>20410</td>\n",
       "      <td>0.168372</td>\n",
       "    </tr>\n",
       "    <tr>\n",
       "      <th>price_aprox_usd</th>\n",
       "      <td>20410</td>\n",
       "      <td>0.168372</td>\n",
       "    </tr>\n",
       "    <tr>\n",
       "      <th>surface_total_in_m2</th>\n",
       "      <td>39328</td>\n",
       "      <td>0.324435</td>\n",
       "    </tr>\n",
       "    <tr>\n",
       "      <th>surface_covered_in_m2</th>\n",
       "      <td>19907</td>\n",
       "      <td>0.164222</td>\n",
       "    </tr>\n",
       "    <tr>\n",
       "      <th>price_usd_per_m2</th>\n",
       "      <td>52603</td>\n",
       "      <td>0.433947</td>\n",
       "    </tr>\n",
       "    <tr>\n",
       "      <th>price_per_m2</th>\n",
       "      <td>33562</td>\n",
       "      <td>0.276869</td>\n",
       "    </tr>\n",
       "    <tr>\n",
       "      <th>floor</th>\n",
       "      <td>113321</td>\n",
       "      <td>0.934837</td>\n",
       "    </tr>\n",
       "    <tr>\n",
       "      <th>rooms</th>\n",
       "      <td>73830</td>\n",
       "      <td>0.609058</td>\n",
       "    </tr>\n",
       "    <tr>\n",
       "      <th>expenses</th>\n",
       "      <td>106958</td>\n",
       "      <td>0.882346</td>\n",
       "    </tr>\n",
       "    <tr>\n",
       "      <th>image_thumbnail</th>\n",
       "      <td>3112</td>\n",
       "      <td>0.025672</td>\n",
       "    </tr>\n",
       "  </tbody>\n",
       "</table>\n",
       "</div>"
      ],
      "text/plain": [
       "                             total   percent\n",
       "place_name                      23  0.000190\n",
       "geonames_id                  18717  0.154405\n",
       "lat-lon                      51550  0.425260\n",
       "lat                          51550  0.425260\n",
       "lon                          51550  0.425260\n",
       "price                        20410  0.168372\n",
       "currency                     20411  0.168380\n",
       "price_aprox_local_currency   20410  0.168372\n",
       "price_aprox_usd              20410  0.168372\n",
       "surface_total_in_m2          39328  0.324435\n",
       "surface_covered_in_m2        19907  0.164222\n",
       "price_usd_per_m2             52603  0.433947\n",
       "price_per_m2                 33562  0.276869\n",
       "floor                       113321  0.934837\n",
       "rooms                        73830  0.609058\n",
       "expenses                    106958  0.882346\n",
       "image_thumbnail               3112  0.025672"
      ]
     },
     "execution_count": 117,
     "metadata": {},
     "output_type": "execute_result"
    }
   ],
   "source": [
    "# NA - distribution\n",
    "data = data.dropna(how='all')\n",
    "show_null_distribution(data)"
   ]
  },
  {
   "cell_type": "code",
   "execution_count": 118,
   "metadata": {},
   "outputs": [
    {
     "data": {
      "text/html": [
       "<div>\n",
       "<style scoped>\n",
       "    .dataframe tbody tr th:only-of-type {\n",
       "        vertical-align: middle;\n",
       "    }\n",
       "\n",
       "    .dataframe tbody tr th {\n",
       "        vertical-align: top;\n",
       "    }\n",
       "\n",
       "    .dataframe thead th {\n",
       "        text-align: right;\n",
       "    }\n",
       "</style>\n",
       "<table border=\"1\" class=\"dataframe\">\n",
       "  <thead>\n",
       "    <tr style=\"text-align: right;\">\n",
       "      <th></th>\n",
       "      <th>place_name</th>\n",
       "      <th>place_with_parent_names</th>\n",
       "    </tr>\n",
       "  </thead>\n",
       "  <tbody>\n",
       "    <tr>\n",
       "      <th>6489</th>\n",
       "      <td>NaN</td>\n",
       "      <td>|Argentina|Bs.As. G.B.A. Zona Norte|Tigre||</td>\n",
       "    </tr>\n",
       "  </tbody>\n",
       "</table>\n",
       "</div>"
      ],
      "text/plain": [
       "     place_name                      place_with_parent_names\n",
       "6489        NaN  |Argentina|Bs.As. G.B.A. Zona Norte|Tigre||"
      ]
     },
     "execution_count": 118,
     "metadata": {},
     "output_type": "execute_result"
    }
   ],
   "source": [
    "# NA - place_name\n",
    "na_place_name_mask = data[\"place_name\"].isnull()\n",
    "na_place_name      = data[na_place_name_mask][[\"place_name\", \"place_with_parent_names\"]]\n",
    "na_place_name.drop_duplicates()"
   ]
  },
  {
   "cell_type": "code",
   "execution_count": 119,
   "metadata": {},
   "outputs": [],
   "source": [
    "data['place_name'] = data['place_name'].fillna(\"Tigre\").astype('category')"
   ]
  },
  {
   "cell_type": "code",
   "execution_count": 120,
   "metadata": {},
   "outputs": [
    {
     "data": {
      "text/html": [
       "<div>\n",
       "<style scoped>\n",
       "    .dataframe tbody tr th:only-of-type {\n",
       "        vertical-align: middle;\n",
       "    }\n",
       "\n",
       "    .dataframe tbody tr th {\n",
       "        vertical-align: top;\n",
       "    }\n",
       "\n",
       "    .dataframe thead th {\n",
       "        text-align: right;\n",
       "    }\n",
       "</style>\n",
       "<table border=\"1\" class=\"dataframe\">\n",
       "  <thead>\n",
       "    <tr style=\"text-align: right;\">\n",
       "      <th></th>\n",
       "      <th>total</th>\n",
       "      <th>percent</th>\n",
       "    </tr>\n",
       "  </thead>\n",
       "  <tbody>\n",
       "    <tr>\n",
       "      <th>image_thumbnail</th>\n",
       "      <td>3112</td>\n",
       "      <td>0.025672</td>\n",
       "    </tr>\n",
       "    <tr>\n",
       "      <th>price_per_m2</th>\n",
       "      <td>33562</td>\n",
       "      <td>0.276869</td>\n",
       "    </tr>\n",
       "    <tr>\n",
       "      <th>surface_total_in_m2</th>\n",
       "      <td>39328</td>\n",
       "      <td>0.324435</td>\n",
       "    </tr>\n",
       "    <tr>\n",
       "      <th>lat-lon</th>\n",
       "      <td>51550</td>\n",
       "      <td>0.425260</td>\n",
       "    </tr>\n",
       "    <tr>\n",
       "      <th>rooms</th>\n",
       "      <td>73830</td>\n",
       "      <td>0.609058</td>\n",
       "    </tr>\n",
       "    <tr>\n",
       "      <th>floor</th>\n",
       "      <td>113321</td>\n",
       "      <td>0.934837</td>\n",
       "    </tr>\n",
       "    <tr>\n",
       "      <th>price</th>\n",
       "      <td>20410</td>\n",
       "      <td>0.168372</td>\n",
       "    </tr>\n",
       "    <tr>\n",
       "      <th>lat</th>\n",
       "      <td>51550</td>\n",
       "      <td>0.425260</td>\n",
       "    </tr>\n",
       "    <tr>\n",
       "      <th>price_aprox_local_currency</th>\n",
       "      <td>20410</td>\n",
       "      <td>0.168372</td>\n",
       "    </tr>\n",
       "    <tr>\n",
       "      <th>currency</th>\n",
       "      <td>20411</td>\n",
       "      <td>0.168380</td>\n",
       "    </tr>\n",
       "    <tr>\n",
       "      <th>geonames_id</th>\n",
       "      <td>18717</td>\n",
       "      <td>0.154405</td>\n",
       "    </tr>\n",
       "    <tr>\n",
       "      <th>price_usd_per_m2</th>\n",
       "      <td>52603</td>\n",
       "      <td>0.433947</td>\n",
       "    </tr>\n",
       "    <tr>\n",
       "      <th>price_aprox_usd</th>\n",
       "      <td>20410</td>\n",
       "      <td>0.168372</td>\n",
       "    </tr>\n",
       "    <tr>\n",
       "      <th>surface_covered_in_m2</th>\n",
       "      <td>19907</td>\n",
       "      <td>0.164222</td>\n",
       "    </tr>\n",
       "    <tr>\n",
       "      <th>expenses</th>\n",
       "      <td>106958</td>\n",
       "      <td>0.882346</td>\n",
       "    </tr>\n",
       "    <tr>\n",
       "      <th>lon</th>\n",
       "      <td>51550</td>\n",
       "      <td>0.425260</td>\n",
       "    </tr>\n",
       "  </tbody>\n",
       "</table>\n",
       "</div>"
      ],
      "text/plain": [
       "                             total   percent\n",
       "image_thumbnail               3112  0.025672\n",
       "price_per_m2                 33562  0.276869\n",
       "surface_total_in_m2          39328  0.324435\n",
       "lat-lon                      51550  0.425260\n",
       "rooms                        73830  0.609058\n",
       "floor                       113321  0.934837\n",
       "price                        20410  0.168372\n",
       "lat                          51550  0.425260\n",
       "price_aprox_local_currency   20410  0.168372\n",
       "currency                     20411  0.168380\n",
       "geonames_id                  18717  0.154405\n",
       "price_usd_per_m2             52603  0.433947\n",
       "price_aprox_usd              20410  0.168372\n",
       "surface_covered_in_m2        19907  0.164222\n",
       "expenses                    106958  0.882346\n",
       "lon                          51550  0.425260"
      ]
     },
     "execution_count": 120,
     "metadata": {},
     "output_type": "execute_result"
    }
   ],
   "source": [
    "# NA - lat/lon\n",
    "data = pd.merge(data, geonames, on='geonames_id', how='left', left_index=True)\n",
    "data['lat'].fillna(data['gn_lat'])\n",
    "data['lon'].fillna(data['gn_lon'])\n",
    "data = drop_columns(data, ['gn_lat', 'gn_lon'])\n",
    "show_null_distribution(data)"
   ]
  },
  {
   "cell_type": "code",
   "execution_count": 129,
   "metadata": {},
   "outputs": [
    {
     "data": {
      "text/plain": [
       "(2619, 2619, 4971, 4971)"
      ]
     },
     "execution_count": 129,
     "metadata": {},
     "output_type": "execute_result"
    }
   ],
   "source": [
    "# NA - price/currency\n",
    "def get_price_from_title(text):\n",
    "    regex = r'^\\s*(\\$|u\\$d|usd)\\s*([0-9\\.,]+).+en\\sventa'\n",
    "    m = re.search(regex, text, re.I)\n",
    "    if m is None:\n",
    "        return np.nan, np.nan\n",
    "    currency = 'ARS' if m.group(1) == '$' else 'USD'\n",
    "    price    = np.float64(m.group(2).replace('.', '').replace(',', '.'))\n",
    "    return currency, price\n",
    "\n",
    "def get_price_from_description(text):\n",
    "    if text is not np.nan:    \n",
    "        regex = r'(vendo\\scasa|valor\\sde\\sventa|valor:|vendo|valor|precio\\ses\\sde|precio\\sde)\\s+(\\$|u\\$d|usd)\\s*([0-9\\.,]+)'\n",
    "        m = re.search(regex, text, re.I)\n",
    "        if m is not None:\n",
    "            currency = 'ARS' if m.group(2) == '$' else 'USD'\n",
    "            price    = m.group(3).strip('.')\n",
    "            if len(price) > 0:\n",
    "                return currency, np.float64(price.replace('.', '').replace(',', '.'))\n",
    "    return np.nan, np.nan\n",
    "\n",
    "data['title_price'], data['title_currency']             = zip(*data['title'].map(get_price_from_title))\n",
    "data['description_price'], data['description_currency'] = \\\n",
    "    zip(*data['description'].map(get_price_from_description))\n",
    "\n",
    "data['title_price'].notna().sum(), data['title_currency'].notna().sum(), \\\n",
    "data['description_price'].notna().sum(), data['description_currency'].notna().sum()"
   ]
  },
  {
   "cell_type": "code",
   "execution_count": 139,
   "metadata": {},
   "outputs": [
    {
     "data": {
      "text/plain": [
       "(20342, 37286)"
      ]
     },
     "execution_count": 139,
     "metadata": {},
     "output_type": "execute_result"
    }
   ],
   "source": [
    "# NA - rooms\n",
    "def get_rooms_from_text(text):\n",
    "    if text is not np.nan:\n",
    "        regex = r'([0-9]+)\\s+(amb\\s|amb\\.|ambiente)'\n",
    "        m = re.search(regex, text, re.I)\n",
    "        if m is not None:\n",
    "            return np.int(m.group(1))\n",
    "    return np.nan\n",
    "\n",
    "data['title_rooms']       = data['title'].map(get_rooms_from_text)\n",
    "data['description_rooms'] = data['description'].map(get_rooms_from_text)\n",
    "\n",
    "data['title_rooms'].notna().sum(), data['description_rooms'].notna().sum()"
   ]
  },
  {
   "cell_type": "code",
   "execution_count": 140,
   "metadata": {},
   "outputs": [
    {
     "data": {
      "text/plain": [
       "(224, 7542)"
      ]
     },
     "execution_count": 140,
     "metadata": {},
     "output_type": "execute_result"
    }
   ],
   "source": [
    "# NA - floor\n",
    "def get_floor_from_text(text):\n",
    "    if text is not np.nan:\n",
    "        if 'plante baja' in text:\n",
    "            return 0\n",
    "        regex = r'(1°|2°|3°|4°|5°|6°|2do|3er|primer|segundo|tercer)\\spiso'\n",
    "        m = re.search(regex, text, re.I)\n",
    "        if m is not None:\n",
    "            piso = m.group(1)\n",
    "            if piso in ['1°', 'primer']:\n",
    "                return 1\n",
    "            elif piso in ['2°', '2do', 'segundo']:\n",
    "                return 2\n",
    "            elif piso in ['3°', '3er', 'tercer']:\n",
    "                return 3\n",
    "            else:\n",
    "                return np.int(piso.replace('°', ''))\n",
    "    return np.nan\n",
    "\n",
    "data['title_floor']       = data['title'].map(get_floor_from_text)\n",
    "data['description_floor'] = data['description'].map(get_floor_from_text)\n",
    "\n",
    "data['title_floor'].notna().sum(), data['description_floor'].notna().sum()"
   ]
  },
  {
   "cell_type": "code",
   "execution_count": 153,
   "metadata": {},
   "outputs": [
    {
     "data": {
      "text/plain": [
       "3611"
      ]
     },
     "execution_count": 153,
     "metadata": {},
     "output_type": "execute_result"
    }
   ],
   "source": [
    "# NA - m2 cubiertos\n",
    "def get_coveredm2_from_text(text):\n",
    "    if text is not np.nan:\n",
    "        regex = [\n",
    "            r'(\\d[0-9\\.,]+)\\s+m2\\s+cub',\n",
    "            r'metros\\s+cubiertos\\s*:?(\\d[0-9\\.,]+)',\n",
    "            r'cubierta\\s*:?(\\d[0-9\\.,]+)\\s+m2',\n",
    "        ]\n",
    "        for pattern in regex:\n",
    "            m = re.search(pattern, text, re.I)\n",
    "            if m is not None:\n",
    "                sup = m.group(1)\n",
    "                sup = sup.replace('.', '').replace(',', '.')\n",
    "                return np.nan if sup == '' else np.int(float(sup))\n",
    "    return np.nan\n",
    "\n",
    "data['description_surface_m2_covered'] = data['description'].map(get_coveredm2_from_text)\n",
    "\n",
    "data['description_surface_m2_covered'].notna().sum()"
   ]
  },
  {
   "cell_type": "code",
   "execution_count": 150,
   "metadata": {},
   "outputs": [
    {
     "data": {
      "text/plain": [
       "1315"
      ]
     },
     "execution_count": 150,
     "metadata": {},
     "output_type": "execute_result"
    }
   ],
   "source": [
    "# NA - m2 cubiertos\n",
    "def get_totalm2_from_text(text):\n",
    "    if text is not np.nan:\n",
    "        regex = [\n",
    "            r'(\\d[0-9\\.,]+)\\s+m2\\s+tot',\n",
    "            r'metros\\s+totales\\s*:?(\\d[0-9\\.,]+)',\n",
    "        ]\n",
    "        for pattern in regex:\n",
    "            m = re.search(pattern, text, re.I)\n",
    "            if m is not None:\n",
    "                sup = m.group(1)\n",
    "                sup = sup.replace('.', '').replace(',', '.')\n",
    "                return np.nan if sup == '' else np.int(float(sup))\n",
    "    return np.nan\n",
    "\n",
    "data['description_surface_m2_total'] = data['description'].map(get_totalm2_from_text)\n",
    "\n",
    "data['description_surface_m2_total'].notna().sum()"
   ]
  },
  {
   "cell_type": "code",
   "execution_count": null,
   "metadata": {},
   "outputs": [],
   "source": []
  }
 ],
 "metadata": {
  "kernelspec": {
   "display_name": "Python 3",
   "language": "python",
   "name": "python3"
  },
  "language_info": {
   "codemirror_mode": {
    "name": "ipython",
    "version": 3
   },
   "file_extension": ".py",
   "mimetype": "text/x-python",
   "name": "python",
   "nbconvert_exporter": "python",
   "pygments_lexer": "ipython3",
   "version": "3.7.6"
  }
 },
 "nbformat": 4,
 "nbformat_minor": 4
}
