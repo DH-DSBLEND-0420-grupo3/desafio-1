{
 "cells": [
  {
   "cell_type": "code",
   "execution_count": 120,
   "metadata": {},
   "outputs": [
    {
     "name": "stdout",
     "output_type": "stream",
     "text": [
      "Running command `conda list`... ok\n",
      "pandas=1.0.3 already installed\n",
      "matplotlib=2.2.2 already installed\n",
      "bokeh=2.0.0 already installed\n",
      "seaborn=0.10.0 already installed\n",
      "ipywidgets=7.5.1 already installed\n",
      "pytest=5.3.4 already installed\n",
      "chardet=3.0.4 already installed\n",
      "plotly=4.6.0 already installed\n",
      "chart-studio=1.1.0 already installed\n",
      "Running command `conda install --yes nodejs=13.13.0`... error\n",
      "    \n",
      "PackagesNotFoundError: The following packages are not available from current channels:\n",
      "\n",
      "  - nodejs=13.13.0\n",
      "\n",
      "Current channels:\n",
      "\n",
      "  - https://repo.anaconda.com/pkgs/main/linux-64\n",
      "  - https://repo.anaconda.com/pkgs/main/noarch\n",
      "  - https://repo.anaconda.com/pkgs/r/linux-64\n",
      "  - https://repo.anaconda.com/pkgs/r/noarch\n",
      "\n",
      "To search for alternate channels that may provide the conda package you're\n",
      "looking for, navigate to\n",
      "\n",
      "    https://anaconda.org\n",
      "\n",
      "and use the search bar at the top of the page.\n",
      "\n",
      "\n",
      "\n"
     ]
    }
   ],
   "source": [
    "# initial setup\n",
    "try:\n",
    "    # settings colab:\n",
    "    import google.colab\n",
    "    \n",
    "    # si usan colab, deben cambiar el token de esta url\n",
    "    #! mkdir -p ../data\n",
    "    # los que usan colab deben modificar el token de esta url:\n",
    "    #! wget -O ../data/properati_2017.csv https://raw.githubusercontent.com/Digital-House-DATA/ds_blend_students_2020/master/M2/CLASE_07_Pandas_2/Data/resultado-de-encuestas-2017-2018.csv?token=AA4GFHO3EKGWGILBCV4BISC6WR6B4\n",
    "    \n",
    "except ModuleNotFoundError:    \n",
    "    # settings local:\n",
    "    %run \"common/base_setup.py\""
   ]
  },
  {
   "cell_type": "markdown",
   "metadata": {},
   "source": [
    "## Carga Inicial del Dataset"
   ]
  },
  {
   "cell_type": "code",
   "execution_count": 121,
   "metadata": {},
   "outputs": [],
   "source": [
    "import pandas as pd\n",
    "import numpy as np\n",
    "import seaborn as sns\n",
    "import re\n",
    "\n",
    "from functools import partial"
   ]
  },
  {
   "cell_type": "code",
   "execution_count": 122,
   "metadata": {},
   "outputs": [],
   "source": [
    "# low_memorybool, default True\n",
    "# Internally process the file in chunks, resulting in lower memory use while parsing, \n",
    "# but possibly mixed type inference. To ensure no mixed types either set False, \n",
    "# or specify the type with the dtype parameter. \n",
    "# Note that the entire file is read into a single DataFrame regardless, \n",
    "# use the chunksize or iterator parameter to return the data in chunks. (Only valid with C parser).\n",
    "data     = pd.read_csv(\"./data/properati_2017.csv\", sep = \",\", low_memory=False)\n",
    "geonames = pd.read_csv(\"./data/AR.txt\", sep = \"\\t\", header=None, low_memory=False)\n",
    "geonames = geonames[[0, 4, 5]]\n",
    "geonames.rename(columns={0:'geonames_id', 4: 'gn_lat', 5: 'gn_lon'}, inplace=True)"
   ]
  },
  {
   "cell_type": "code",
   "execution_count": 123,
   "metadata": {},
   "outputs": [],
   "source": [
    "# Utilidades\n",
    "def drop_columns(df, columns):\n",
    "    all_columns = set(df.columns)\n",
    "    relevant_columns = all_columns.difference(set(columns))\n",
    "    return df.loc[:, list(relevant_columns)]\n",
    "\n",
    "def get_freq_na(df, zeros=False):\n",
    "    na = df.isnull().sum(axis=0)\n",
    "    na_percent = na / df.index.size\n",
    "    result = pd.concat([na, na_percent], axis=1)\n",
    "    result.columns = ['total', 'percent']\n",
    "    return result if zeros else result[result['total'] > 0]"
   ]
  },
  {
   "cell_type": "code",
   "execution_count": 124,
   "metadata": {},
   "outputs": [
    {
     "data": {
      "text/plain": [
       "(121220, 26)"
      ]
     },
     "execution_count": 124,
     "metadata": {},
     "output_type": "execute_result"
    }
   ],
   "source": [
    "data.shape"
   ]
  },
  {
   "cell_type": "code",
   "execution_count": 125,
   "metadata": {},
   "outputs": [
    {
     "data": {
      "text/plain": [
       "Index(['Unnamed: 0', 'operation', 'property_type', 'place_name',\n",
       "       'place_with_parent_names', 'country_name', 'state_name', 'geonames_id',\n",
       "       'lat-lon', 'lat', 'lon', 'price', 'currency',\n",
       "       'price_aprox_local_currency', 'price_aprox_usd', 'surface_total_in_m2',\n",
       "       'surface_covered_in_m2', 'price_usd_per_m2', 'price_per_m2', 'floor',\n",
       "       'rooms', 'expenses', 'properati_url', 'description', 'title',\n",
       "       'image_thumbnail'],\n",
       "      dtype='object')"
      ]
     },
     "execution_count": 125,
     "metadata": {},
     "output_type": "execute_result"
    }
   ],
   "source": [
    "data.columns"
   ]
  },
  {
   "cell_type": "code",
   "execution_count": 94,
   "metadata": {},
   "outputs": [
    {
     "data": {
      "text/plain": [
       "Unnamed: 0                      int64\n",
       "operation                      object\n",
       "property_type                  object\n",
       "place_name                     object\n",
       "place_with_parent_names        object\n",
       "country_name                   object\n",
       "state_name                     object\n",
       "geonames_id                   float64\n",
       "lat-lon                        object\n",
       "lat                           float64\n",
       "lon                           float64\n",
       "price                         float64\n",
       "currency                       object\n",
       "price_aprox_local_currency    float64\n",
       "price_aprox_usd               float64\n",
       "surface_total_in_m2           float64\n",
       "surface_covered_in_m2         float64\n",
       "price_usd_per_m2              float64\n",
       "price_per_m2                  float64\n",
       "floor                         float64\n",
       "rooms                         float64\n",
       "expenses                      float64\n",
       "properati_url                  object\n",
       "description                    object\n",
       "title                          object\n",
       "image_thumbnail                object\n",
       "dtype: object"
      ]
     },
     "execution_count": 94,
     "metadata": {},
     "output_type": "execute_result"
    }
   ],
   "source": [
    "data.dtypes"
   ]
  },
  {
   "cell_type": "code",
   "execution_count": 95,
   "metadata": {},
   "outputs": [],
   "source": [
    "# categoricals\n",
    "data[\"operation\"]     = data[\"operation\"].astype('category')\n",
    "data[\"property_type\"] = data[\"property_type\"].astype('category')\n",
    "data[\"country_name\"]  = data[\"country_name\"].astype('category')\n",
    "data[\"state_name\"]    = data[\"state_name\"].astype('category')"
   ]
  },
  {
   "cell_type": "code",
   "execution_count": 96,
   "metadata": {},
   "outputs": [],
   "source": [
    "# normalizations\n",
    "regex = re.compile(r'\\s+')\n",
    "fformat = lambda x: regex.sub(' ', str(x)).strip().lower()\n",
    "data['description'] = data['description'].apply(fformat)\n",
    "data['title']       = data['title'].apply(fformat)"
   ]
  },
  {
   "cell_type": "code",
   "execution_count": 97,
   "metadata": {},
   "outputs": [
    {
     "data": {
      "text/html": [
       "<div>\n",
       "<style scoped>\n",
       "    .dataframe tbody tr th:only-of-type {\n",
       "        vertical-align: middle;\n",
       "    }\n",
       "\n",
       "    .dataframe tbody tr th {\n",
       "        vertical-align: top;\n",
       "    }\n",
       "\n",
       "    .dataframe thead th {\n",
       "        text-align: right;\n",
       "    }\n",
       "</style>\n",
       "<table border=\"1\" class=\"dataframe\">\n",
       "  <thead>\n",
       "    <tr style=\"text-align: right;\">\n",
       "      <th></th>\n",
       "      <th>total</th>\n",
       "      <th>percent</th>\n",
       "    </tr>\n",
       "  </thead>\n",
       "  <tbody>\n",
       "    <tr>\n",
       "      <th>place_name</th>\n",
       "      <td>23</td>\n",
       "      <td>0.000190</td>\n",
       "    </tr>\n",
       "    <tr>\n",
       "      <th>geonames_id</th>\n",
       "      <td>18717</td>\n",
       "      <td>0.154405</td>\n",
       "    </tr>\n",
       "    <tr>\n",
       "      <th>lat-lon</th>\n",
       "      <td>51550</td>\n",
       "      <td>0.425260</td>\n",
       "    </tr>\n",
       "    <tr>\n",
       "      <th>lat</th>\n",
       "      <td>51550</td>\n",
       "      <td>0.425260</td>\n",
       "    </tr>\n",
       "    <tr>\n",
       "      <th>lon</th>\n",
       "      <td>51550</td>\n",
       "      <td>0.425260</td>\n",
       "    </tr>\n",
       "    <tr>\n",
       "      <th>price</th>\n",
       "      <td>20410</td>\n",
       "      <td>0.168372</td>\n",
       "    </tr>\n",
       "    <tr>\n",
       "      <th>currency</th>\n",
       "      <td>20411</td>\n",
       "      <td>0.168380</td>\n",
       "    </tr>\n",
       "    <tr>\n",
       "      <th>price_aprox_local_currency</th>\n",
       "      <td>20410</td>\n",
       "      <td>0.168372</td>\n",
       "    </tr>\n",
       "    <tr>\n",
       "      <th>price_aprox_usd</th>\n",
       "      <td>20410</td>\n",
       "      <td>0.168372</td>\n",
       "    </tr>\n",
       "    <tr>\n",
       "      <th>surface_total_in_m2</th>\n",
       "      <td>39328</td>\n",
       "      <td>0.324435</td>\n",
       "    </tr>\n",
       "    <tr>\n",
       "      <th>surface_covered_in_m2</th>\n",
       "      <td>19907</td>\n",
       "      <td>0.164222</td>\n",
       "    </tr>\n",
       "    <tr>\n",
       "      <th>price_usd_per_m2</th>\n",
       "      <td>52603</td>\n",
       "      <td>0.433947</td>\n",
       "    </tr>\n",
       "    <tr>\n",
       "      <th>price_per_m2</th>\n",
       "      <td>33562</td>\n",
       "      <td>0.276869</td>\n",
       "    </tr>\n",
       "    <tr>\n",
       "      <th>floor</th>\n",
       "      <td>113321</td>\n",
       "      <td>0.934837</td>\n",
       "    </tr>\n",
       "    <tr>\n",
       "      <th>rooms</th>\n",
       "      <td>73830</td>\n",
       "      <td>0.609058</td>\n",
       "    </tr>\n",
       "    <tr>\n",
       "      <th>expenses</th>\n",
       "      <td>106958</td>\n",
       "      <td>0.882346</td>\n",
       "    </tr>\n",
       "    <tr>\n",
       "      <th>image_thumbnail</th>\n",
       "      <td>3112</td>\n",
       "      <td>0.025672</td>\n",
       "    </tr>\n",
       "  </tbody>\n",
       "</table>\n",
       "</div>"
      ],
      "text/plain": [
       "                             total   percent\n",
       "place_name                      23  0.000190\n",
       "geonames_id                  18717  0.154405\n",
       "lat-lon                      51550  0.425260\n",
       "lat                          51550  0.425260\n",
       "lon                          51550  0.425260\n",
       "price                        20410  0.168372\n",
       "currency                     20411  0.168380\n",
       "price_aprox_local_currency   20410  0.168372\n",
       "price_aprox_usd              20410  0.168372\n",
       "surface_total_in_m2          39328  0.324435\n",
       "surface_covered_in_m2        19907  0.164222\n",
       "price_usd_per_m2             52603  0.433947\n",
       "price_per_m2                 33562  0.276869\n",
       "floor                       113321  0.934837\n",
       "rooms                        73830  0.609058\n",
       "expenses                    106958  0.882346\n",
       "image_thumbnail               3112  0.025672"
      ]
     },
     "execution_count": 97,
     "metadata": {},
     "output_type": "execute_result"
    }
   ],
   "source": [
    "# Distribucion NA - Fase 0 Inicial\n",
    "data   = data.dropna(how='all')\n",
    "freqna = get_freq_na(data)\n",
    "freqna"
   ]
  },
  {
   "cell_type": "code",
   "execution_count": 98,
   "metadata": {},
   "outputs": [
    {
     "data": {
      "text/plain": [
       "<matplotlib.axes._subplots.AxesSubplot at 0x7f6a59e86ed0>"
      ]
     },
     "execution_count": 98,
     "metadata": {},
     "output_type": "execute_result"
    },
    {
     "data": {
      "image/png": "[encoded data removed]",
      "text/plain": [
       "<Figure size 432x288 with 1 Axes>"
      ]
     },
     "metadata": {
      "needs_background": "light"
     },
     "output_type": "display_data"
    }
   ],
   "source": [
    "freqna['total'].plot.bar(title='Distribución de NA - Fase 0 Inicial')"
   ]
  },
  {
   "cell_type": "markdown",
   "metadata": {},
   "source": [
    "## Tratamiento NA"
   ]
  },
  {
   "cell_type": "code",
   "execution_count": 99,
   "metadata": {},
   "outputs": [
    {
     "data": {
      "text/html": [
       "<div>\n",
       "<style scoped>\n",
       "    .dataframe tbody tr th:only-of-type {\n",
       "        vertical-align: middle;\n",
       "    }\n",
       "\n",
       "    .dataframe tbody tr th {\n",
       "        vertical-align: top;\n",
       "    }\n",
       "\n",
       "    .dataframe thead th {\n",
       "        text-align: right;\n",
       "    }\n",
       "</style>\n",
       "<table border=\"1\" class=\"dataframe\">\n",
       "  <thead>\n",
       "    <tr style=\"text-align: right;\">\n",
       "      <th></th>\n",
       "      <th>place_name</th>\n",
       "      <th>place_with_parent_names</th>\n",
       "    </tr>\n",
       "  </thead>\n",
       "  <tbody>\n",
       "    <tr>\n",
       "      <th>6489</th>\n",
       "      <td>NaN</td>\n",
       "      <td>|Argentina|Bs.As. G.B.A. Zona Norte|Tigre||</td>\n",
       "    </tr>\n",
       "  </tbody>\n",
       "</table>\n",
       "</div>"
      ],
      "text/plain": [
       "     place_name                      place_with_parent_names\n",
       "6489        NaN  |Argentina|Bs.As. G.B.A. Zona Norte|Tigre||"
      ]
     },
     "execution_count": 99,
     "metadata": {},
     "output_type": "execute_result"
    }
   ],
   "source": [
    "# NA - place_name\n",
    "na_place_name_mask = data[\"place_name\"].isna()\n",
    "na_place_name      = data[na_place_name_mask][[\"place_name\", \"place_with_parent_names\"]]\n",
    "na_place_name.drop_duplicates()"
   ]
  },
  {
   "cell_type": "code",
   "execution_count": 100,
   "metadata": {},
   "outputs": [
    {
     "name": "stdout",
     "output_type": "stream",
     "text": [
      "NA place_name (0): 23\n",
      "NA place_name (1): 0\n"
     ]
    }
   ],
   "source": [
    "data['place_name'] = data['place_name'].fillna(\"Tigre\").astype('category')\n",
    "\n",
    "print(\"NA place_name (0): {0}\".format(na_place_name_mask.sum()))\n",
    "print(\"NA place_name (1): {0}\".format(data[\"place_name\"].isna().sum()))"
   ]
  },
  {
   "cell_type": "code",
   "execution_count": 101,
   "metadata": {},
   "outputs": [
    {
     "name": "stdout",
     "output_type": "stream",
     "text": [
      "NA (lat, lon) (0): (51550, 51550)\n",
      "NA (lat, lon) (1): (8346, 8346)\n"
     ]
    }
   ],
   "source": [
    "# NA - lat/lon\n",
    "na_lat_mask = data[\"lat\"].isna()\n",
    "na_lon_mask = data[\"lon\"].isna()\n",
    "\n",
    "data = pd.merge(data, geonames, on='geonames_id', how='left', left_index=True)\n",
    "data['lat'] = data['lat'].fillna(data['gn_lat'])\n",
    "data['lon'] = data['lon'].fillna(data['gn_lon'])\n",
    "data = drop_columns(data, ['gn_lat', 'gn_lon'])\n",
    "\n",
    "print(\"NA (lat, lon) (0): ({0}, {1})\".format(na_lat_mask.sum(), na_lon_mask.sum()))\n",
    "print(\"NA (lat, lon) (1): ({0}, {1})\".format(data[\"lat\"].isna().sum(), data[\"lon\"].isna().sum()))"
   ]
  },
  {
   "cell_type": "code",
   "execution_count": 102,
   "metadata": {},
   "outputs": [
    {
     "name": "stdout",
     "output_type": "stream",
     "text": [
      "NA rooms (0): 73830\n",
      "NA rooms (1): 52531\n"
     ]
    }
   ],
   "source": [
    "# NA - rooms\n",
    "def get_rooms_from_text(text):\n",
    "    if text is not np.nan:\n",
    "        regex = r'([0-9]+)\\s+(amb\\s|amb\\.|ambiente)'\n",
    "        m = re.search(regex, text, re.I)\n",
    "        if m is not None:\n",
    "            return np.int(m.group(1))\n",
    "    return np.nan\n",
    "\n",
    "na_rooms_mask = data[\"rooms\"].isna()\n",
    "\n",
    "data['title_rooms']       = data['title'].map(get_rooms_from_text)\n",
    "data['description_rooms'] = data['description'].map(get_rooms_from_text)\n",
    "\n",
    "data['rooms'] = data['rooms'].fillna(data['title_rooms'])\n",
    "data['rooms'] = data['rooms'].fillna(data['description_rooms'])\n",
    "data = drop_columns(data, ['title_rooms', 'description_rooms'])\n",
    "\n",
    "print(\"NA rooms (0): {0}\".format(na_rooms_mask.sum()))\n",
    "print(\"NA rooms (1): {0}\".format(data[\"rooms\"].isna().sum()))"
   ]
  },
  {
   "cell_type": "code",
   "execution_count": 103,
   "metadata": {},
   "outputs": [
    {
     "name": "stdout",
     "output_type": "stream",
     "text": [
      "NA floor (0): 113321\n",
      "NA floor (1): 106563\n"
     ]
    }
   ],
   "source": [
    "# NA - floor\n",
    "def get_floor_from_text(text):\n",
    "    if text is not np.nan:\n",
    "        if 'plante baja' in text:\n",
    "            return 0\n",
    "        regex = r'(1°|2°|3°|4°|5°|6°|2do|3er|primer|segundo|tercer)\\spiso'\n",
    "        m = re.search(regex, text, re.I)\n",
    "        if m is not None:\n",
    "            piso = m.group(1).lower()\n",
    "            if piso in ['1°', 'primer']:\n",
    "                return 1\n",
    "            elif piso in ['2°', '2do', 'segundo']:\n",
    "                return 2\n",
    "            elif piso in ['3°', '3er', 'tercer']:\n",
    "                return 3\n",
    "            else:\n",
    "                return np.int(piso.replace('°', ''))\n",
    "    return np.nan\n",
    "\n",
    "na_floor_mask = data[\"floor\"].isna()\n",
    "\n",
    "data['title_floor']       = data['title'].map(get_floor_from_text)\n",
    "data['description_floor'] = data['description'].map(get_floor_from_text)\n",
    "\n",
    "data['floor'] = data['floor'].fillna(data['title_floor'])\n",
    "data['floor'] = data['floor'].fillna(data['description_floor'])\n",
    "data = drop_columns(data, ['title_floor', 'description_floor'])\n",
    "\n",
    "print(\"NA floor (0): {0}\".format(na_floor_mask.sum()))\n",
    "print(\"NA floor (1): {0}\".format(data[\"floor\"].isna().sum()))"
   ]
  },
  {
   "cell_type": "code",
   "execution_count": 119,
   "metadata": {},
   "outputs": [
    {
     "ename": "KeyError",
     "evalue": "'description'",
     "output_type": "error",
     "traceback": [
      "\u001b[0;31m---------------------------------------------------------------------------\u001b[0m",
      "\u001b[0;31mKeyError\u001b[0m                                  Traceback (most recent call last)",
      "\u001b[0;32m~/anaconda3/envs/dhdsblend/lib/python3.7/site-packages/pandas/core/indexes/base.py\u001b[0m in \u001b[0;36mget_loc\u001b[0;34m(self, key, method, tolerance)\u001b[0m\n\u001b[1;32m   2645\u001b[0m             \u001b[0;32mtry\u001b[0m\u001b[0;34m:\u001b[0m\u001b[0;34m\u001b[0m\u001b[0;34m\u001b[0m\u001b[0m\n\u001b[0;32m-> 2646\u001b[0;31m                 \u001b[0;32mreturn\u001b[0m \u001b[0mself\u001b[0m\u001b[0;34m.\u001b[0m\u001b[0m_engine\u001b[0m\u001b[0;34m.\u001b[0m\u001b[0mget_loc\u001b[0m\u001b[0;34m(\u001b[0m\u001b[0mkey\u001b[0m\u001b[0;34m)\u001b[0m\u001b[0;34m\u001b[0m\u001b[0;34m\u001b[0m\u001b[0m\n\u001b[0m\u001b[1;32m   2647\u001b[0m             \u001b[0;32mexcept\u001b[0m \u001b[0mKeyError\u001b[0m\u001b[0;34m:\u001b[0m\u001b[0;34m\u001b[0m\u001b[0;34m\u001b[0m\u001b[0m\n",
      "\u001b[0;32mpandas/_libs/index.pyx\u001b[0m in \u001b[0;36mpandas._libs.index.IndexEngine.get_loc\u001b[0;34m()\u001b[0m\n",
      "\u001b[0;32mpandas/_libs/index.pyx\u001b[0m in \u001b[0;36mpandas._libs.index.IndexEngine.get_loc\u001b[0;34m()\u001b[0m\n",
      "\u001b[0;32mpandas/_libs/hashtable_class_helper.pxi\u001b[0m in \u001b[0;36mpandas._libs.hashtable.PyObjectHashTable.get_item\u001b[0;34m()\u001b[0m\n",
      "\u001b[0;32mpandas/_libs/hashtable_class_helper.pxi\u001b[0m in \u001b[0;36mpandas._libs.hashtable.PyObjectHashTable.get_item\u001b[0;34m()\u001b[0m\n",
      "\u001b[0;31mKeyError\u001b[0m: 'description'",
      "\nDuring handling of the above exception, another exception occurred:\n",
      "\u001b[0;31mKeyError\u001b[0m                                  Traceback (most recent call last)",
      "\u001b[0;32m<ipython-input-119-a64d13dfe9f7>\u001b[0m in \u001b[0;36m<module>\u001b[0;34m\u001b[0m\n\u001b[1;32m      7\u001b[0m     \u001b[0;32mreturn\u001b[0m \u001b[0;36m0\u001b[0m\u001b[0;34m\u001b[0m\u001b[0;34m\u001b[0m\u001b[0m\n\u001b[1;32m      8\u001b[0m \u001b[0;34m\u001b[0m\u001b[0m\n\u001b[0;32m----> 9\u001b[0;31m \u001b[0mdata\u001b[0m\u001b[0;34m[\u001b[0m\u001b[0;34m'parrilla'\u001b[0m\u001b[0;34m]\u001b[0m \u001b[0;34m=\u001b[0m \u001b[0mdata\u001b[0m\u001b[0;34m[\u001b[0m\u001b[0;34m'description'\u001b[0m\u001b[0;34m]\u001b[0m\u001b[0;34m.\u001b[0m\u001b[0mmap\u001b[0m\u001b[0;34m(\u001b[0m\u001b[0;32mlambda\u001b[0m \u001b[0mx\u001b[0m \u001b[0;34m:\u001b[0m \u001b[0mget_reg_from_text\u001b[0m\u001b[0;34m(\u001b[0m\u001b[0mx\u001b[0m\u001b[0;34m,\u001b[0m\u001b[0;34m'parr|asador'\u001b[0m\u001b[0;34m)\u001b[0m\u001b[0;34m)\u001b[0m\u001b[0;34m\u001b[0m\u001b[0;34m\u001b[0m\u001b[0m\n\u001b[0m\u001b[1;32m     10\u001b[0m \u001b[0mprint\u001b[0m\u001b[0;34m(\u001b[0m\u001b[0;34m\"Ocurrencias de parrillas encontradas: {0}\"\u001b[0m\u001b[0;34m.\u001b[0m\u001b[0mformat\u001b[0m\u001b[0;34m(\u001b[0m\u001b[0mdata\u001b[0m\u001b[0;34m[\u001b[0m\u001b[0;34m'parrilla'\u001b[0m\u001b[0;34m]\u001b[0m\u001b[0;34m.\u001b[0m\u001b[0msum\u001b[0m\u001b[0;34m(\u001b[0m\u001b[0;34m)\u001b[0m\u001b[0;34m)\u001b[0m\u001b[0;34m)\u001b[0m\u001b[0;34m\u001b[0m\u001b[0;34m\u001b[0m\u001b[0m\n\u001b[1;32m     11\u001b[0m \u001b[0mdata\u001b[0m\u001b[0;34m[\u001b[0m\u001b[0;34m'quincho'\u001b[0m\u001b[0;34m]\u001b[0m \u001b[0;34m=\u001b[0m \u001b[0mdata\u001b[0m\u001b[0;34m[\u001b[0m\u001b[0;34m'description'\u001b[0m\u001b[0;34m]\u001b[0m\u001b[0;34m.\u001b[0m\u001b[0mmap\u001b[0m\u001b[0;34m(\u001b[0m\u001b[0;32mlambda\u001b[0m \u001b[0mx\u001b[0m \u001b[0;34m:\u001b[0m \u001b[0mget_reg_from_text\u001b[0m\u001b[0;34m(\u001b[0m\u001b[0mx\u001b[0m\u001b[0;34m,\u001b[0m\u001b[0;34m'quincho'\u001b[0m\u001b[0;34m)\u001b[0m\u001b[0;34m)\u001b[0m\u001b[0;34m\u001b[0m\u001b[0;34m\u001b[0m\u001b[0m\n",
      "\u001b[0;32m~/anaconda3/envs/dhdsblend/lib/python3.7/site-packages/pandas/core/frame.py\u001b[0m in \u001b[0;36m__getitem__\u001b[0;34m(self, key)\u001b[0m\n\u001b[1;32m   2798\u001b[0m             \u001b[0;32mif\u001b[0m \u001b[0mself\u001b[0m\u001b[0;34m.\u001b[0m\u001b[0mcolumns\u001b[0m\u001b[0;34m.\u001b[0m\u001b[0mnlevels\u001b[0m \u001b[0;34m>\u001b[0m \u001b[0;36m1\u001b[0m\u001b[0;34m:\u001b[0m\u001b[0;34m\u001b[0m\u001b[0;34m\u001b[0m\u001b[0m\n\u001b[1;32m   2799\u001b[0m                 \u001b[0;32mreturn\u001b[0m \u001b[0mself\u001b[0m\u001b[0;34m.\u001b[0m\u001b[0m_getitem_multilevel\u001b[0m\u001b[0;34m(\u001b[0m\u001b[0mkey\u001b[0m\u001b[0;34m)\u001b[0m\u001b[0;34m\u001b[0m\u001b[0;34m\u001b[0m\u001b[0m\n\u001b[0;32m-> 2800\u001b[0;31m             \u001b[0mindexer\u001b[0m \u001b[0;34m=\u001b[0m \u001b[0mself\u001b[0m\u001b[0;34m.\u001b[0m\u001b[0mcolumns\u001b[0m\u001b[0;34m.\u001b[0m\u001b[0mget_loc\u001b[0m\u001b[0;34m(\u001b[0m\u001b[0mkey\u001b[0m\u001b[0;34m)\u001b[0m\u001b[0;34m\u001b[0m\u001b[0;34m\u001b[0m\u001b[0m\n\u001b[0m\u001b[1;32m   2801\u001b[0m             \u001b[0;32mif\u001b[0m \u001b[0mis_integer\u001b[0m\u001b[0;34m(\u001b[0m\u001b[0mindexer\u001b[0m\u001b[0;34m)\u001b[0m\u001b[0;34m:\u001b[0m\u001b[0;34m\u001b[0m\u001b[0;34m\u001b[0m\u001b[0m\n\u001b[1;32m   2802\u001b[0m                 \u001b[0mindexer\u001b[0m \u001b[0;34m=\u001b[0m \u001b[0;34m[\u001b[0m\u001b[0mindexer\u001b[0m\u001b[0;34m]\u001b[0m\u001b[0;34m\u001b[0m\u001b[0;34m\u001b[0m\u001b[0m\n",
      "\u001b[0;32m~/anaconda3/envs/dhdsblend/lib/python3.7/site-packages/pandas/core/indexes/base.py\u001b[0m in \u001b[0;36mget_loc\u001b[0;34m(self, key, method, tolerance)\u001b[0m\n\u001b[1;32m   2646\u001b[0m                 \u001b[0;32mreturn\u001b[0m \u001b[0mself\u001b[0m\u001b[0;34m.\u001b[0m\u001b[0m_engine\u001b[0m\u001b[0;34m.\u001b[0m\u001b[0mget_loc\u001b[0m\u001b[0;34m(\u001b[0m\u001b[0mkey\u001b[0m\u001b[0;34m)\u001b[0m\u001b[0;34m\u001b[0m\u001b[0;34m\u001b[0m\u001b[0m\n\u001b[1;32m   2647\u001b[0m             \u001b[0;32mexcept\u001b[0m \u001b[0mKeyError\u001b[0m\u001b[0;34m:\u001b[0m\u001b[0;34m\u001b[0m\u001b[0;34m\u001b[0m\u001b[0m\n\u001b[0;32m-> 2648\u001b[0;31m                 \u001b[0;32mreturn\u001b[0m \u001b[0mself\u001b[0m\u001b[0;34m.\u001b[0m\u001b[0m_engine\u001b[0m\u001b[0;34m.\u001b[0m\u001b[0mget_loc\u001b[0m\u001b[0;34m(\u001b[0m\u001b[0mself\u001b[0m\u001b[0;34m.\u001b[0m\u001b[0m_maybe_cast_indexer\u001b[0m\u001b[0;34m(\u001b[0m\u001b[0mkey\u001b[0m\u001b[0;34m)\u001b[0m\u001b[0;34m)\u001b[0m\u001b[0;34m\u001b[0m\u001b[0;34m\u001b[0m\u001b[0m\n\u001b[0m\u001b[1;32m   2649\u001b[0m         \u001b[0mindexer\u001b[0m \u001b[0;34m=\u001b[0m \u001b[0mself\u001b[0m\u001b[0;34m.\u001b[0m\u001b[0mget_indexer\u001b[0m\u001b[0;34m(\u001b[0m\u001b[0;34m[\u001b[0m\u001b[0mkey\u001b[0m\u001b[0;34m]\u001b[0m\u001b[0;34m,\u001b[0m \u001b[0mmethod\u001b[0m\u001b[0;34m=\u001b[0m\u001b[0mmethod\u001b[0m\u001b[0;34m,\u001b[0m \u001b[0mtolerance\u001b[0m\u001b[0;34m=\u001b[0m\u001b[0mtolerance\u001b[0m\u001b[0;34m)\u001b[0m\u001b[0;34m\u001b[0m\u001b[0;34m\u001b[0m\u001b[0m\n\u001b[1;32m   2650\u001b[0m         \u001b[0;32mif\u001b[0m \u001b[0mindexer\u001b[0m\u001b[0;34m.\u001b[0m\u001b[0mndim\u001b[0m \u001b[0;34m>\u001b[0m \u001b[0;36m1\u001b[0m \u001b[0;32mor\u001b[0m \u001b[0mindexer\u001b[0m\u001b[0;34m.\u001b[0m\u001b[0msize\u001b[0m \u001b[0;34m>\u001b[0m \u001b[0;36m1\u001b[0m\u001b[0;34m:\u001b[0m\u001b[0;34m\u001b[0m\u001b[0;34m\u001b[0m\u001b[0m\n",
      "\u001b[0;32mpandas/_libs/index.pyx\u001b[0m in \u001b[0;36mpandas._libs.index.IndexEngine.get_loc\u001b[0;34m()\u001b[0m\n",
      "\u001b[0;32mpandas/_libs/index.pyx\u001b[0m in \u001b[0;36mpandas._libs.index.IndexEngine.get_loc\u001b[0;34m()\u001b[0m\n",
      "\u001b[0;32mpandas/_libs/hashtable_class_helper.pxi\u001b[0m in \u001b[0;36mpandas._libs.hashtable.PyObjectHashTable.get_item\u001b[0;34m()\u001b[0m\n",
      "\u001b[0;32mpandas/_libs/hashtable_class_helper.pxi\u001b[0m in \u001b[0;36mpandas._libs.hashtable.PyObjectHashTable.get_item\u001b[0;34m()\u001b[0m\n",
      "\u001b[0;31mKeyError\u001b[0m: 'description'"
     ]
    }
   ],
   "source": [
    "def get_reg_from_text(text,reg):\n",
    "    if text is not np.nan:\n",
    "        regex = reg#r'parr'\n",
    "        m = re.search(regex, text,re.IGNORECASE)\n",
    "        if m is not None:\n",
    "            return 1\n",
    "    return 0\n",
    "\n",
    "data['parrilla'] = data['description'].map(lambda x : get_reg_from_text(x,'parr|asador'))\n",
    "print(\"Ocurrencias de parrillas encontradas: {0}\".format(data['parrilla'].sum()))\n",
    "data['quincho'] = data['description'].map(lambda x : get_reg_from_text(x,'quincho'))\n",
    "print(\"Ocurrencias de quinchos  encontradas: {0}\".format(data['quincho'].sum()))\n",
    "data['balcon'] = data['description'].map(lambda x : get_reg_from_text(x,'balc'))\n",
    "print(\"Ocurrencias de balcones encontrados: {0}\".format(data['balcon'].sum()))\n",
    "data['cochera'] = data['description'].map(lambda x : get_reg_from_text(x,'garag|coche'))\n",
    "print(\"Ocurrencias de cocheras encontradas: {0}\".format(data['cochera'].sum()))\n",
    "data['patio'] = data['description'].map(lambda x : get_reg_from_text(x,'pati|jard'))\n",
    "print(\"Ocurrencias de patios encontrados: {0}\".format(data['patio'].sum()))\n",
    "#existen muchos anuncios que utilizan el termino pileta en la descripcion para referirse a el fregadero\n",
    "data['piscina'] = data['description'].map(lambda x : get_reg_from_text(x,'pisc'))\n",
    "print(\"Ocurrencias de piscinas encontradas: {0}\".format(data['piscina'].sum()))\n",
    "#veamos la cantidad de amenities por unidad\n",
    "data['amenities'] = data['parrilla'] + data['quincho'] + data['balcon'] + data['cochera'] + data['patio'] + data['piscina']\n"
   ]
  },
  {
   "cell_type": "code",
   "execution_count": 105,
   "metadata": {},
   "outputs": [
    {
     "name": "stdout",
     "output_type": "stream",
     "text": [
      "NA surface_covered_in_m2 (0): 19907\n",
      "NA surface_covered_in_m2 (1): 19554\n"
     ]
    }
   ],
   "source": [
    "# NA - m2 cubiertos\n",
    "def get_coveredm2_from_text(text):\n",
    "    if text is not np.nan:\n",
    "        regex = [\n",
    "            r'(\\d[0-9\\.,]+)\\s+m2\\s+cub',\n",
    "            r'metros\\s+cubiertos\\s*:?(\\d[0-9\\.,]+)',\n",
    "            r'cubierta\\s*:?(\\d[0-9\\.,]+)\\s+m2',\n",
    "        ]\n",
    "        for pattern in regex:\n",
    "            m = re.search(pattern, text, re.I)\n",
    "            if m is not None:\n",
    "                sup = m.group(1)\n",
    "                sup = sup.replace('.', '').replace(',', '.')\n",
    "                return np.nan if sup == '' else np.int(float(sup))\n",
    "    return np.nan\n",
    "\n",
    "na_surface_covered_mask = data[\"surface_covered_in_m2\"].isna()\n",
    "\n",
    "data['description_surface_m2_covered'] = data['description'].map(get_coveredm2_from_text)\n",
    "data['surface_covered_in_m2']          = \\\n",
    "    data['surface_covered_in_m2'].fillna(data['description_surface_m2_covered'])\n",
    "data = drop_columns(data, ['description_surface_m2_covered'])\n",
    "\n",
    "print(\"NA surface_covered_in_m2 (0): {0}\".format(na_surface_covered_mask.sum()))\n",
    "print(\"NA surface_covered_in_m2 (1): {0}\".format(data[\"surface_covered_in_m2\"].isna().sum()))"
   ]
  },
  {
   "cell_type": "code",
   "execution_count": 106,
   "metadata": {},
   "outputs": [
    {
     "name": "stdout",
     "output_type": "stream",
     "text": [
      "NA surface_total_in_m2 (0): 39328\n",
      "NA surface_total_in_m2 (1): 38989\n"
     ]
    }
   ],
   "source": [
    "# NA - m2 totales\n",
    "def get_totalm2_from_text(text):\n",
    "    if text is not np.nan:\n",
    "        regex = [\n",
    "            r'(\\d[0-9\\.,]+)\\s+m2\\s+tot',\n",
    "            r'metros\\s+totales\\s*:?(\\d[0-9\\.,]+)',\n",
    "        ]\n",
    "        for pattern in regex:\n",
    "            m = re.search(pattern, text, re.I)\n",
    "            if m is not None:\n",
    "                sup = m.group(1)\n",
    "                sup = sup.replace('.', '').replace(',', '.')\n",
    "                return np.nan if sup == '' else np.int(float(sup))\n",
    "    return np.nan\n",
    "\n",
    "na_surface_total_mask = data[\"surface_total_in_m2\"].isna()\n",
    "\n",
    "data['description_surface_m2_total'] = data['description'].map(get_totalm2_from_text)\n",
    "data['surface_total_in_m2']          = \\\n",
    "    data['surface_total_in_m2'].fillna(data['description_surface_m2_total'])\n",
    "data = drop_columns(data, ['description_surface_m2_total'])\n",
    "\n",
    "print(\"NA surface_total_in_m2 (0): {0}\".format(na_surface_total_mask.sum()))\n",
    "print(\"NA surface_total_in_m2 (1): {0}\".format(data[\"surface_total_in_m2\"].isna().sum()))"
   ]
  },
  {
   "cell_type": "code",
   "execution_count": 107,
   "metadata": {},
   "outputs": [
    {
     "name": "stdout",
     "output_type": "stream",
     "text": [
      "NA (price, currency) (0): (20410, 20411)\n",
      "NA (price, currency) (1): (17464, 17465)\n"
     ]
    }
   ],
   "source": [
    "# NA - price/currency\n",
    "def get_price_from_title(text):\n",
    "    regex = r'^\\s*(\\$|u\\$d|usd)\\s*([0-9\\.,]+).+en\\sventa'\n",
    "    m = re.search(regex, text, re.I)\n",
    "    if m is None:\n",
    "        return np.nan, np.nan\n",
    "    currency = 'ARS' if m.group(1) == '$' else 'USD'\n",
    "    price    = np.float64(m.group(2).replace('.', '').replace(',', '.'))\n",
    "    return currency, price\n",
    "\n",
    "def get_price_from_description(text):\n",
    "    if text is not np.nan:    \n",
    "        regex = r'(vendo\\scasa|valor\\sde\\sventa|valor:|vendo|valor|precio\\ses\\sde|precio\\sde)\\s+(\\$|u\\$d|usd)\\s*([0-9\\.,]+)'\n",
    "        m = re.search(regex, text, re.I)\n",
    "        if m is not None:\n",
    "            currency = 'ARS' if m.group(2) == '$' else 'USD'\n",
    "            price    = m.group(3).strip('.')\n",
    "            if len(price) > 0:\n",
    "                return currency, np.float64(price.replace('.', '').replace(',', '.'))\n",
    "    return np.nan, np.nan\n",
    "\n",
    "na_price_mask    = data[\"price\"].isna()\n",
    "na_currency_mask = data[\"currency\"].isna()\n",
    "\n",
    "data['title_currency'], data['title_price']             = zip(*data['title'].map(get_price_from_title))\n",
    "data['description_currency'], data['description_price'] = \\\n",
    "    zip(*data['description'].map(get_price_from_description))\n",
    "\n",
    "data['price'] = data['price'].fillna(data['title_price'])\n",
    "data['price'] = data['price'].fillna(data['description_price'])\n",
    "data['currency'] = data['currency'].fillna(data['title_currency'])\n",
    "data['currency'] = data['currency'].fillna(data['description_currency'])\n",
    "\n",
    "data = drop_columns(data, ['title_price', 'description_price', 'title_currency', 'description_currency'])\n",
    "\n",
    "print(\"NA (price, currency) (0): ({0}, {1})\".format(na_price_mask.sum(), na_currency_mask.sum()))\n",
    "print(\"NA (price, currency) (1): ({0}, {1})\".format(data[\"price\"].isna().sum(), data[\"currency\"].isna().sum()))"
   ]
  },
  {
   "cell_type": "code",
   "execution_count": 108,
   "metadata": {},
   "outputs": [
    {
     "name": "stdout",
     "output_type": "stream",
     "text": [
      "NA prices: 17464\n",
      "NA surfaces: 12065\n",
      "NA prices+surfaces: 4370\n"
     ]
    }
   ],
   "source": [
    "# Irrecuperables - No tiene sentido estimar todas las variables de precio y superficie\n",
    "surface_cols = ['surface_total_in_m2', 'surface_covered_in_m2']\n",
    "price_cols   = ['price', 'currency', \n",
    "                'price_aprox_local_currency', 'price_aprox_usd',\n",
    "                'price_per_m2', 'price_usd_per_m2']\n",
    "\n",
    "na_all_prices_mask   = data[price_cols].isna().all(axis=1)\n",
    "na_all_surfaces_mask = data[surface_cols].isna().all(axis=1)\n",
    "na_all_prices_and_surfaces_mask = na_all_prices_mask & na_all_surfaces_mask\n",
    "\n",
    "print(\"NA prices: {0}\".format(na_all_prices_mask.sum()))\n",
    "print(\"NA surfaces: {0}\".format(na_all_surfaces_mask.sum()))\n",
    "print(\"NA prices+surfaces: {0}\".format(na_all_prices_and_surfaces_mask.sum()))\n",
    "\n",
    "data.dropna(subset=surface_cols+price_cols, how='all', inplace=True)"
   ]
  },
  {
   "cell_type": "code",
   "execution_count": 109,
   "metadata": {},
   "outputs": [
    {
     "name": "stdout",
     "output_type": "stream",
     "text": [
      "Valor del Dolar: 17.644499988455582\n"
     ]
    }
   ],
   "source": [
    "# dollar value\n",
    "na_price_aprox_mask = data['price_aprox_usd'].isna() & data['price_aprox_local_currency'].isna()\n",
    "price_aprox  = data.loc[~na_price_aprox_mask, ['price_aprox_usd', 'price_aprox_local_currency']]\n",
    "\n",
    "na_price_aprox_gt0_mask = (price_aprox['price_aprox_usd'] > 0) & \\\n",
    "    (price_aprox['price_aprox_local_currency'] > 0)\n",
    "price_aprox  = price_aprox[na_price_aprox_gt0_mask]\n",
    "\n",
    "dollar_serie = price_aprox['price_aprox_local_currency'] / price_aprox['price_aprox_usd']\n",
    "dollar = np.mean(dollar_serie)\n",
    "\n",
    "print(\"Valor del Dolar: {0}\".format(dollar))"
   ]
  },
  {
   "cell_type": "code",
   "execution_count": 110,
   "metadata": {},
   "outputs": [
    {
     "name": "stdout",
     "output_type": "stream",
     "text": [
      "NA (price_usd, price_local) (0): (16040, 16040)\n",
      "NA (price_usd, price_local) (1): (13094, 13094)\n"
     ]
    }
   ],
   "source": [
    "def fill_prices_from_row(r, dollar):\n",
    "    price_usd   = r.price_aprox_usd\n",
    "    price_local = r.price_aprox_local_currency\n",
    "    updated = False\n",
    "    if (not pd.isnull(r.price)):\n",
    "        if pd.isnull(price_usd):\n",
    "            price_usd = r.price if r.currency == 'USD' else r.price / dollar\n",
    "            updated = True\n",
    "        if pd.isnull(price_local):\n",
    "            price_local = r.price if r.currency == 'ARS' else r.price * dollar\n",
    "            updated = True\n",
    "    if updated:\n",
    "        r.price_aprox_usd            = price_usd\n",
    "        r.price_aprox_local_currency = price_local\n",
    "    return r\n",
    "\n",
    "na_price_mask                      = data[\"price\"].isna()\n",
    "na_price_aprox_usd_mask            = data[\"price_aprox_usd\"].isna()\n",
    "na_price_aprox_local_currency_mask = data[\"price_aprox_local_currency\"].isna()\n",
    "na_price_aprox = (na_price_aprox_usd_mask | na_price_aprox_local_currency_mask) & ~na_price_mask\n",
    "\n",
    "data[na_price_aprox] = data[na_price_aprox].apply(partial(fill_prices_from_row, dollar=dollar), axis=1)\n",
    "\n",
    "print(\"NA (price_usd, price_local) (0): ({0}, {1})\".format(\n",
    "    na_price_aprox_usd_mask.sum(), na_price_aprox_local_currency_mask.sum()))\n",
    "print(\"NA (price_usd, price_local) (1): ({0}, {1})\".format(\n",
    "    data[\"price_aprox_usd\"].isna().sum(), data[\"price_aprox_local_currency\"].isna().sum()))"
   ]
  },
  {
   "cell_type": "code",
   "execution_count": 111,
   "metadata": {},
   "outputs": [
    {
     "name": "stdout",
     "output_type": "stream",
     "text": [
      "NA (price_usd_per_m2, price_per_m2) (0): (48233, 29192)\n",
      "NA (price_usd_per_m2, price_per_m2) (1): (21482, 21482)\n"
     ]
    }
   ],
   "source": [
    "def fill_price_usd_m2_from_row(r, dollar):\n",
    "    if not pd.isnull(r.surface_total_in_m2) and not pd.isnull(r.price_aprox_usd):\n",
    "        if r.surface_total_in_m2 > 0:\n",
    "            r.price_usd_per_m2 = r.price_aprox_usd / r.surface_total_in_m2\n",
    "    elif not pd.isnull(r.price_per_m2):\n",
    "        r.price_usd_per_m2 = r.price_per_m2 / dollar\n",
    "    return r\n",
    "\n",
    "def fill_price_m2_from_row(r, dollar):\n",
    "    if not pd.isnull(r.price_usd_per_m2):\n",
    "        r.price_per_m2 = r.price_usd_per_m2 * dollar\n",
    "    return r\n",
    "\n",
    "na_price_usd_per_m2_mask = data['price_usd_per_m2'].isna()\n",
    "na_price_per_m2_mask     = data['price_per_m2'].isna()\n",
    "\n",
    "data[na_price_usd_per_m2_mask] = data[na_price_usd_per_m2_mask].apply(\n",
    "    partial(fill_price_usd_m2_from_row, dollar=dollar), axis=1)\n",
    "\n",
    "data[na_price_per_m2_mask] = data[na_price_per_m2_mask].apply(\n",
    "    partial(fill_price_m2_from_row, dollar=dollar), axis=1)\n",
    "\n",
    "print(\"NA (price_usd_per_m2, price_per_m2) (0): ({0}, {1})\".format(\n",
    "    na_price_usd_per_m2_mask.sum(), na_price_per_m2_mask.sum()))\n",
    "print(\"NA (price_usd_per_m2, price_per_m2) (1): ({0}, {1})\".format(\n",
    "    data[\"price_usd_per_m2\"].isna().sum(), data[\"price_per_m2\"].isna().sum()))"
   ]
  },
  {
   "cell_type": "code",
   "execution_count": 112,
   "metadata": {},
   "outputs": [
    {
     "name": "stdout",
     "output_type": "stream",
     "text": [
      "NA surface_total_in_m2 (0): 34619\n",
      "NA surface_total_in_m2 (1): 10584\n"
     ]
    }
   ],
   "source": [
    "def fill_surface_total_m2_from_row(r):\n",
    "    if r.price_usd_per_m2 > 0:\n",
    "        r.surface_total_in_m2 = r.price_aprox_usd / r.price_usd_per_m2\n",
    "    return r\n",
    "\n",
    "na_surface_total_mask = data['surface_total_in_m2'].isna()\n",
    "\n",
    "calc_surface_total_m2_mask = \\\n",
    "    data['price_aprox_usd'].notna() & \\\n",
    "    data['price_usd_per_m2'].notna() & \\\n",
    "    data['surface_total_in_m2'].isna()\n",
    "\n",
    "data[calc_surface_total_m2_mask] = data[calc_surface_total_m2_mask].apply(\n",
    "    fill_surface_total_m2_from_row, axis=1)\n",
    "\n",
    "print(\"NA surface_total_in_m2 (0): {0}\".format(na_surface_total_mask.sum()))\n",
    "print(\"NA surface_total_in_m2 (1): {0}\".format(data[\"surface_total_in_m2\"].isna().sum()))"
   ]
  },
  {
   "cell_type": "code",
   "execution_count": 113,
   "metadata": {},
   "outputs": [],
   "source": [
    "# Eliminamos columnas\n",
    "data = drop_columns(data, ['expenses', 'lat-lon', 'image_thumbnail',\n",
    "                           'place_with_parent_names', 'properati_url',\n",
    "                           'Unnamed: 0',\n",
    "                           'price', 'currency', 'title', 'description'])"
   ]
  },
  {
   "cell_type": "code",
   "execution_count": 114,
   "metadata": {},
   "outputs": [
    {
     "data": {
      "text/html": [
       "<div>\n",
       "<style scoped>\n",
       "    .dataframe tbody tr th:only-of-type {\n",
       "        vertical-align: middle;\n",
       "    }\n",
       "\n",
       "    .dataframe tbody tr th {\n",
       "        vertical-align: top;\n",
       "    }\n",
       "\n",
       "    .dataframe thead th {\n",
       "        text-align: right;\n",
       "    }\n",
       "</style>\n",
       "<table border=\"1\" class=\"dataframe\">\n",
       "  <thead>\n",
       "    <tr style=\"text-align: right;\">\n",
       "      <th></th>\n",
       "      <th>total</th>\n",
       "      <th>percent</th>\n",
       "    </tr>\n",
       "  </thead>\n",
       "  <tbody>\n",
       "    <tr>\n",
       "      <th>lon</th>\n",
       "      <td>8299</td>\n",
       "      <td>0.071023</td>\n",
       "    </tr>\n",
       "    <tr>\n",
       "      <th>price_aprox_local_currency</th>\n",
       "      <td>13094</td>\n",
       "      <td>0.112058</td>\n",
       "    </tr>\n",
       "    <tr>\n",
       "      <th>surface_total_in_m2</th>\n",
       "      <td>10584</td>\n",
       "      <td>0.090578</td>\n",
       "    </tr>\n",
       "    <tr>\n",
       "      <th>price_per_m2</th>\n",
       "      <td>21482</td>\n",
       "      <td>0.183843</td>\n",
       "    </tr>\n",
       "    <tr>\n",
       "      <th>rooms</th>\n",
       "      <td>50552</td>\n",
       "      <td>0.432623</td>\n",
       "    </tr>\n",
       "    <tr>\n",
       "      <th>lat</th>\n",
       "      <td>8299</td>\n",
       "      <td>0.071023</td>\n",
       "    </tr>\n",
       "    <tr>\n",
       "      <th>floor</th>\n",
       "      <td>102714</td>\n",
       "      <td>0.879024</td>\n",
       "    </tr>\n",
       "    <tr>\n",
       "      <th>surface_covered_in_m2</th>\n",
       "      <td>15184</td>\n",
       "      <td>0.129944</td>\n",
       "    </tr>\n",
       "    <tr>\n",
       "      <th>geonames_id</th>\n",
       "      <td>18557</td>\n",
       "      <td>0.158810</td>\n",
       "    </tr>\n",
       "    <tr>\n",
       "      <th>price_usd_per_m2</th>\n",
       "      <td>21482</td>\n",
       "      <td>0.183843</td>\n",
       "    </tr>\n",
       "    <tr>\n",
       "      <th>price_aprox_usd</th>\n",
       "      <td>13094</td>\n",
       "      <td>0.112058</td>\n",
       "    </tr>\n",
       "  </tbody>\n",
       "</table>\n",
       "</div>"
      ],
      "text/plain": [
       "                             total   percent\n",
       "lon                           8299  0.071023\n",
       "price_aprox_local_currency   13094  0.112058\n",
       "surface_total_in_m2          10584  0.090578\n",
       "price_per_m2                 21482  0.183843\n",
       "rooms                        50552  0.432623\n",
       "lat                           8299  0.071023\n",
       "floor                       102714  0.879024\n",
       "surface_covered_in_m2        15184  0.129944\n",
       "geonames_id                  18557  0.158810\n",
       "price_usd_per_m2             21482  0.183843\n",
       "price_aprox_usd              13094  0.112058"
      ]
     },
     "execution_count": 114,
     "metadata": {},
     "output_type": "execute_result"
    }
   ],
   "source": [
    "# Distribución NA - Fase 1 con Faltantes\n",
    "freqna = get_freq_na(data)\n",
    "freqna"
   ]
  },
  {
   "cell_type": "code",
   "execution_count": 85,
   "metadata": {},
   "outputs": [
    {
     "data": {
      "text/plain": [
       "<matplotlib.axes._subplots.AxesSubplot at 0x7f6a5bd85b90>"
      ]
     },
     "execution_count": 85,
     "metadata": {},
     "output_type": "execute_result"
    },
    {
     "data": {
      "image/png": "[encoded data removed]",
      "text/plain": [
       "<Figure size 432x288 with 1 Axes>"
      ]
     },
     "metadata": {
      "needs_background": "light"
     },
     "output_type": "display_data"
    }
   ],
   "source": [
    "freqna['total'].plot.bar(title='Distribución de NA - Fase 1 con Faltantes')"
   ]
  },
  {
   "cell_type": "code",
   "execution_count": 118,
   "metadata": {},
   "outputs": [
    {
     "data": {
      "text/html": [
       "<div>\n",
       "<style scoped>\n",
       "    .dataframe tbody tr th:only-of-type {\n",
       "        vertical-align: middle;\n",
       "    }\n",
       "\n",
       "    .dataframe tbody tr th {\n",
       "        vertical-align: top;\n",
       "    }\n",
       "\n",
       "    .dataframe thead th {\n",
       "        text-align: right;\n",
       "    }\n",
       "</style>\n",
       "<table border=\"1\" class=\"dataframe\">\n",
       "  <thead>\n",
       "    <tr style=\"text-align: right;\">\n",
       "      <th></th>\n",
       "      <th>pais</th>\n",
       "      <th>estado</th>\n",
       "      <th>localidad</th>\n",
       "      <th>op</th>\n",
       "      <th>tipo</th>\n",
       "      <th>geoid</th>\n",
       "      <th>lat</th>\n",
       "      <th>lng</th>\n",
       "      <th>precio_usd</th>\n",
       "      <th>precio_ars</th>\n",
       "      <th>precio_m2_ars</th>\n",
       "      <th>precio_m2_usd</th>\n",
       "      <th>superficie_total</th>\n",
       "      <th>superficie_cubierta</th>\n",
       "      <th>ambientes</th>\n",
       "      <th>piso</th>\n",
       "      <th>patio</th>\n",
       "      <th>parrilla</th>\n",
       "      <th>balcon</th>\n",
       "      <th>amenities</th>\n",
       "    </tr>\n",
       "  </thead>\n",
       "  <tbody>\n",
       "    <tr>\n",
       "      <th>3577.0</th>\n",
       "      <td>Argentina</td>\n",
       "      <td>Capital Federal</td>\n",
       "      <td>Mataderos</td>\n",
       "      <td>sell</td>\n",
       "      <td>PH</td>\n",
       "      <td>3430787.0</td>\n",
       "      <td>-34.661824</td>\n",
       "      <td>-58.508839</td>\n",
       "      <td>62000.0</td>\n",
       "      <td>1093959.0</td>\n",
       "      <td>1550.000000</td>\n",
       "      <td>1127.272727</td>\n",
       "      <td>55.0</td>\n",
       "      <td>40.0</td>\n",
       "      <td>2.0</td>\n",
       "      <td>NaN</td>\n",
       "      <td>1</td>\n",
       "      <td>0</td>\n",
       "      <td>0</td>\n",
       "      <td>1</td>\n",
       "    </tr>\n",
       "    <tr>\n",
       "      <th>4827.0</th>\n",
       "      <td>Argentina</td>\n",
       "      <td>Bs.As. G.B.A. Zona Sur</td>\n",
       "      <td>La Plata</td>\n",
       "      <td>sell</td>\n",
       "      <td>apartment</td>\n",
       "      <td>3432039.0</td>\n",
       "      <td>-34.903883</td>\n",
       "      <td>-57.964330</td>\n",
       "      <td>150000.0</td>\n",
       "      <td>2646675.0</td>\n",
       "      <td>NaN</td>\n",
       "      <td>NaN</td>\n",
       "      <td>NaN</td>\n",
       "      <td>NaN</td>\n",
       "      <td>NaN</td>\n",
       "      <td>NaN</td>\n",
       "      <td>0</td>\n",
       "      <td>0</td>\n",
       "      <td>1</td>\n",
       "      <td>2</td>\n",
       "    </tr>\n",
       "    <tr>\n",
       "      <th>3577.0</th>\n",
       "      <td>Argentina</td>\n",
       "      <td>Capital Federal</td>\n",
       "      <td>Mataderos</td>\n",
       "      <td>sell</td>\n",
       "      <td>apartment</td>\n",
       "      <td>3430787.0</td>\n",
       "      <td>-34.652262</td>\n",
       "      <td>-58.522982</td>\n",
       "      <td>72000.0</td>\n",
       "      <td>1270404.0</td>\n",
       "      <td>1309.090909</td>\n",
       "      <td>1309.090909</td>\n",
       "      <td>55.0</td>\n",
       "      <td>55.0</td>\n",
       "      <td>2.0</td>\n",
       "      <td>3.0</td>\n",
       "      <td>0</td>\n",
       "      <td>0</td>\n",
       "      <td>0</td>\n",
       "      <td>0</td>\n",
       "    </tr>\n",
       "    <tr>\n",
       "      <th>4122.0</th>\n",
       "      <td>Argentina</td>\n",
       "      <td>Capital Federal</td>\n",
       "      <td>Liniers</td>\n",
       "      <td>sell</td>\n",
       "      <td>PH</td>\n",
       "      <td>3431333.0</td>\n",
       "      <td>-34.647797</td>\n",
       "      <td>-58.516424</td>\n",
       "      <td>95000.0</td>\n",
       "      <td>1676227.5</td>\n",
       "      <td>NaN</td>\n",
       "      <td>NaN</td>\n",
       "      <td>NaN</td>\n",
       "      <td>NaN</td>\n",
       "      <td>3.0</td>\n",
       "      <td>NaN</td>\n",
       "      <td>1</td>\n",
       "      <td>0</td>\n",
       "      <td>0</td>\n",
       "      <td>1</td>\n",
       "    </tr>\n",
       "    <tr>\n",
       "      <th>NaN</th>\n",
       "      <td>Argentina</td>\n",
       "      <td>Buenos Aires Costa Atlántica</td>\n",
       "      <td>Centro</td>\n",
       "      <td>sell</td>\n",
       "      <td>apartment</td>\n",
       "      <td>3435548.0</td>\n",
       "      <td>-38.002626</td>\n",
       "      <td>-57.549447</td>\n",
       "      <td>64000.0</td>\n",
       "      <td>1129248.0</td>\n",
       "      <td>1828.571429</td>\n",
       "      <td>1828.571429</td>\n",
       "      <td>35.0</td>\n",
       "      <td>35.0</td>\n",
       "      <td>2.0</td>\n",
       "      <td>NaN</td>\n",
       "      <td>0</td>\n",
       "      <td>0</td>\n",
       "      <td>0</td>\n",
       "      <td>0</td>\n",
       "    </tr>\n",
       "  </tbody>\n",
       "</table>\n",
       "</div>"
      ],
      "text/plain": [
       "             pais                        estado  localidad    op       tipo  \\\n",
       "3577.0  Argentina               Capital Federal  Mataderos  sell         PH   \n",
       "4827.0  Argentina        Bs.As. G.B.A. Zona Sur   La Plata  sell  apartment   \n",
       "3577.0  Argentina               Capital Federal  Mataderos  sell  apartment   \n",
       "4122.0  Argentina               Capital Federal    Liniers  sell         PH   \n",
       "NaN     Argentina  Buenos Aires Costa Atlántica     Centro  sell  apartment   \n",
       "\n",
       "            geoid        lat        lng  precio_usd  precio_ars  \\\n",
       "3577.0  3430787.0 -34.661824 -58.508839     62000.0   1093959.0   \n",
       "4827.0  3432039.0 -34.903883 -57.964330    150000.0   2646675.0   \n",
       "3577.0  3430787.0 -34.652262 -58.522982     72000.0   1270404.0   \n",
       "4122.0  3431333.0 -34.647797 -58.516424     95000.0   1676227.5   \n",
       "NaN     3435548.0 -38.002626 -57.549447     64000.0   1129248.0   \n",
       "\n",
       "        precio_m2_ars  precio_m2_usd  superficie_total  superficie_cubierta  \\\n",
       "3577.0    1550.000000    1127.272727              55.0                 40.0   \n",
       "4827.0            NaN            NaN               NaN                  NaN   \n",
       "3577.0    1309.090909    1309.090909              55.0                 55.0   \n",
       "4122.0            NaN            NaN               NaN                  NaN   \n",
       "NaN       1828.571429    1828.571429              35.0                 35.0   \n",
       "\n",
       "        ambientes  piso  patio  parrilla  balcon  amenities  \n",
       "3577.0        2.0   NaN      1         0       0          1  \n",
       "4827.0        NaN   NaN      0         0       1          2  \n",
       "3577.0        2.0   3.0      0         0       0          0  \n",
       "4122.0        3.0   NaN      1         0       0          1  \n",
       "NaN           2.0   NaN      0         0       0          0  "
      ]
     },
     "execution_count": 118,
     "metadata": {},
     "output_type": "execute_result"
    }
   ],
   "source": [
    "new_columns = {\n",
    "    'surface_total_in_m2'       : 'superficie_total', #7\n",
    "    'surface_covered_in_m2'     : 'superficie_cubierta', #10\n",
    "    'price_aprox_local_currency': 'precio_ars', #13\n",
    "    'price_aprox_usd'           : 'precio_usd', #6\n",
    "    'price_per_m2'              : 'precio_m2_ars', #3\n",
    "    'price_usd_per_m2'          : 'precio_m2_usd', #12\n",
    "    'rooms'                     : 'ambientes', #15\n",
    "    'lon'                       : 'lng', #14\n",
    "    'floor'                     : 'piso', #5\n",
    "    'geonames_id'               : 'geoid', #0\n",
    "    'place_name'                : 'localidad', #11\n",
    "    'state_name'                : 'estado', #4\n",
    "    'country_name'              : 'pais', #1\n",
    "    'property_type'             : 'tipo', #8\n",
    "    'operation'                 : 'op', #2\n",
    "    #'lat'                      : 'lat', #9\n",
    "}\n",
    "\n",
    "data.rename(columns=new_columns, inplace=True)\n",
    "\n",
    "new_order = [6,11, 0, 17, 18, 19, 13, 1, 21, 2, 10, 20, 9, 16, 12, 14,7,15,22,8]\n",
    "data = data[data.columns[new_order]]\n",
    "#print(data.columns)\n",
    "data.head(5)\n"
   ]
  },
  {
   "cell_type": "code",
   "execution_count": 45,
   "metadata": {},
   "outputs": [],
   "source": [
    "# Variables con escala logaritmica para los precios\n",
    "data['precio_ars_log']    = np.log(data['precio_ars'] + 1)\n",
    "data['precio_m2_ars_log'] = np.log(data['precio_m2_ars'] + 1)\n",
    "data['precio_usd_log']    = np.log(data['precio_usd'] + 1)\n",
    "data['precio_m2_usd_log'] = np.log(data['precio_m2_usd'] + 1)"
   ]
  },
  {
   "cell_type": "code",
   "execution_count": 47,
   "metadata": {},
   "outputs": [
    {
     "data": {
      "text/html": [
       "<div>\n",
       "<style scoped>\n",
       "    .dataframe tbody tr th:only-of-type {\n",
       "        vertical-align: middle;\n",
       "    }\n",
       "\n",
       "    .dataframe tbody tr th {\n",
       "        vertical-align: top;\n",
       "    }\n",
       "\n",
       "    .dataframe thead th {\n",
       "        text-align: right;\n",
       "    }\n",
       "</style>\n",
       "<table border=\"1\" class=\"dataframe\">\n",
       "  <thead>\n",
       "    <tr style=\"text-align: right;\">\n",
       "      <th></th>\n",
       "      <th>pais</th>\n",
       "      <th>estado</th>\n",
       "      <th>localidad</th>\n",
       "      <th>op</th>\n",
       "      <th>tipo</th>\n",
       "      <th>geoid</th>\n",
       "      <th>lat</th>\n",
       "      <th>lng</th>\n",
       "      <th>precio_usd</th>\n",
       "      <th>precio_ars</th>\n",
       "      <th>precio_m2_ars</th>\n",
       "      <th>precio_m2_usd</th>\n",
       "      <th>superficie_total</th>\n",
       "      <th>superficie_cubierta</th>\n",
       "      <th>ambientes</th>\n",
       "      <th>piso</th>\n",
       "      <th>precio_ars_log</th>\n",
       "      <th>precio_m2_ars_log</th>\n",
       "      <th>precio_usd_log</th>\n",
       "      <th>precio_m2_usd_log</th>\n",
       "    </tr>\n",
       "  </thead>\n",
       "  <tbody>\n",
       "    <tr>\n",
       "      <th>3577.0</th>\n",
       "      <td>Argentina</td>\n",
       "      <td>Capital Federal</td>\n",
       "      <td>Mataderos</td>\n",
       "      <td>sell</td>\n",
       "      <td>PH</td>\n",
       "      <td>3430787.0</td>\n",
       "      <td>-34.661824</td>\n",
       "      <td>-58.508839</td>\n",
       "      <td>62000.0</td>\n",
       "      <td>1093959.0</td>\n",
       "      <td>1550.000000</td>\n",
       "      <td>1127.272727</td>\n",
       "      <td>55.0</td>\n",
       "      <td>40.0</td>\n",
       "      <td>2.0</td>\n",
       "      <td>NaN</td>\n",
       "      <td>13.905315</td>\n",
       "      <td>7.346655</td>\n",
       "      <td>11.034906</td>\n",
       "      <td>7.028443</td>\n",
       "    </tr>\n",
       "    <tr>\n",
       "      <th>4827.0</th>\n",
       "      <td>Argentina</td>\n",
       "      <td>Bs.As. G.B.A. Zona Sur</td>\n",
       "      <td>La Plata</td>\n",
       "      <td>sell</td>\n",
       "      <td>apartment</td>\n",
       "      <td>3432039.0</td>\n",
       "      <td>-34.903883</td>\n",
       "      <td>-57.964330</td>\n",
       "      <td>150000.0</td>\n",
       "      <td>2646675.0</td>\n",
       "      <td>NaN</td>\n",
       "      <td>NaN</td>\n",
       "      <td>NaN</td>\n",
       "      <td>NaN</td>\n",
       "      <td>NaN</td>\n",
       "      <td>NaN</td>\n",
       "      <td>14.788815</td>\n",
       "      <td>NaN</td>\n",
       "      <td>11.918397</td>\n",
       "      <td>NaN</td>\n",
       "    </tr>\n",
       "    <tr>\n",
       "      <th>3577.0</th>\n",
       "      <td>Argentina</td>\n",
       "      <td>Capital Federal</td>\n",
       "      <td>Mataderos</td>\n",
       "      <td>sell</td>\n",
       "      <td>apartment</td>\n",
       "      <td>3430787.0</td>\n",
       "      <td>-34.652262</td>\n",
       "      <td>-58.522982</td>\n",
       "      <td>72000.0</td>\n",
       "      <td>1270404.0</td>\n",
       "      <td>1309.090909</td>\n",
       "      <td>1309.090909</td>\n",
       "      <td>55.0</td>\n",
       "      <td>55.0</td>\n",
       "      <td>2.0</td>\n",
       "      <td>3.0</td>\n",
       "      <td>14.054846</td>\n",
       "      <td>7.177852</td>\n",
       "      <td>11.184435</td>\n",
       "      <td>7.177852</td>\n",
       "    </tr>\n",
       "    <tr>\n",
       "      <th>4122.0</th>\n",
       "      <td>Argentina</td>\n",
       "      <td>Capital Federal</td>\n",
       "      <td>Liniers</td>\n",
       "      <td>sell</td>\n",
       "      <td>PH</td>\n",
       "      <td>3431333.0</td>\n",
       "      <td>-34.647797</td>\n",
       "      <td>-58.516424</td>\n",
       "      <td>95000.0</td>\n",
       "      <td>1676227.5</td>\n",
       "      <td>NaN</td>\n",
       "      <td>NaN</td>\n",
       "      <td>NaN</td>\n",
       "      <td>NaN</td>\n",
       "      <td>3.0</td>\n",
       "      <td>NaN</td>\n",
       "      <td>14.332057</td>\n",
       "      <td>NaN</td>\n",
       "      <td>11.461643</td>\n",
       "      <td>NaN</td>\n",
       "    </tr>\n",
       "    <tr>\n",
       "      <th>NaN</th>\n",
       "      <td>Argentina</td>\n",
       "      <td>Buenos Aires Costa Atlántica</td>\n",
       "      <td>Centro</td>\n",
       "      <td>sell</td>\n",
       "      <td>apartment</td>\n",
       "      <td>3435548.0</td>\n",
       "      <td>-38.002626</td>\n",
       "      <td>-57.549447</td>\n",
       "      <td>64000.0</td>\n",
       "      <td>1129248.0</td>\n",
       "      <td>1828.571429</td>\n",
       "      <td>1828.571429</td>\n",
       "      <td>35.0</td>\n",
       "      <td>35.0</td>\n",
       "      <td>2.0</td>\n",
       "      <td>NaN</td>\n",
       "      <td>13.937063</td>\n",
       "      <td>7.511837</td>\n",
       "      <td>11.066654</td>\n",
       "      <td>7.511837</td>\n",
       "    </tr>\n",
       "  </tbody>\n",
       "</table>\n",
       "</div>"
      ],
      "text/plain": [
       "             pais                        estado  localidad    op       tipo  \\\n",
       "3577.0  Argentina               Capital Federal  Mataderos  sell         PH   \n",
       "4827.0  Argentina        Bs.As. G.B.A. Zona Sur   La Plata  sell  apartment   \n",
       "3577.0  Argentina               Capital Federal  Mataderos  sell  apartment   \n",
       "4122.0  Argentina               Capital Federal    Liniers  sell         PH   \n",
       "NaN     Argentina  Buenos Aires Costa Atlántica     Centro  sell  apartment   \n",
       "\n",
       "            geoid        lat        lng  precio_usd  precio_ars  \\\n",
       "3577.0  3430787.0 -34.661824 -58.508839     62000.0   1093959.0   \n",
       "4827.0  3432039.0 -34.903883 -57.964330    150000.0   2646675.0   \n",
       "3577.0  3430787.0 -34.652262 -58.522982     72000.0   1270404.0   \n",
       "4122.0  3431333.0 -34.647797 -58.516424     95000.0   1676227.5   \n",
       "NaN     3435548.0 -38.002626 -57.549447     64000.0   1129248.0   \n",
       "\n",
       "        precio_m2_ars  precio_m2_usd  superficie_total  superficie_cubierta  \\\n",
       "3577.0    1550.000000    1127.272727              55.0                 40.0   \n",
       "4827.0            NaN            NaN               NaN                  NaN   \n",
       "3577.0    1309.090909    1309.090909              55.0                 55.0   \n",
       "4122.0            NaN            NaN               NaN                  NaN   \n",
       "NaN       1828.571429    1828.571429              35.0                 35.0   \n",
       "\n",
       "        ambientes  piso  precio_ars_log  precio_m2_ars_log  precio_usd_log  \\\n",
       "3577.0        2.0   NaN       13.905315           7.346655       11.034906   \n",
       "4827.0        NaN   NaN       14.788815                NaN       11.918397   \n",
       "3577.0        2.0   3.0       14.054846           7.177852       11.184435   \n",
       "4122.0        3.0   NaN       14.332057                NaN       11.461643   \n",
       "NaN           2.0   NaN       13.937063           7.511837       11.066654   \n",
       "\n",
       "        precio_m2_usd_log  \n",
       "3577.0           7.028443  \n",
       "4827.0                NaN  \n",
       "3577.0           7.177852  \n",
       "4122.0                NaN  \n",
       "NaN              7.511837  "
      ]
     },
     "execution_count": 47,
     "metadata": {},
     "output_type": "execute_result"
    }
   ],
   "source": [
    "data.head(5)"
   ]
  },
  {
   "cell_type": "code",
   "execution_count": null,
   "metadata": {},
   "outputs": [],
   "source": [
    "s"
   ]
  }
 ],
 "metadata": {
  "kernelspec": {
   "display_name": "Python 3",
   "language": "python",
   "name": "python3"
  },
  "language_info": {
   "codemirror_mode": {
    "name": "ipython",
    "version": 3
   },
   "file_extension": ".py",
   "mimetype": "text/x-python",
   "name": "python",
   "nbconvert_exporter": "python",
   "pygments_lexer": "ipython3",
   "version": "3.7.7"
  }
 },
 "nbformat": 4,
 "nbformat_minor": 4
}
